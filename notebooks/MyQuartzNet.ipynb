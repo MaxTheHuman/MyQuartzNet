{
  "nbformat": 4,
  "nbformat_minor": 0,
  "metadata": {
    "accelerator": "GPU",
    "colab": {
      "name": "MyQuartzNet_(2).ipynb",
      "provenance": [],
      "collapsed_sections": []
    },
    "kernelspec": {
      "display_name": "Python 3",
      "language": "python",
      "name": "python3"
    },
    "language_info": {
      "codemirror_mode": {
        "name": "ipython",
        "version": 3
      },
      "file_extension": ".py",
      "mimetype": "text/x-python",
      "name": "python",
      "nbconvert_exporter": "python",
      "pygments_lexer": "ipython3",
      "version": "3.8.5"
    }
  },
  "cells": [
    {
      "cell_type": "markdown",
      "metadata": {
        "id": "RSaK9X3wZkSU"
      },
      "source": [
        "# Реализация QuartzNet"
      ]
    },
    {
      "cell_type": "markdown",
      "metadata": {
        "id": "5uNg1PavOtn1"
      },
      "source": [
        "Для выполнения данного ноутбука нужно иметь распакованный LJSpeech-1.1 на гугл диске<br>\n",
        "Подтянем все зависимости"
      ]
    },
    {
      "cell_type": "code",
      "metadata": {
        "id": "6s4VswkxaCYr",
        "outputId": "3ab6165b-f364-48cc-c524-a9fe907e5462",
        "colab": {
          "base_uri": "https://localhost:8080/",
          "height": 92
        }
      },
      "source": [
        "!pip install torchaudio"
      ],
      "execution_count": 1,
      "outputs": [
        {
          "output_type": "stream",
          "text": [
            "Requirement already satisfied: torchaudio in /usr/local/lib/python3.6/dist-packages (0.6.0)\n",
            "Requirement already satisfied: torch==1.6.0 in /usr/local/lib/python3.6/dist-packages (from torchaudio) (1.6.0+cu101)\n",
            "Requirement already satisfied: future in /usr/local/lib/python3.6/dist-packages (from torch==1.6.0->torchaudio) (0.16.0)\n",
            "Requirement already satisfied: numpy in /usr/local/lib/python3.6/dist-packages (from torch==1.6.0->torchaudio) (1.18.5)\n"
          ],
          "name": "stdout"
        }
      ]
    },
    {
      "cell_type": "code",
      "metadata": {
        "id": "4cIU95C3iM82",
        "outputId": "8169525b-50b9-447b-b3ca-e37b79aa4bbf",
        "colab": {
          "base_uri": "https://localhost:8080/",
          "height": 485
        }
      },
      "source": [
        "!pip install wandb"
      ],
      "execution_count": 2,
      "outputs": [
        {
          "output_type": "stream",
          "text": [
            "Requirement already satisfied: wandb in /usr/local/lib/python3.6/dist-packages (0.10.7)\n",
            "Requirement already satisfied: six>=1.13.0 in /usr/local/lib/python3.6/dist-packages (from wandb) (1.15.0)\n",
            "Requirement already satisfied: protobuf>=3.12.0 in /usr/local/lib/python3.6/dist-packages (from wandb) (3.12.4)\n",
            "Requirement already satisfied: Click>=7.0 in /usr/local/lib/python3.6/dist-packages (from wandb) (7.1.2)\n",
            "Requirement already satisfied: requests<3,>=2.0.0 in /usr/local/lib/python3.6/dist-packages (from wandb) (2.23.0)\n",
            "Requirement already satisfied: python-dateutil>=2.6.1 in /usr/local/lib/python3.6/dist-packages (from wandb) (2.8.1)\n",
            "Requirement already satisfied: configparser>=3.8.1 in /usr/local/lib/python3.6/dist-packages (from wandb) (5.0.1)\n",
            "Requirement already satisfied: docker-pycreds>=0.4.0 in /usr/local/lib/python3.6/dist-packages (from wandb) (0.4.0)\n",
            "Requirement already satisfied: sentry-sdk>=0.4.0 in /usr/local/lib/python3.6/dist-packages (from wandb) (0.19.0)\n",
            "Requirement already satisfied: shortuuid>=0.5.0 in /usr/local/lib/python3.6/dist-packages (from wandb) (1.0.1)\n",
            "Requirement already satisfied: GitPython>=1.0.0 in /usr/local/lib/python3.6/dist-packages (from wandb) (3.1.9)\n",
            "Requirement already satisfied: watchdog>=0.8.3 in /usr/local/lib/python3.6/dist-packages (from wandb) (0.10.3)\n",
            "Requirement already satisfied: PyYAML in /usr/local/lib/python3.6/dist-packages (from wandb) (3.13)\n",
            "Requirement already satisfied: subprocess32>=3.5.3 in /usr/local/lib/python3.6/dist-packages (from wandb) (3.5.4)\n",
            "Requirement already satisfied: promise<3,>=2.0 in /usr/local/lib/python3.6/dist-packages (from wandb) (2.3)\n",
            "Requirement already satisfied: psutil>=5.0.0 in /usr/local/lib/python3.6/dist-packages (from wandb) (5.4.8)\n",
            "Requirement already satisfied: setuptools in /usr/local/lib/python3.6/dist-packages (from protobuf>=3.12.0->wandb) (50.3.0)\n",
            "Requirement already satisfied: chardet<4,>=3.0.2 in /usr/local/lib/python3.6/dist-packages (from requests<3,>=2.0.0->wandb) (3.0.4)\n",
            "Requirement already satisfied: certifi>=2017.4.17 in /usr/local/lib/python3.6/dist-packages (from requests<3,>=2.0.0->wandb) (2020.6.20)\n",
            "Requirement already satisfied: urllib3!=1.25.0,!=1.25.1,<1.26,>=1.21.1 in /usr/local/lib/python3.6/dist-packages (from requests<3,>=2.0.0->wandb) (1.24.3)\n",
            "Requirement already satisfied: idna<3,>=2.5 in /usr/local/lib/python3.6/dist-packages (from requests<3,>=2.0.0->wandb) (2.10)\n",
            "Requirement already satisfied: gitdb<5,>=4.0.1 in /usr/local/lib/python3.6/dist-packages (from GitPython>=1.0.0->wandb) (4.0.5)\n",
            "Requirement already satisfied: pathtools>=0.1.1 in /usr/local/lib/python3.6/dist-packages (from watchdog>=0.8.3->wandb) (0.1.2)\n",
            "Requirement already satisfied: smmap<4,>=3.0.1 in /usr/local/lib/python3.6/dist-packages (from gitdb<5,>=4.0.1->GitPython>=1.0.0->wandb) (3.0.4)\n"
          ],
          "name": "stdout"
        }
      ]
    },
    {
      "cell_type": "code",
      "metadata": {
        "id": "iZcEJUphZkSW"
      },
      "source": [
        "import torch\n",
        "import torchaudio\n",
        "import pandas as pd\n",
        "import multiprocessing as mp\n",
        "from torch import nn\n",
        "from matplotlib import pyplot as plt\n",
        "from torch.utils.data import Dataset, DataLoader, random_split\n",
        "from google.colab import files\n",
        "\n",
        "# %pylab inline\n",
        "# from itertools import islice\n",
        "# from scipy.signal import hann\n",
        "# from scipy.io import wavfile\n"
      ],
      "execution_count": 3,
      "outputs": []
    },
    {
      "cell_type": "markdown",
      "metadata": {
        "id": "xJRrqyHlPLGz"
      },
      "source": [
        "подключим логгер"
      ]
    },
    {
      "cell_type": "code",
      "metadata": {
        "id": "W5TnSNxYicUt",
        "outputId": "173f7d46-515b-4916-cdb3-67df5b6aaf8e",
        "colab": {
          "base_uri": "https://localhost:8080/",
          "height": 623
        }
      },
      "source": [
        "import wandb\n",
        "!wandb login 32f7df3c332802b239b3a621db53985fe17d319e\n",
        "wandb.init(project=\"quartznet-implementation\")"
      ],
      "execution_count": 4,
      "outputs": [
        {
          "output_type": "stream",
          "text": [
            "\u001b[34m\u001b[1mwandb\u001b[0m: Appending key for api.wandb.ai to your netrc file: /root/.netrc\n"
          ],
          "name": "stdout"
        },
        {
          "output_type": "stream",
          "text": [
            "\u001b[34m\u001b[1mwandb\u001b[0m: Currently logged in as: \u001b[33mmaxthehuman\u001b[0m (use `wandb login --relogin` to force relogin)\n"
          ],
          "name": "stderr"
        },
        {
          "output_type": "display_data",
          "data": {
            "text/html": [
              "\n",
              "                Tracking run with wandb version 0.10.7<br/>\n",
              "                Syncing run <strong style=\"color:#cdcd00\">comic-paper-4</strong> to <a href=\"https://wandb.ai\" target=\"_blank\">Weights & Biases</a> <a href=\"https://docs.wandb.com/integrations/jupyter.html\" target=\"_blank\">(Documentation)</a>.<br/>\n",
              "                Project page: <a href=\"https://wandb.ai/maxthehuman/quartznet-implementation\" target=\"_blank\">https://wandb.ai/maxthehuman/quartznet-implementation</a><br/>\n",
              "                Run page: <a href=\"https://wandb.ai/maxthehuman/quartznet-implementation/runs/y22jnjbc\" target=\"_blank\">https://wandb.ai/maxthehuman/quartznet-implementation/runs/y22jnjbc</a><br/>\n",
              "                Run data is saved locally in <code>wandb/run-20201018_151407-y22jnjbc</code><br/><br/>\n",
              "            "
            ],
            "text/plain": [
              "<IPython.core.display.HTML object>"
            ]
          },
          "metadata": {
            "tags": []
          }
        },
        {
          "output_type": "execute_result",
          "data": {
            "text/plain": [
              "<wandb.sdk.wandb_run.Run at 0x7fe7cc34b8d0>"
            ],
            "text/html": [
              "<h1>Run(y22jnjbc)</h1><p></p><iframe src=\"https://wandb.ai/maxthehuman/quartznet-implementation/runs/y22jnjbc\" style=\"border:none;width:100%;height:400px\"></iframe>"
            ]
          },
          "metadata": {
            "tags": []
          },
          "execution_count": 4
        }
      ]
    },
    {
      "cell_type": "markdown",
      "metadata": {
        "id": "r-ivUF3uPJxD"
      },
      "source": [
        "Подключим диск"
      ]
    },
    {
      "cell_type": "code",
      "metadata": {
        "id": "2UsRgQb4j5eK",
        "outputId": "ba122259-3486-4689-d36e-fca47e2d5091",
        "colab": {
          "base_uri": "https://localhost:8080/",
          "height": 36
        }
      },
      "source": [
        "from google.colab import drive\n",
        "drive.mount('/content/drive')"
      ],
      "execution_count": 5,
      "outputs": [
        {
          "output_type": "stream",
          "text": [
            "Drive already mounted at /content/drive; to attempt to forcibly remount, call drive.mount(\"/content/drive\", force_remount=True).\n"
          ],
          "name": "stdout"
        }
      ]
    },
    {
      "cell_type": "markdown",
      "metadata": {
        "id": "3MlsG9MfPWV1"
      },
      "source": [
        "Будем использовать гпу"
      ]
    },
    {
      "cell_type": "code",
      "metadata": {
        "id": "TfdETTEobiec",
        "outputId": "44dc14dd-30af-4701-a131-6c96274a3e81",
        "colab": {
          "base_uri": "https://localhost:8080/",
          "height": 36
        }
      },
      "source": [
        "use_cuda = torch.cuda.is_available()\n",
        "torch.manual_seed(7)\n",
        "device = torch.device(\"cuda\" if use_cuda else \"cpu\")\n",
        "print(device)\n",
        "# mp.set_start_method('fork', True)\n",
        "# mp.set_start_method('spawn', True)"
      ],
      "execution_count": 6,
      "outputs": [
        {
          "output_type": "stream",
          "text": [
            "cuda\n"
          ],
          "name": "stdout"
        }
      ]
    },
    {
      "cell_type": "markdown",
      "metadata": {
        "id": "_afaiIOPPdHP"
      },
      "source": [
        "Конфиг"
      ]
    },
    {
      "cell_type": "code",
      "metadata": {
        "id": "4cpwcQhTZkSf"
      },
      "source": [
        "# path_to_dataset = \"../resources/LJSpeech-1.1/\"\n",
        "path_to_dataset = \"drive/My Drive/LJSpeech-1.1/\"\n",
        "path_to_metadata = path_to_dataset + \"metadata.csv\"\n",
        "path_to_model = \"drive/My Drive/ASR/model.pt\"\n",
        "path_to_weights_dict = \"drive/My Drive/ASR/state_dict_model.pt\"\n",
        "\n",
        "batch_size = 32\n",
        "epochs = 200\n",
        "n_mels = 64\n",
        "B = 3\n",
        "R = 5\n",
        "\n",
        "freq_mask_param = 15\n",
        "time_mask_param = 25\n",
        "\n",
        "column_names = ['wav_filename', 'text_with_numbers', 'text_in_letters'] \n",
        "max_str_len = 100"
      ],
      "execution_count": 7,
      "outputs": []
    },
    {
      "cell_type": "markdown",
      "metadata": {
        "id": "cWHf_hOxPizT"
      },
      "source": [
        "В датасете есть записи с не-ASCII символами (например, французские буквы), уберём их для простоты"
      ]
    },
    {
      "cell_type": "code",
      "metadata": {
        "id": "pJiXJiH_ZkSk"
      },
      "source": [
        "def filter_non_ascii(string):\n",
        "    try:\n",
        "        str(string).encode('ascii')\n",
        "    except UnicodeEncodeError:\n",
        "        return False\n",
        "\n",
        "    return True"
      ],
      "execution_count": 9,
      "outputs": []
    },
    {
      "cell_type": "markdown",
      "metadata": {
        "id": "S_64yZmCP-NN"
      },
      "source": [
        "Загружаем метаинформацию о датасете"
      ]
    },
    {
      "cell_type": "code",
      "metadata": {
        "id": "4CkKUoVRZkSp"
      },
      "source": [
        "LJdata = pd.read_csv(path_to_metadata, sep='|', names=column_names, header=None)\n",
        "LJdata.drop(columns=['text_with_numbers'], inplace=True)\n",
        "LJdata['text_in_letters'] = LJdata['text_in_letters'].apply(lambda x: str(x))\n",
        "LJdata = LJdata[LJdata['text_in_letters'].apply(lambda x: len(x) <= max_str_len)]\n",
        "LJdata = LJdata[LJdata['text_in_letters'].apply(filter_non_ascii)]"
      ],
      "execution_count": 10,
      "outputs": []
    },
    {
      "cell_type": "code",
      "metadata": {
        "id": "A0pBypBbZkSx"
      },
      "source": [
        "LJdata = LJdata[0:32*100]"
      ],
      "execution_count": 11,
      "outputs": []
    },
    {
      "cell_type": "code",
      "metadata": {
        "id": "JC0MUu0UweRT",
        "outputId": "20cf0eae-6c62-46e3-ced2-27be23db4001",
        "colab": {
          "base_uri": "https://localhost:8080/",
          "height": 415
        }
      },
      "source": [
        "LJdata"
      ],
      "execution_count": 12,
      "outputs": [
        {
          "output_type": "execute_result",
          "data": {
            "text/html": [
              "<div>\n",
              "<style scoped>\n",
              "    .dataframe tbody tr th:only-of-type {\n",
              "        vertical-align: middle;\n",
              "    }\n",
              "\n",
              "    .dataframe tbody tr th {\n",
              "        vertical-align: top;\n",
              "    }\n",
              "\n",
              "    .dataframe thead th {\n",
              "        text-align: right;\n",
              "    }\n",
              "</style>\n",
              "<table border=\"1\" class=\"dataframe\">\n",
              "  <thead>\n",
              "    <tr style=\"text-align: right;\">\n",
              "      <th></th>\n",
              "      <th>wav_filename</th>\n",
              "      <th>text_in_letters</th>\n",
              "    </tr>\n",
              "  </thead>\n",
              "  <tbody>\n",
              "    <tr>\n",
              "      <th>1</th>\n",
              "      <td>LJ001-0002</td>\n",
              "      <td>in being comparatively modern.</td>\n",
              "    </tr>\n",
              "    <tr>\n",
              "      <th>3</th>\n",
              "      <td>LJ001-0004</td>\n",
              "      <td>produced the block books, which were the immed...</td>\n",
              "    </tr>\n",
              "    <tr>\n",
              "      <th>5</th>\n",
              "      <td>LJ001-0006</td>\n",
              "      <td>And it is worth mention in passing that, as an...</td>\n",
              "    </tr>\n",
              "    <tr>\n",
              "      <th>7</th>\n",
              "      <td>LJ001-0008</td>\n",
              "      <td>has never been surpassed.</td>\n",
              "    </tr>\n",
              "    <tr>\n",
              "      <th>10</th>\n",
              "      <td>LJ001-0011</td>\n",
              "      <td>it is of the first importance that the letter ...</td>\n",
              "    </tr>\n",
              "    <tr>\n",
              "      <th>...</th>\n",
              "      <td>...</td>\n",
              "      <td>...</td>\n",
              "    </tr>\n",
              "    <tr>\n",
              "      <th>6526</th>\n",
              "      <td>LJ023-0073</td>\n",
              "      <td>The Court claimed the power to declare it unco...</td>\n",
              "    </tr>\n",
              "    <tr>\n",
              "      <th>6527</th>\n",
              "      <td>LJ023-0074</td>\n",
              "      <td>But a little later the Court itself admitted</td>\n",
              "    </tr>\n",
              "    <tr>\n",
              "      <th>6530</th>\n",
              "      <td>LJ023-0077</td>\n",
              "      <td>by which any law is passed,</td>\n",
              "    </tr>\n",
              "    <tr>\n",
              "      <th>6532</th>\n",
              "      <td>LJ023-0079</td>\n",
              "      <td>But since the rise of the modern movement for ...</td>\n",
              "    </tr>\n",
              "    <tr>\n",
              "      <th>6533</th>\n",
              "      <td>LJ023-0080</td>\n",
              "      <td>the Court has more and more often and more and...</td>\n",
              "    </tr>\n",
              "  </tbody>\n",
              "</table>\n",
              "<p>3200 rows × 2 columns</p>\n",
              "</div>"
            ],
            "text/plain": [
              "     wav_filename                                    text_in_letters\n",
              "1      LJ001-0002                     in being comparatively modern.\n",
              "3      LJ001-0004  produced the block books, which were the immed...\n",
              "5      LJ001-0006  And it is worth mention in passing that, as an...\n",
              "7      LJ001-0008                          has never been surpassed.\n",
              "10     LJ001-0011  it is of the first importance that the letter ...\n",
              "...           ...                                                ...\n",
              "6526   LJ023-0073  The Court claimed the power to declare it unco...\n",
              "6527   LJ023-0074       But a little later the Court itself admitted\n",
              "6530   LJ023-0077                        by which any law is passed,\n",
              "6532   LJ023-0079  But since the rise of the modern movement for ...\n",
              "6533   LJ023-0080  the Court has more and more often and more and...\n",
              "\n",
              "[3200 rows x 2 columns]"
            ]
          },
          "metadata": {
            "tags": []
          },
          "execution_count": 12
        }
      ]
    },
    {
      "cell_type": "code",
      "metadata": {
        "id": "s0Mu-YhUZkS2"
      },
      "source": [
        "mel_transform = torchaudio.transforms.MelSpectrogram(\n",
        "    sample_rate=22050,\n",
        "    n_fft=1024,\n",
        "    win_length=1024,\n",
        "    hop_length=256,\n",
        "    f_min=0,\n",
        "    f_max=8000,\n",
        "    n_mels=n_mels).to(device)"
      ],
      "execution_count": 13,
      "outputs": []
    },
    {
      "cell_type": "code",
      "metadata": {
        "id": "sb_HS1DOZkS8"
      },
      "source": [
        "class MyDataset(Dataset):\n",
        "    def __init__(self, data):\n",
        "        super(MyDataset, self).__init__()\n",
        "        self._data = data\n",
        "\n",
        "    def __getitem__(self, index: int):\n",
        "        wav_filename, text_in_letters = self._data.iloc[index]\n",
        "        path_to_file = path_to_dataset + \"wavs/\" + wav_filename + \".wav\"\n",
        "\n",
        "        waveform, sample_rate = torchaudio.load(path_to_file)\n",
        "        waveform = waveform.to(device)\n",
        "        spectrogram = mel_transform(waveform)\n",
        "        spectrogram = torch.log(spectrogram + 1e-9)\n",
        "\n",
        "        return spectrogram, text_in_letters , spectrogram.shape[0] // 2, len(text_in_letters)\n",
        "\n",
        "    def __len__(self):\n",
        "        return len(self._data)"
      ],
      "execution_count": 14,
      "outputs": []
    },
    {
      "cell_type": "code",
      "metadata": {
        "id": "hwM5Dm72ZkTD"
      },
      "source": [
        "my_dataset = MyDataset(LJdata)"
      ],
      "execution_count": 15,
      "outputs": []
    },
    {
      "cell_type": "markdown",
      "metadata": {
        "id": "33tNm_nmhiNQ"
      },
      "source": [
        "код ниже нужно выполнить два раза, на первый раз отваливается из-за диска"
      ]
    },
    {
      "cell_type": "code",
      "metadata": {
        "id": "dIIUN6GoZkTK",
        "outputId": "1359601b-938a-4ead-ef04-84e88eded1af",
        "colab": {
          "base_uri": "https://localhost:8080/",
          "height": 397
        }
      },
      "source": [
        "spec, lbl, spec_len, lbl_len = my_dataset.__getitem__(0)\n",
        "spec = spec.cpu()\n",
        "print(len(my_dataset))\n",
        "print(lbl)\n",
        "print(lbl_len)\n",
        "print(spec_len)\n",
        "\n",
        "plt.figure(figsize=(20, 5))\n",
        "plt.imshow(spec.squeeze())\n",
        "plt.show()"
      ],
      "execution_count": 16,
      "outputs": [
        {
          "output_type": "stream",
          "text": [
            "3200\n",
            "in being comparatively modern.\n",
            "30\n",
            "0\n"
          ],
          "name": "stdout"
        },
        {
          "output_type": "display_data",
          "data": {
            "image/png": "[encoded data removed]",
            "text/plain": [
              "<Figure size 1440x360 with 1 Axes>"
            ]
          },
          "metadata": {
            "tags": [],
            "needs_background": "light"
          }
        }
      ]
    },
    {
      "cell_type": "code",
      "metadata": {
        "id": "jY56bZ3sZkTP",
        "outputId": "556a57a0-d4d7-45b2-87df-c6f2cb261898",
        "colab": {
          "base_uri": "https://localhost:8080/",
          "height": 55
        }
      },
      "source": [
        "dataset_length = len(my_dataset)\n",
        "train_dataset_length = int(dataset_length * 0.95)\n",
        "test_dataset_length = dataset_length - train_dataset_length\n",
        "\n",
        "train_dataset, test_dataset = random_split(\n",
        "    dataset=my_dataset,\n",
        "    lengths=[train_dataset_length, test_dataset_length],\n",
        "    generator=torch.Generator().manual_seed(21)\n",
        ")\n",
        "\n",
        "print(\"train set size:\", train_dataset_length, \"\\ntest set size:\", test_dataset_length)"
      ],
      "execution_count": 17,
      "outputs": [
        {
          "output_type": "stream",
          "text": [
            "train set size: 3040 \n",
            "test set size: 160\n"
          ],
          "name": "stdout"
        }
      ]
    },
    {
      "cell_type": "code",
      "metadata": {
        "id": "ANT8K1pAZkTU"
      },
      "source": [
        "def augment(waveform):\n",
        "    freq_transform = torchaudio.transforms.FrequencyMasking(freq_mask_param=freq_mask_param)\n",
        "    time_transform = torchaudio.transforms.TimeMasking(time_mask_param=time_mask_param)\n",
        "    return time_transform(freq_transform(waveform))"
      ],
      "execution_count": 18,
      "outputs": []
    },
    {
      "cell_type": "code",
      "metadata": {
        "id": "Ehe4U8XUZkTZ"
      },
      "source": [
        "char2int = {\n",
        "        '#': 0,\n",
        "        ' ': 1,\n",
        "        'a': 2,\n",
        "        'b': 3,\n",
        "        'c': 4,\n",
        "        'd': 5,\n",
        "        'e': 6,\n",
        "        'f': 7,\n",
        "        'g': 8,\n",
        "        'h': 9,\n",
        "        'i': 10,\n",
        "        'j': 11,\n",
        "        'k': 12,\n",
        "        'l': 13,\n",
        "        'm': 14,\n",
        "        'n': 15,\n",
        "        'o': 16,\n",
        "        'p': 17,\n",
        "        'q': 18,\n",
        "        'r': 19,\n",
        "        's': 20,\n",
        "        't': 21,\n",
        "        'u': 22,\n",
        "        'v': 23,\n",
        "        'w': 24,\n",
        "        'x': 25,\n",
        "        'y': 26,\n",
        "        'z': 27\n",
        "    }\n",
        "\n",
        "int2char = {\n",
        "        0: '#',\n",
        "        1: ' ',\n",
        "        2: 'a',\n",
        "        3: 'b',\n",
        "        4: 'c',\n",
        "        5: 'd',\n",
        "        6: 'e',\n",
        "        7: 'f',\n",
        "        8: 'g',\n",
        "        9: 'h',\n",
        "        10: 'i',\n",
        "        11: 'j',\n",
        "        12: 'k',\n",
        "        13: 'l',\n",
        "        14: 'm',\n",
        "        15: 'n',\n",
        "        16: 'o',\n",
        "        17: 'p',\n",
        "        18: 'q',\n",
        "        19: 'r',\n",
        "        20: 's',\n",
        "        21: 't',\n",
        "        22: 'u',\n",
        "        23: 'v',\n",
        "        24: 'w',\n",
        "        25: 'x',\n",
        "        26: 'y',\n",
        "        27: 'z'\n",
        "    }    "
      ],
      "execution_count": 19,
      "outputs": []
    },
    {
      "cell_type": "code",
      "metadata": {
        "id": "BgV7kjXUZkTf"
      },
      "source": [
        "def text_transform(text_in_letters):\n",
        "    int_array = []\n",
        "    for c in text_in_letters:\n",
        "        if c in char2int:\n",
        "            int_array.append(char2int[c])\n",
        "        \n",
        "    return int_array"
      ],
      "execution_count": 20,
      "outputs": []
    },
    {
      "cell_type": "code",
      "metadata": {
        "id": "9QryANKvZkTo"
      },
      "source": [
        "def collate_sequences(batch, is_test = False):\n",
        "    specs = []\n",
        "    labels = []\n",
        "    specs_len = []\n",
        "    labels_len = []\n",
        "    for (log_mel_spec, text_in_letters, spec_len, text_len) in batch:\n",
        "        # if not is_test:\n",
        "        #     log_mel_spec = augment(log_mel_spec)\n",
        "        specs.append(log_mel_spec.squeeze(0).transpose(0, 1))\n",
        "        specs_len.append(log_mel_spec.shape[-1]//2)\n",
        "        # print(log_mel_spec.shape)\n",
        "        text_in_ints = torch.Tensor(text_transform(text_in_letters))\n",
        "        labels.append(text_in_ints)\n",
        "        labels_len.append(len(text_in_ints))\n",
        "\n",
        "    specs = nn.utils.rnn.pad_sequence(sequences=specs, batch_first=True).transpose(1, 2)\n",
        "    labels = nn.utils.rnn.pad_sequence(sequences=labels, batch_first=True)\n",
        "\n",
        "    return specs, labels, specs_len, labels_len"
      ],
      "execution_count": 21,
      "outputs": []
    },
    {
      "cell_type": "code",
      "metadata": {
        "id": "AEWYbrEyZkTs"
      },
      "source": [
        "train_dataloader = DataLoader(\n",
        "            train_dataset,\n",
        "            batch_size=batch_size,\n",
        "            collate_fn=collate_sequences,\n",
        "            num_workers=0\n",
        "            # pin_memory=True\n",
        "        )\n",
        "\n",
        "test_dataloader = DataLoader(\n",
        "            test_dataset,\n",
        "            batch_size=batch_size,\n",
        "            collate_fn=lambda x: collate_sequences(x, True),\n",
        "            num_workers=0\n",
        "            # pin_memory=True\n",
        "        )"
      ],
      "execution_count": 22,
      "outputs": []
    },
    {
      "cell_type": "code",
      "metadata": {
        "id": "0K69igeWZkTw",
        "scrolled": false
      },
      "source": [
        "# mel_spec = torchaudio.transforms.MelSpectrogram(sample_rate=sample_rate, n_mels=n_mels)\n",
        "\n",
        "for i, (log_mel_spec, text_in_ints, spec_len, lbl_len) in enumerate(train_dataloader):\n",
        "    if (i % 1 == 0):\n",
        "        print(i)\n",
        "        print(log_mel_spec.shape)\n",
        "        print(spec_len, lbl_len)\n",
        "        # plt.figure(figsize=(20, 5))\n",
        "        # plt.imshow(log_mel_spec[0].squeeze())\n",
        "        # plt.show()\n"
      ],
      "execution_count": null,
      "outputs": []
    },
    {
      "cell_type": "code",
      "metadata": {
        "id": "EGGUJ2u8ZkT1"
      },
      "source": [
        "class Conv_BN_ReLU(nn.Module):\n",
        "    def __init__(self, in_channels, out_channels, kernel, stride = 1):\n",
        "        super(Conv_BN_ReLU, self).__init__()\n",
        "        \n",
        "        self.cnn = nn.Conv1d(\n",
        "            in_channels, out_channels, kernel, stride=stride, padding=kernel//2\n",
        "        )\n",
        "        self.batch_norm = nn.modules.batchnorm.BatchNorm1d(\n",
        "            num_features=out_channels\n",
        "        )\n",
        "        self.relu = nn.ReLU(inplace = False)\n",
        "\n",
        "    def forward(self, x):\n",
        "        x = self.cnn(x)\n",
        "        x = self.batch_norm(x)\n",
        "        x = self.relu(x)\n",
        "        return x  # (batch, channel, feature, time)"
      ],
      "execution_count": 23,
      "outputs": []
    },
    {
      "cell_type": "code",
      "metadata": {
        "id": "LeBtTIbEZkT4"
      },
      "source": [
        "class TCSConv_BN_ReLU(nn.Module):\n",
        "    def __init__(self, in_channels, out_channels, kernel):\n",
        "        super(TCSConv_BN_ReLU, self).__init__()\n",
        "\n",
        "        self.depthwise_conv = nn.Conv1d(\n",
        "            in_channels, in_channels, kernel_size=kernel, padding=kernel//2,\n",
        "            groups=4, bias=False\n",
        "        )\n",
        "        self.pointwise_conv = nn.Conv1d(\n",
        "            in_channels, out_channels, kernel_size=1, padding=0, bias=False\n",
        "        )\n",
        "        self.batch_norm = nn.modules.batchnorm.BatchNorm1d(\n",
        "            num_features=out_channels\n",
        "        )\n",
        "        self.relu = nn.ReLU(inplace = False)\n",
        "\n",
        "    def forward(self, x):\n",
        "        x = self.depthwise_conv(x)\n",
        "        x = self.pointwise_conv(x)\n",
        "        x = self.batch_norm(x)\n",
        "        x = self.relu(x)\n",
        "        return x  # (batch, channel, feature, time)"
      ],
      "execution_count": 24,
      "outputs": []
    },
    {
      "cell_type": "code",
      "metadata": {
        "id": "KISq4GG7-fmJ",
        "outputId": "a80d6c8a-f289-4dbc-de0d-da8404d0e0f9",
        "colab": {
          "base_uri": "https://localhost:8080/",
          "height": 55
        }
      },
      "source": [
        "print(\"R =\", R)\n",
        "print(\"B =\", B)"
      ],
      "execution_count": null,
      "outputs": [
        {
          "output_type": "stream",
          "text": [
            "R = 5\n",
            "B = 3\n"
          ],
          "name": "stdout"
        }
      ]
    },
    {
      "cell_type": "code",
      "metadata": {
        "id": "X6ufwT3rZkT8"
      },
      "source": [
        "class TCSBlock(nn.Module):\n",
        "    \"\"\"Layer normalization built for cnns input\"\"\"\n",
        "    def __init__(self, in_channels, out_channels, kernel):\n",
        "        super(TCSBlock, self).__init__()\n",
        "        \n",
        "        self.TCS_layers = nn.Sequential(*[\n",
        "            TCSConv_BN_ReLU(in_channels, out_channels, kernel)\n",
        "            for i in range(R)\n",
        "        ])\n",
        "        # self.TCS_layer_1 = TCSConv_BN_ReLU(in_channels=256, out_channels=256, kernel=33)\n",
        "        # self.TCS_layer_2 = TCSConv_BN_ReLU(in_channels=256, out_channels=256, kernel=39)\n",
        "        # self.TCS_layer_3 = TCSConv_BN_ReLU(in_channels=256, out_channels=512, kernel=51)\n",
        "        # self.TCS_layer_4 = TCSConv_BN_ReLU(in_channels=512, out_channels=512, kernel=63)\n",
        "        # self.TCS_layer_5 = TCSConv_BN_ReLU(in_channels=512, out_channels=512, kernel=75)\n",
        "        \n",
        "    def forward(self, x):\n",
        "        x_copy = x\n",
        "        x = self.TCS_layers(x)\n",
        "        # x = TCS_layer_1(x)\n",
        "        # x = TCS_layer_2(x)\n",
        "        # x = TCS_layer_3(x)\n",
        "        # x = TCS_layer_4(x)\n",
        "        # x = TCS_layer_5(x)\n",
        "        x += x_copy\n",
        "        return x  # (batch, channel, feature, time)"
      ],
      "execution_count": 25,
      "outputs": []
    },
    {
      "cell_type": "code",
      "metadata": {
        "id": "f7yP9D8eZkUB"
      },
      "source": [
        "class MainBlock(nn.Module):\n",
        "    def __init__(self):\n",
        "        super(MainBlock, self).__init__()\n",
        "        \n",
        "        self.TCSBlock_1 = TCSBlock(in_channels=256, out_channels=256, kernel=33)\n",
        "        self.TCSBlock_2 = TCSBlock(in_channels=256, out_channels=256, kernel=39)\n",
        "        self.helper_2_3 = Conv_BN_ReLU(in_channels=256, out_channels=512, kernel=51)\n",
        "        self.TCSBlock_3 = TCSBlock(in_channels=512, out_channels=512, kernel=51)\n",
        "        self.TCSBlock_4 = TCSBlock(in_channels=512, out_channels=512, kernel=63)\n",
        "        self.TCSBlock_5 = TCSBlock(in_channels=512, out_channels=512, kernel=75)\n",
        "\n",
        "    def forward(self, x):\n",
        "        # x (batch, channel, feature, time)\n",
        "        x = self.TCSBlock_1(x)\n",
        "        x = self.TCSBlock_2(x)\n",
        "        x = self.helper_2_3(x)\n",
        "        x = self.TCSBlock_3(x)\n",
        "        x = self.TCSBlock_4(x)\n",
        "        x = self.TCSBlock_5(x)\n",
        "        return x  # (batch, channel, feature, time)"
      ],
      "execution_count": 26,
      "outputs": []
    },
    {
      "cell_type": "code",
      "metadata": {
        "id": "z22_qb7-ZkUF"
      },
      "source": [
        "class ASR(nn.Module):\n",
        "    def __init__(self):\n",
        "        super(ASR, self).__init__()\n",
        "        \n",
        "        self.conv_bn_relu_1 = Conv_BN_ReLU(\n",
        "            in_channels=64, out_channels=256, kernel=33, stride=2\n",
        "        )\n",
        "        self.main_block = MainBlock()\n",
        "        self.conv_bn_relu_2 = Conv_BN_ReLU(in_channels=512, out_channels=512, kernel=87)\n",
        "        self.conv_bn_relu_3 = Conv_BN_ReLU(in_channels=512, out_channels=1024, kernel=1)\n",
        "        self.conv_bn_relu_4 = nn.Conv1d(in_channels=1024, out_channels=len(char2int), kernel_size=1, padding=0, dilation=2, bias=False)\n",
        "    \n",
        "    def forward(self, x):\n",
        "        # x (batch, channel, feature, time)\n",
        "        x = self.conv_bn_relu_1(x)\n",
        "        x = self.main_block(x)\n",
        "        x = self.conv_bn_relu_2(x)\n",
        "        x = self.conv_bn_relu_3(x)\n",
        "        x = self.conv_bn_relu_4(x)\n",
        "        x = x.transpose(1, 2)\n",
        "        return x  # (batch, channel, feature, time)"
      ],
      "execution_count": 27,
      "outputs": []
    },
    {
      "cell_type": "code",
      "metadata": {
        "id": "daCbXvcEZkUI",
        "outputId": "53bdc9d1-b5c8-4f90-ac9d-1c4cbd2ae2d7",
        "colab": {
          "base_uri": "https://localhost:8080/",
          "height": 36
        }
      },
      "source": [
        "model=ASR().to(device)\n",
        "wandb.watch(model)"
      ],
      "execution_count": 28,
      "outputs": [
        {
          "output_type": "execute_result",
          "data": {
            "text/plain": [
              "[<wandb.wandb_torch.TorchGraph at 0x7fe7c3608cc0>]"
            ]
          },
          "metadata": {
            "tags": []
          },
          "execution_count": 28
        }
      ]
    },
    {
      "cell_type": "code",
      "metadata": {
        "id": "fVF5XjIXZkUL"
      },
      "source": [
        "optimizer = torch.optim.AdamW(model.parameters(), lr=5e-4)"
      ],
      "execution_count": 29,
      "outputs": []
    },
    {
      "cell_type": "code",
      "metadata": {
        "id": "UpvKn0GUZkUO"
      },
      "source": [
        "criterion = nn.CTCLoss(blank=0).to(device)"
      ],
      "execution_count": 30,
      "outputs": []
    },
    {
      "cell_type": "code",
      "metadata": {
        "id": "DAU-LYtgL3cY"
      },
      "source": [
        "log_softmax = nn.LogSoftmax(dim=2)"
      ],
      "execution_count": 31,
      "outputs": []
    },
    {
      "cell_type": "code",
      "metadata": {
        "id": "W32N_nEc3PCc",
        "outputId": "0bd77a78-44f3-47b9-c7ae-d0897404ceb5",
        "colab": {
          "base_uri": "https://localhost:8080/",
          "height": 55
        }
      },
      "source": [
        "print(len(train_dataloader.dataset))\n",
        "print(len(test_dataloader.dataset))"
      ],
      "execution_count": null,
      "outputs": [
        {
          "output_type": "stream",
          "text": [
            "3040\n",
            "160\n"
          ],
          "name": "stdout"
        }
      ]
    },
    {
      "cell_type": "code",
      "metadata": {
        "id": "bQFfORWDHySd"
      },
      "source": [
        "def int_to_letters(text_in_ints):\n",
        "    string = []\n",
        "    for i in text_in_ints:\n",
        "        string.append(int2char[i])\n",
        "    return ''.join(string)\n"
      ],
      "execution_count": 32,
      "outputs": []
    },
    {
      "cell_type": "code",
      "metadata": {
        "id": "uN0RJ194_5mm"
      },
      "source": [
        "def Decoder(output, labels, label_lengths, blank_label=0, collapse_repeated=True):\n",
        "    arg_maxes = torch.argmax(output, dim=2)\n",
        "    decodes = []\n",
        "    targets = []\n",
        "    for i, args in enumerate(arg_maxes):\n",
        "        decode = []\n",
        "        targets.append(int_to_letters(labels[i][:label_lengths[i]].tolist()))\n",
        "        for j, index in enumerate(args):\n",
        "            if index != blank_label:\n",
        "                if collapse_repeated and j != 0 and index == args[j -1]:\n",
        "                    continue\n",
        "                decode.append(index.item())\n",
        "        decodes.append(int_to_letters(decode))\n",
        "    return decodes, targets"
      ],
      "execution_count": 33,
      "outputs": []
    },
    {
      "cell_type": "code",
      "metadata": {
        "id": "Dfx1FuJ6jL_7",
        "outputId": "cf516297-ea51-4291-bdfa-d9cb524daa4a",
        "colab": {
          "base_uri": "https://localhost:8080/",
          "height": 55
        }
      },
      "source": [
        "!pip install python-Levenshtein"
      ],
      "execution_count": 34,
      "outputs": [
        {
          "output_type": "stream",
          "text": [
            "Requirement already satisfied: python-Levenshtein in /usr/local/lib/python3.6/dist-packages (0.12.0)\n",
            "Requirement already satisfied: setuptools in /usr/local/lib/python3.6/dist-packages (from python-Levenshtein) (50.3.0)\n"
          ],
          "name": "stdout"
        }
      ]
    },
    {
      "cell_type": "code",
      "metadata": {
        "id": "l1vrbhwplTNZ"
      },
      "source": [
        "import Levenshtein"
      ],
      "execution_count": 35,
      "outputs": []
    },
    {
      "cell_type": "code",
      "metadata": {
        "id": "aCi5e8PyknUN"
      },
      "source": [
        "def wer(reference, hypothesis, delimiter=' '):\n",
        "\n",
        "    reference = reference.lower()\n",
        "    hypothesis = hypothesis.lower()\n",
        "\n",
        "    # ref_words = reference.split(delimiter)\n",
        "    # hyp_words = hypothesis.split(delimiter)\n",
        "\n",
        "    # print(\"ref:\\n\", reference, \"\\nhyp:\\n\", hypothesis)\n",
        "    edit_distance = Levenshtein.distance(reference, hypothesis)\n",
        "\n",
        "    wer = float(edit_distance) / len(reference)\n",
        "    return wer"
      ],
      "execution_count": 36,
      "outputs": []
    },
    {
      "cell_type": "code",
      "metadata": {
        "id": "SWiz-_avmkiW"
      },
      "source": [
        "def cer(reference, hypothesis, remove_space=False):\n",
        "\n",
        "    reference = reference.lower()\n",
        "    hypothesis = hypothesis.lower()\n",
        "    join_char = ' '\n",
        "    if remove_space == True:\n",
        "        join_char = ''\n",
        "\n",
        "    reference = join_char.join(filter(None, reference.split(' ')))\n",
        "    hypothesis = join_char.join(filter(None, hypothesis.split(' ')))\n",
        "\n",
        "    edit_distance = Levenshtein.distance(reference, hypothesis)\n",
        "\n",
        "    cer = float(edit_distance) / len(reference)\n",
        "    return cer"
      ],
      "execution_count": 37,
      "outputs": []
    },
    {
      "cell_type": "code",
      "metadata": {
        "id": "1HjzkycGmgrx"
      },
      "source": [
        ""
      ],
      "execution_count": null,
      "outputs": []
    },
    {
      "cell_type": "code",
      "metadata": {
        "id": "uk9pfIMKEp9I"
      },
      "source": [
        "def train(model, train_dataloader, criterion, optimizer, epoch):\n",
        "    model.train()\n",
        "    data_len = len(train_dataloader.dataset)\n",
        "    #print(data_len)\n",
        "    losses = []\n",
        "    for batch_idx, (log_mel_specs, texts_in_ints, spec_lengths, lbl_lengths) in enumerate(train_dataloader):\n",
        "        log_mel_specs = log_mel_specs.to(device)\n",
        "        texts_in_ints = texts_in_ints.to(device)\n",
        "\n",
        "        optimizer.zero_grad()\n",
        "\n",
        "        output = model(log_mel_specs)  # (batch, time, n_class)\n",
        "        #print(output.shape)\n",
        "        #print(output)\n",
        "        output = log_softmax(output)\n",
        "        #print(output.shape)\n",
        "        #print(output)\n",
        "        output = output.transpose(0, 1) # (time, batch, n_class)\n",
        "\n",
        "        loss = criterion(output, texts_in_ints, spec_lengths, lbl_lengths)\n",
        "        loss.backward()\n",
        "        losses.append(loss)\n",
        "\n",
        "        optimizer.step()\n",
        "        if batch_idx == 1 and epoch % 10 == 1:\n",
        "            decodes, targets = Decoder(\n",
        "                output.transpose(0, 1), texts_in_ints, lbl_lengths, blank_label=0, collapse_repeated=True\n",
        "            )\n",
        "            print('Train Epoch: {} [{}/{} ({:.0f}%)]\\tLoss: {:.6f}'.format(\n",
        "                epoch, batch_idx * len(log_mel_specs), data_len,\n",
        "                100. * batch_idx / len(train_dataloader), loss.item()))\n",
        "            print(\"Decodes:\\n\", decodes)\n",
        "            print(\"Targets:\\n\", targets)\n",
        "    wandb.log({\"Train loss\": sum(losses) / len(losses)})\n",
        "    return sum(losses) / len(losses)"
      ],
      "execution_count": 38,
      "outputs": []
    },
    {
      "cell_type": "code",
      "metadata": {
        "id": "zNUK3Rsv2pn-"
      },
      "source": [
        "def test(model, test_dataloader, criterion, epoch):\n",
        "    print('\\nevaluating…')\n",
        "    model.eval()\n",
        "    test_loss = 0\n",
        "    test_cer, test_wer = [], []\n",
        "    with torch.no_grad():\n",
        "        for batch_idx, (log_mel_specs, texts_in_ints, spec_lengths, lbl_lengths) in enumerate(test_dataloader):\n",
        "            log_mel_specs = log_mel_specs.to(device)\n",
        "            texts_in_ints = texts_in_ints.to(device)\n",
        "\n",
        "            output = model(log_mel_specs)  # (batch, time, n_class)\n",
        "            output = log_softmax(output)\n",
        "            output = output.transpose(0, 1) # (time, batch, n_class)\n",
        "\n",
        "            loss = criterion(output, texts_in_ints, spec_lengths, lbl_lengths)\n",
        "            print(\"loss =\", loss.item(), \"dataloader len =\", len(test_dataloader))\n",
        "            test_loss += loss.item() / len(test_dataloader)\n",
        "\n",
        "            decoded_preds, decoded_targets = Decoder(\n",
        "                output.transpose(0, 1), texts_in_ints, lbl_lengths, blank_label=0, collapse_repeated=True\n",
        "            )\n",
        "            # print(\"Decoded predictions:\\n\", decoded_preds)\n",
        "            # print(\"Decoded rargets:\\n\", decoded_targets)\n",
        "            for j in range(len(decoded_preds)):\n",
        "                test_cer.append(cer(decoded_targets[j], decoded_preds[j]))\n",
        "                test_wer.append(wer(decoded_targets[j], decoded_preds[j]))\n",
        "\n",
        "\n",
        "    avg_cer = sum(test_cer)/len(test_cer)\n",
        "    avg_wer = sum(test_wer)/len(test_wer)\n",
        "    \n",
        "    print('Test set: Average loss: {:.4f}, Average CER: {:4f} Average WER: {:.4f}\\n'.format(test_loss, avg_cer, avg_wer))\n",
        "    wandb.log({\"Test loss\": test_loss})\n",
        "    return test_loss, avg_cer, avg_wer\n"
      ],
      "execution_count": 39,
      "outputs": []
    },
    {
      "cell_type": "code",
      "metadata": {
        "id": "Ntz4lK9vBsJI"
      },
      "source": [
        "#model = model.to(\"cpu\")"
      ],
      "execution_count": null,
      "outputs": []
    },
    {
      "cell_type": "code",
      "metadata": {
        "id": "qgJOpsQhAXUy"
      },
      "source": [
        "# torch.save(model, path_to_model)\n",
        "# torch.save(model.state_dict(), path_to_weights_dict)"
      ],
      "execution_count": null,
      "outputs": []
    },
    {
      "cell_type": "code",
      "metadata": {
        "id": "D5L4gdIjEqEC",
        "outputId": "5a393e86-a8c7-4714-d2d1-1e3e79bbe50f",
        "colab": {
          "background_save": true,
          "base_uri": "https://localhost:8080/",
          "height": 1000
        }
      },
      "source": [
        "train_losses = []\n",
        "test_losses = []\n",
        "test_avg_cers = []\n",
        "test_avg_wers = []\n",
        "\n",
        "for epoch in range(epochs):\n",
        "  train_avg_loss = train(model, train_dataloader, criterion, optimizer, epoch)\n",
        "  train_losses.append(train_avg_loss)\n",
        "  test_avg_loss, test_avg_cer, test_avg_wer = test(model, test_dataloader, criterion, epoch)\n",
        "  test_losses.append(test_avg_loss)\n",
        "  test_avg_cers.append(test_avg_cer)\n",
        "  test_avg_wers.append(test_avg_wer)\n",
        "\n",
        "model = model.to(\"cpu\")\n",
        "torch.save(model.state_dict(), 'model_state_dict.pt')\n",
        "files.download('model_state_dict.pt')\n",
        "model = model.to(device)"
      ],
      "execution_count": null,
      "outputs": [
        {
          "output_type": "stream",
          "text": [
            "\n",
            "evaluating…\n",
            "loss = 2.8932580947875977 dataloader len = 5\n",
            "loss = 2.9023962020874023 dataloader len = 5\n",
            "loss = 2.892502784729004 dataloader len = 5\n",
            "loss = 2.898707389831543 dataloader len = 5\n",
            "loss = 2.877562999725342 dataloader len = 5\n",
            "Test set: Average loss: 2.8929, Average CER: 0.985597 Average WER: 0.9856\n",
            "\n",
            "Train Epoch: 1 [32/3040 (1%)]\tLoss: 2.902928\n",
            "Decodes:\n",
            " ['n', 'n', 'n', 'n', 'n', 'n', 'n', 'n', 'n', 'n', 'n', 'n', 'n', 'n', 'n', 'n', 'n', '', '', 'n', 'n', 'n', 'n', 'n', 'n', 'n', 'n', '', 'n', 'n', 'n', '']\n",
            "Targets:\n",
            " ['till no sentence of death was carried out for the offense and in eighteen thirtytwo', 'was the state of her fathers affairs', 'aynard was the only one who suffered death', 'auntleroy was not entirely dependent upon the ordinary for ghostly counsel in his extremity', 'unless they could afford to pay for a vehicle out of their own funds', 'e traversed vainly all the roofs in ewgate treet', 'he was discovered just as she was getting black in the face', 'h he remarked they will have to wait for us then till eight', 'ndeterred by the wellmerited punishment which had overtaken rancis', 'hey are both drawn at once by a windlass and the unhappy culprits remain suspended', 'ne quart of raham flour one cup of white flour', 'r trahan was arrested at a friends house in ryanston quare', 'as coming from a r hitney', 'who had plausibly explained that he had only recently been engaged at hrigley', 'ntil the time of his death he kept a small shop close to the church in orncastle', 'one of them of considerable size', 'either in town or country were cases entirely taken on their own merits', 'id ngland hesitate to call in ten billion dollars of her war bonds bearing five percent interest', 'every profession has its black sheep but long experience in government has taught me', 'the signal for the commencement of obscene talk revelry and violence', ' confederate followed the emissary closely', 'he proceeds of the robbery were lodged in a oston bank', 'in order that unemployment may be prevented by the stabilizing of employment itself', 'n the eighteenth ecember eighteen twelve', 'fter alcrafts resignation no successor was really appointed', 'he second attack was fatal and ended in ooks death from tetanus', 't was only filled at the periods when the sessions of the entral riminal ourt were in progress', 'and was rendered insensible by chloroform after which he was bound and the precious stones stolen', 'he wardsman still exacted dues of which more directly', 'and xford was ordered to be detained during er ajestys pleasure', 'which oward had eulogized some forty years before', 'he hronicles of ewgate olume two y rthur riffiths ection twentytwo ewgate eformed']\n",
            "\n",
            "evaluating…\n",
            "loss = 2.9427082538604736 dataloader len = 5\n",
            "loss = 2.9504802227020264 dataloader len = 5\n",
            "loss = 2.938401222229004 dataloader len = 5\n",
            "loss = 2.92752742767334 dataloader len = 5\n",
            "loss = 2.910844087600708 dataloader len = 5\n",
            "Test set: Average loss: 2.9340, Average CER: 1.000000 Average WER: 0.9955\n",
            "\n",
            "\n",
            "evaluating…\n",
            "loss = 2.9014244079589844 dataloader len = 5\n",
            "loss = 2.895394802093506 dataloader len = 5\n",
            "loss = 2.8854284286499023 dataloader len = 5\n",
            "loss = 2.880250930786133 dataloader len = 5\n",
            "loss = 2.8704447746276855 dataloader len = 5\n",
            "Test set: Average loss: 2.8866, Average CER: 1.000000 Average WER: 1.0000\n",
            "\n",
            "\n",
            "evaluating…\n",
            "loss = 2.904794216156006 dataloader len = 5\n",
            "loss = 2.902431011199951 dataloader len = 5\n",
            "loss = 2.8764684200286865 dataloader len = 5\n",
            "loss = 2.8884329795837402 dataloader len = 5\n",
            "loss = 2.8719801902770996 dataloader len = 5\n",
            "Test set: Average loss: 2.8888, Average CER: 1.000000 Average WER: 1.0000\n",
            "\n",
            "\n",
            "evaluating…\n",
            "loss = 2.8934860229492188 dataloader len = 5\n",
            "loss = 2.889706611633301 dataloader len = 5\n",
            "loss = 2.8786299228668213 dataloader len = 5\n",
            "loss = 2.8908815383911133 dataloader len = 5\n",
            "loss = 2.87172532081604 dataloader len = 5\n",
            "Test set: Average loss: 2.8849, Average CER: 1.000000 Average WER: 1.0000\n",
            "\n",
            "\n",
            "evaluating…\n",
            "loss = 2.8772706985473633 dataloader len = 5\n",
            "loss = 2.885411500930786 dataloader len = 5\n",
            "loss = 2.8702878952026367 dataloader len = 5\n",
            "loss = 2.874667167663574 dataloader len = 5\n",
            "loss = 2.8613152503967285 dataloader len = 5\n",
            "Test set: Average loss: 2.8738, Average CER: 0.997076 Average WER: 0.9971\n",
            "\n",
            "\n",
            "evaluating…\n",
            "loss = 2.8843777179718018 dataloader len = 5\n",
            "loss = 2.8865556716918945 dataloader len = 5\n",
            "loss = 2.887683153152466 dataloader len = 5\n",
            "loss = 2.874248743057251 dataloader len = 5\n",
            "loss = 2.870663642883301 dataloader len = 5\n",
            "Test set: Average loss: 2.8807, Average CER: 1.000000 Average WER: 0.9998\n",
            "\n",
            "\n",
            "evaluating…\n",
            "loss = 2.879436492919922 dataloader len = 5\n",
            "loss = 2.8887925148010254 dataloader len = 5\n",
            "loss = 2.8823375701904297 dataloader len = 5\n",
            "loss = 2.876938819885254 dataloader len = 5\n",
            "loss = 2.8719091415405273 dataloader len = 5\n",
            "Test set: Average loss: 2.8799, Average CER: 1.000000 Average WER: 1.0000\n",
            "\n",
            "\n",
            "evaluating…\n",
            "loss = 2.8792035579681396 dataloader len = 5\n",
            "loss = 2.8805952072143555 dataloader len = 5\n",
            "loss = 2.8760805130004883 dataloader len = 5\n",
            "loss = 2.8750879764556885 dataloader len = 5\n",
            "loss = 2.860948085784912 dataloader len = 5\n",
            "Test set: Average loss: 2.8744, Average CER: 0.999463 Average WER: 0.9995\n",
            "\n",
            "\n",
            "evaluating…\n",
            "loss = 2.8881380558013916 dataloader len = 5\n",
            "loss = 2.8962512016296387 dataloader len = 5\n",
            "loss = 2.8996362686157227 dataloader len = 5\n",
            "loss = 2.8727834224700928 dataloader len = 5\n",
            "loss = 2.877254009246826 dataloader len = 5\n",
            "Test set: Average loss: 2.8868, Average CER: 1.000000 Average WER: 1.0000\n",
            "\n",
            "\n",
            "evaluating…\n",
            "loss = 2.874107837677002 dataloader len = 5\n",
            "loss = 2.881340980529785 dataloader len = 5\n",
            "loss = 2.8726396560668945 dataloader len = 5\n",
            "loss = 2.8650338649749756 dataloader len = 5\n",
            "loss = 2.8539257049560547 dataloader len = 5\n",
            "Test set: Average loss: 2.8694, Average CER: 0.997981 Average WER: 0.9980\n",
            "\n",
            "Train Epoch: 11 [32/3040 (1%)]\tLoss: 2.892319\n",
            "Decodes:\n",
            " ['', '', '', '', '', '', '', '', '', '', '', '', '', '', '', '', '', '', '', '', '', '', '', '', '', '', '', '', '', '', '', '']\n",
            "Targets:\n",
            " ['till no sentence of death was carried out for the offense and in eighteen thirtytwo', 'was the state of her fathers affairs', 'aynard was the only one who suffered death', 'auntleroy was not entirely dependent upon the ordinary for ghostly counsel in his extremity', 'unless they could afford to pay for a vehicle out of their own funds', 'e traversed vainly all the roofs in ewgate treet', 'he was discovered just as she was getting black in the face', 'h he remarked they will have to wait for us then till eight', 'ndeterred by the wellmerited punishment which had overtaken rancis', 'hey are both drawn at once by a windlass and the unhappy culprits remain suspended', 'ne quart of raham flour one cup of white flour', 'r trahan was arrested at a friends house in ryanston quare', 'as coming from a r hitney', 'who had plausibly explained that he had only recently been engaged at hrigley', 'ntil the time of his death he kept a small shop close to the church in orncastle', 'one of them of considerable size', 'either in town or country were cases entirely taken on their own merits', 'id ngland hesitate to call in ten billion dollars of her war bonds bearing five percent interest', 'every profession has its black sheep but long experience in government has taught me', 'the signal for the commencement of obscene talk revelry and violence', ' confederate followed the emissary closely', 'he proceeds of the robbery were lodged in a oston bank', 'in order that unemployment may be prevented by the stabilizing of employment itself', 'n the eighteenth ecember eighteen twelve', 'fter alcrafts resignation no successor was really appointed', 'he second attack was fatal and ended in ooks death from tetanus', 't was only filled at the periods when the sessions of the entral riminal ourt were in progress', 'and was rendered insensible by chloroform after which he was bound and the precious stones stolen', 'he wardsman still exacted dues of which more directly', 'and xford was ordered to be detained during er ajestys pleasure', 'which oward had eulogized some forty years before', 'he hronicles of ewgate olume two y rthur riffiths ection twentytwo ewgate eformed']\n",
            "\n",
            "evaluating…\n",
            "loss = 2.8647775650024414 dataloader len = 5\n",
            "loss = 2.868317127227783 dataloader len = 5\n",
            "loss = 2.872709274291992 dataloader len = 5\n",
            "loss = 2.861886739730835 dataloader len = 5\n",
            "loss = 2.860414505004883 dataloader len = 5\n",
            "Test set: Average loss: 2.8656, Average CER: 1.000000 Average WER: 1.0000\n",
            "\n",
            "\n",
            "evaluating…\n",
            "loss = 2.8541603088378906 dataloader len = 5\n",
            "loss = 2.866054058074951 dataloader len = 5\n",
            "loss = 2.858166217803955 dataloader len = 5\n",
            "loss = 2.8518707752227783 dataloader len = 5\n",
            "loss = 2.8457202911376953 dataloader len = 5\n",
            "Test set: Average loss: 2.8552, Average CER: 1.000000 Average WER: 1.0000\n",
            "\n",
            "\n",
            "evaluating…\n",
            "loss = 2.8575878143310547 dataloader len = 5\n",
            "loss = 2.8738045692443848 dataloader len = 5\n",
            "loss = 2.856663227081299 dataloader len = 5\n",
            "loss = 2.853311538696289 dataloader len = 5\n",
            "loss = 2.8443775177001953 dataloader len = 5\n",
            "Test set: Average loss: 2.8571, Average CER: 1.000000 Average WER: 1.0000\n",
            "\n",
            "\n",
            "evaluating…\n",
            "loss = 2.8509268760681152 dataloader len = 5\n",
            "loss = 2.862323045730591 dataloader len = 5\n",
            "loss = 2.8458995819091797 dataloader len = 5\n",
            "loss = 2.8538262844085693 dataloader len = 5\n",
            "loss = 2.8413212299346924 dataloader len = 5\n",
            "Test set: Average loss: 2.8509, Average CER: 1.000000 Average WER: 1.0000\n",
            "\n",
            "\n",
            "evaluating…\n",
            "loss = 2.8383283615112305 dataloader len = 5\n",
            "loss = 2.8768746852874756 dataloader len = 5\n",
            "loss = 2.872051239013672 dataloader len = 5\n",
            "loss = 2.851339817047119 dataloader len = 5\n",
            "loss = 2.85514497756958 dataloader len = 5\n",
            "Test set: Average loss: 2.8587, Average CER: 0.999899 Average WER: 0.9999\n",
            "\n",
            "\n",
            "evaluating…\n",
            "loss = 2.836820125579834 dataloader len = 5\n",
            "loss = 2.864140510559082 dataloader len = 5\n",
            "loss = 2.8499622344970703 dataloader len = 5\n",
            "loss = 2.844305992126465 dataloader len = 5\n",
            "loss = 2.8529722690582275 dataloader len = 5\n",
            "Test set: Average loss: 2.8496, Average CER: 0.999806 Average WER: 0.9998\n",
            "\n",
            "\n",
            "evaluating…\n",
            "loss = 2.822293996810913 dataloader len = 5\n",
            "loss = 2.857642412185669 dataloader len = 5\n",
            "loss = 2.845027446746826 dataloader len = 5\n",
            "loss = 2.8405921459198 dataloader len = 5\n",
            "loss = 2.842379570007324 dataloader len = 5\n",
            "Test set: Average loss: 2.8416, Average CER: 0.998707 Average WER: 0.9987\n",
            "\n",
            "\n",
            "evaluating…\n",
            "loss = 2.8256661891937256 dataloader len = 5\n",
            "loss = 2.849330186843872 dataloader len = 5\n",
            "loss = 2.845693826675415 dataloader len = 5\n",
            "loss = 2.8436059951782227 dataloader len = 5\n",
            "loss = 2.832841396331787 dataloader len = 5\n",
            "Test set: Average loss: 2.8394, Average CER: 0.998555 Average WER: 0.9986\n",
            "\n",
            "\n",
            "evaluating…\n",
            "loss = 2.828890800476074 dataloader len = 5\n",
            "loss = 2.8615150451660156 dataloader len = 5\n",
            "loss = 2.845564603805542 dataloader len = 5\n",
            "loss = 2.8618359565734863 dataloader len = 5\n",
            "loss = 2.8678061962127686 dataloader len = 5\n",
            "Test set: Average loss: 2.8531, Average CER: 0.997689 Average WER: 0.9977\n",
            "\n",
            "\n",
            "evaluating…\n",
            "loss = 2.8096470832824707 dataloader len = 5\n",
            "loss = 2.8312149047851562 dataloader len = 5\n",
            "loss = 2.821873188018799 dataloader len = 5\n",
            "loss = 2.8278491497039795 dataloader len = 5\n",
            "loss = 2.822782516479492 dataloader len = 5\n",
            "Test set: Average loss: 2.8227, Average CER: 0.997020 Average WER: 0.9970\n",
            "\n",
            "Train Epoch: 21 [32/3040 (1%)]\tLoss: 2.815255\n",
            "Decodes:\n",
            " ['', '', '', '', 's', '', 's', '', 's', '', '', '', '', '', '', 's', 's', '', '', 's', '', '', '', '', '', 's', 's', '', '', '', '', '']\n",
            "Targets:\n",
            " ['till no sentence of death was carried out for the offense and in eighteen thirtytwo', 'was the state of her fathers affairs', 'aynard was the only one who suffered death', 'auntleroy was not entirely dependent upon the ordinary for ghostly counsel in his extremity', 'unless they could afford to pay for a vehicle out of their own funds', 'e traversed vainly all the roofs in ewgate treet', 'he was discovered just as she was getting black in the face', 'h he remarked they will have to wait for us then till eight', 'ndeterred by the wellmerited punishment which had overtaken rancis', 'hey are both drawn at once by a windlass and the unhappy culprits remain suspended', 'ne quart of raham flour one cup of white flour', 'r trahan was arrested at a friends house in ryanston quare', 'as coming from a r hitney', 'who had plausibly explained that he had only recently been engaged at hrigley', 'ntil the time of his death he kept a small shop close to the church in orncastle', 'one of them of considerable size', 'either in town or country were cases entirely taken on their own merits', 'id ngland hesitate to call in ten billion dollars of her war bonds bearing five percent interest', 'every profession has its black sheep but long experience in government has taught me', 'the signal for the commencement of obscene talk revelry and violence', ' confederate followed the emissary closely', 'he proceeds of the robbery were lodged in a oston bank', 'in order that unemployment may be prevented by the stabilizing of employment itself', 'n the eighteenth ecember eighteen twelve', 'fter alcrafts resignation no successor was really appointed', 'he second attack was fatal and ended in ooks death from tetanus', 't was only filled at the periods when the sessions of the entral riminal ourt were in progress', 'and was rendered insensible by chloroform after which he was bound and the precious stones stolen', 'he wardsman still exacted dues of which more directly', 'and xford was ordered to be detained during er ajestys pleasure', 'which oward had eulogized some forty years before', 'he hronicles of ewgate olume two y rthur riffiths ection twentytwo ewgate eformed']\n",
            "\n",
            "evaluating…\n",
            "loss = 2.808790683746338 dataloader len = 5\n",
            "loss = 2.834061861038208 dataloader len = 5\n",
            "loss = 2.8160462379455566 dataloader len = 5\n",
            "loss = 2.832334280014038 dataloader len = 5\n",
            "loss = 2.81168270111084 dataloader len = 5\n",
            "Test set: Average loss: 2.8206, Average CER: 0.998099 Average WER: 0.9981\n",
            "\n",
            "\n",
            "evaluating…\n",
            "loss = 2.802913188934326 dataloader len = 5\n",
            "loss = 2.8337883949279785 dataloader len = 5\n",
            "loss = 2.813819408416748 dataloader len = 5\n",
            "loss = 2.8286075592041016 dataloader len = 5\n",
            "loss = 2.80753231048584 dataloader len = 5\n",
            "Test set: Average loss: 2.8173, Average CER: 0.992558 Average WER: 0.9926\n",
            "\n",
            "\n",
            "evaluating…\n",
            "loss = 2.8070061206817627 dataloader len = 5\n",
            "loss = 2.839787483215332 dataloader len = 5\n",
            "loss = 2.819669246673584 dataloader len = 5\n",
            "loss = 2.8286075592041016 dataloader len = 5\n",
            "loss = 2.8252663612365723 dataloader len = 5\n",
            "Test set: Average loss: 2.8241, Average CER: 0.996723 Average WER: 0.9967\n",
            "\n",
            "\n",
            "evaluating…\n",
            "loss = 2.800424575805664 dataloader len = 5\n",
            "loss = 2.8517134189605713 dataloader len = 5\n",
            "loss = 2.8078176975250244 dataloader len = 5\n",
            "loss = 2.8211193084716797 dataloader len = 5\n",
            "loss = 2.8069822788238525 dataloader len = 5\n",
            "Test set: Average loss: 2.8176, Average CER: 0.996467 Average WER: 0.9965\n",
            "\n",
            "\n",
            "evaluating…\n",
            "loss = 2.785099744796753 dataloader len = 5\n",
            "loss = 2.8178091049194336 dataloader len = 5\n",
            "loss = 2.791964292526245 dataloader len = 5\n",
            "loss = 2.819812536239624 dataloader len = 5\n",
            "loss = 2.794240951538086 dataloader len = 5\n",
            "Test set: Average loss: 2.8018, Average CER: 0.994641 Average WER: 0.9935\n",
            "\n",
            "\n",
            "evaluating…\n",
            "loss = 2.786329746246338 dataloader len = 5\n",
            "loss = 2.8354759216308594 dataloader len = 5\n",
            "loss = 2.7977423667907715 dataloader len = 5\n",
            "loss = 2.802151918411255 dataloader len = 5\n",
            "loss = 2.8294506072998047 dataloader len = 5\n",
            "Test set: Average loss: 2.8102, Average CER: 0.994334 Average WER: 0.9943\n",
            "\n",
            "\n",
            "evaluating…\n",
            "loss = 2.7461395263671875 dataloader len = 5\n",
            "loss = 2.773501396179199 dataloader len = 5\n",
            "loss = 2.742219924926758 dataloader len = 5\n",
            "loss = 2.7735984325408936 dataloader len = 5\n",
            "loss = 2.755674362182617 dataloader len = 5\n",
            "Test set: Average loss: 2.7582, Average CER: 0.993406 Average WER: 0.9933\n",
            "\n",
            "\n",
            "evaluating…\n",
            "loss = 2.7364578247070312 dataloader len = 5\n",
            "loss = 2.755993366241455 dataloader len = 5\n",
            "loss = 2.738039970397949 dataloader len = 5\n",
            "loss = 2.7559385299682617 dataloader len = 5\n",
            "loss = 2.7411692142486572 dataloader len = 5\n",
            "Test set: Average loss: 2.7455, Average CER: 0.987286 Average WER: 0.9873\n",
            "\n",
            "\n",
            "evaluating…\n",
            "loss = 2.7015323638916016 dataloader len = 5\n",
            "loss = 2.7518930435180664 dataloader len = 5\n",
            "loss = 2.702146530151367 dataloader len = 5\n",
            "loss = 2.7398200035095215 dataloader len = 5\n",
            "loss = 2.7246859073638916 dataloader len = 5\n",
            "Test set: Average loss: 2.7240, Average CER: 0.992366 Average WER: 0.9922\n",
            "\n",
            "\n",
            "evaluating…\n",
            "loss = 2.6312060356140137 dataloader len = 5\n",
            "loss = 2.687739610671997 dataloader len = 5\n",
            "loss = 2.633181095123291 dataloader len = 5\n",
            "loss = 2.6629045009613037 dataloader len = 5\n",
            "loss = 2.6428704261779785 dataloader len = 5\n",
            "Test set: Average loss: 2.6516, Average CER: 0.989972 Average WER: 0.9898\n",
            "\n",
            "Train Epoch: 31 [32/3040 (1%)]\tLoss: 2.629760\n",
            "Decodes:\n",
            " ['', '', '', ' ', 's', 'd', '', '', 's', '', 'd', 'd', 'd', 'yd', '', 's', '', '', '', 's', 'ld', 'd', '', 'd', '', '', 's', '', 'yd', '', 'r', '']\n",
            "Targets:\n",
            " ['till no sentence of death was carried out for the offense and in eighteen thirtytwo', 'was the state of her fathers affairs', 'aynard was the only one who suffered death', 'auntleroy was not entirely dependent upon the ordinary for ghostly counsel in his extremity', 'unless they could afford to pay for a vehicle out of their own funds', 'e traversed vainly all the roofs in ewgate treet', 'he was discovered just as she was getting black in the face', 'h he remarked they will have to wait for us then till eight', 'ndeterred by the wellmerited punishment which had overtaken rancis', 'hey are both drawn at once by a windlass and the unhappy culprits remain suspended', 'ne quart of raham flour one cup of white flour', 'r trahan was arrested at a friends house in ryanston quare', 'as coming from a r hitney', 'who had plausibly explained that he had only recently been engaged at hrigley', 'ntil the time of his death he kept a small shop close to the church in orncastle', 'one of them of considerable size', 'either in town or country were cases entirely taken on their own merits', 'id ngland hesitate to call in ten billion dollars of her war bonds bearing five percent interest', 'every profession has its black sheep but long experience in government has taught me', 'the signal for the commencement of obscene talk revelry and violence', ' confederate followed the emissary closely', 'he proceeds of the robbery were lodged in a oston bank', 'in order that unemployment may be prevented by the stabilizing of employment itself', 'n the eighteenth ecember eighteen twelve', 'fter alcrafts resignation no successor was really appointed', 'he second attack was fatal and ended in ooks death from tetanus', 't was only filled at the periods when the sessions of the entral riminal ourt were in progress', 'and was rendered insensible by chloroform after which he was bound and the precious stones stolen', 'he wardsman still exacted dues of which more directly', 'and xford was ordered to be detained during er ajestys pleasure', 'which oward had eulogized some forty years before', 'he hronicles of ewgate olume two y rthur riffiths ection twentytwo ewgate eformed']\n",
            "\n",
            "evaluating…\n",
            "loss = 2.5721843242645264 dataloader len = 5\n",
            "loss = 2.592158794403076 dataloader len = 5\n",
            "loss = 2.5535197257995605 dataloader len = 5\n",
            "loss = 2.584946870803833 dataloader len = 5\n",
            "loss = 2.570488691329956 dataloader len = 5\n",
            "Test set: Average loss: 2.5747, Average CER: 0.985833 Average WER: 0.9855\n",
            "\n",
            "\n",
            "evaluating…\n",
            "loss = 2.5733718872070312 dataloader len = 5\n",
            "loss = 2.642690658569336 dataloader len = 5\n",
            "loss = 2.6168012619018555 dataloader len = 5\n",
            "loss = 2.6410462856292725 dataloader len = 5\n",
            "loss = 2.627857208251953 dataloader len = 5\n",
            "Test set: Average loss: 2.6204, Average CER: 0.971530 Average WER: 0.9656\n",
            "\n",
            "\n",
            "evaluating…\n",
            "loss = 2.3853530883789062 dataloader len = 5\n",
            "loss = 2.4180727005004883 dataloader len = 5\n",
            "loss = 2.374025821685791 dataloader len = 5\n",
            "loss = 2.4002974033355713 dataloader len = 5\n",
            "loss = 2.3955225944519043 dataloader len = 5\n",
            "Test set: Average loss: 2.3947, Average CER: 0.936065 Average WER: 0.9149\n",
            "\n",
            "\n",
            "evaluating…\n",
            "loss = 2.284226417541504 dataloader len = 5\n",
            "loss = 2.3115248680114746 dataloader len = 5\n",
            "loss = 2.253354072570801 dataloader len = 5\n",
            "loss = 2.282227039337158 dataloader len = 5\n",
            "loss = 2.275017499923706 dataloader len = 5\n",
            "Test set: Average loss: 2.2813, Average CER: 0.917116 Average WER: 0.8768\n",
            "\n",
            "\n",
            "evaluating…\n",
            "loss = 2.226672649383545 dataloader len = 5\n",
            "loss = 2.2587952613830566 dataloader len = 5\n",
            "loss = 2.1864686012268066 dataloader len = 5\n",
            "loss = 2.22078800201416 dataloader len = 5\n",
            "loss = 2.218583106994629 dataloader len = 5\n",
            "Test set: Average loss: 2.2223, Average CER: 0.875952 Average WER: 0.7964\n",
            "\n",
            "\n",
            "evaluating…\n",
            "loss = 2.121137857437134 dataloader len = 5\n",
            "loss = 2.158461570739746 dataloader len = 5\n",
            "loss = 2.081610918045044 dataloader len = 5\n",
            "loss = 2.1207289695739746 dataloader len = 5\n",
            "loss = 2.1124539375305176 dataloader len = 5\n",
            "Test set: Average loss: 2.1189, Average CER: 0.815263 Average WER: 0.7571\n",
            "\n"
          ],
          "name": "stdout"
        }
      ]
    },
    {
      "cell_type": "code",
      "metadata": {
        "id": "Slyh0TdZ_8T0"
      },
      "source": [
        "files.upload()\n",
        "# import model_state_dict.pt"
      ],
      "execution_count": null,
      "outputs": []
    },
    {
      "cell_type": "code",
      "metadata": {
        "id": "WA8Ti5Y1Fbl7"
      },
      "source": [
        "model = ASR()\n",
        "state_dict = torch.load('model_state_dict.pt')\n",
        "model.load_state_dict(state_dict)\n",
        "model = model.to(device)"
      ],
      "execution_count": null,
      "outputs": []
    },
    {
      "cell_type": "code",
      "metadata": {
        "id": "xZ98kUV5jwuA",
        "outputId": "6ff24a8e-36f9-4afb-e500-b971f26e76e2",
        "colab": {
          "base_uri": "https://localhost:8080/",
          "height": 211
        }
      },
      "source": [
        "plt.figure(figsize=(20, 5))\n",
        "plt.plot(range(epochs), train_losses)\n",
        "plt.show()"
      ],
      "execution_count": null,
      "outputs": [
        {
          "output_type": "error",
          "ename": "NameError",
          "evalue": "ignored",
          "traceback": [
            "\u001b[0;31m---------------------------------------------------------------------------\u001b[0m",
            "\u001b[0;31mNameError\u001b[0m                                 Traceback (most recent call last)",
            "\u001b[0;32m<ipython-input-1-0589b4fcf2ff>\u001b[0m in \u001b[0;36m<module>\u001b[0;34m()\u001b[0m\n\u001b[0;32m----> 1\u001b[0;31m \u001b[0mplt\u001b[0m\u001b[0;34m.\u001b[0m\u001b[0mfigure\u001b[0m\u001b[0;34m(\u001b[0m\u001b[0mfigsize\u001b[0m\u001b[0;34m=\u001b[0m\u001b[0;34m(\u001b[0m\u001b[0;36m20\u001b[0m\u001b[0;34m,\u001b[0m \u001b[0;36m5\u001b[0m\u001b[0;34m)\u001b[0m\u001b[0;34m)\u001b[0m\u001b[0;34m\u001b[0m\u001b[0;34m\u001b[0m\u001b[0m\n\u001b[0m\u001b[1;32m      2\u001b[0m \u001b[0mplt\u001b[0m\u001b[0;34m.\u001b[0m\u001b[0mplot\u001b[0m\u001b[0;34m(\u001b[0m\u001b[0mrange\u001b[0m\u001b[0;34m(\u001b[0m\u001b[0mepochs\u001b[0m\u001b[0;34m)\u001b[0m\u001b[0;34m,\u001b[0m \u001b[0mtrain_losses\u001b[0m\u001b[0;34m)\u001b[0m\u001b[0;34m\u001b[0m\u001b[0;34m\u001b[0m\u001b[0m\n\u001b[1;32m      3\u001b[0m \u001b[0mplt\u001b[0m\u001b[0;34m.\u001b[0m\u001b[0mshow\u001b[0m\u001b[0;34m(\u001b[0m\u001b[0;34m)\u001b[0m\u001b[0;34m\u001b[0m\u001b[0;34m\u001b[0m\u001b[0m\n",
            "\u001b[0;31mNameError\u001b[0m: name 'plt' is not defined"
          ]
        }
      ]
    },
    {
      "cell_type": "code",
      "metadata": {
        "id": "YDFt6nkFEqJP",
        "outputId": "6bdcf10e-4636-475a-a131-9da9e394ac68",
        "colab": {
          "base_uri": "https://localhost:8080/",
          "height": 318
        }
      },
      "source": [
        "plt.figure(figsize=(20, 5))\n",
        "plt.plot(range(epochs), test_losses)\n",
        "plt.show()"
      ],
      "execution_count": null,
      "outputs": [
        {
          "output_type": "display_data",
          "data": {
            "image/png": "[encoded data removed]",
            "text/plain": [
              "<Figure size 1440x360 with 1 Axes>"
            ]
          },
          "metadata": {
            "tags": []
          }
        }
      ]
    },
    {
      "cell_type": "code",
      "metadata": {
        "id": "zTg1jhZLmTqE",
        "outputId": "7ddd0b8b-e33c-43cf-f9ca-4738cdf3e5bc",
        "colab": {
          "base_uri": "https://localhost:8080/",
          "height": 321
        }
      },
      "source": [
        "plt.figure(figsize=(20, 5))\n",
        "plt.plot(range(epochs), test_avg_cers)\n",
        "plt.show()"
      ],
      "execution_count": null,
      "outputs": [
        {
          "output_type": "display_data",
          "data": {
            "image/png": "[encoded data removed]",
            "text/plain": [
              "<Figure size 1440x360 with 1 Axes>"
            ]
          },
          "metadata": {
            "tags": []
          }
        }
      ]
    },
    {
      "cell_type": "code",
      "metadata": {
        "id": "iNT8mZgxmTzn",
        "outputId": "70bd0be7-431a-43e6-d004-e23778fba74a",
        "colab": {
          "base_uri": "https://localhost:8080/",
          "height": 318
        }
      },
      "source": [
        "plt.figure(figsize=(20, 5))\n",
        "plt.plot(range(epochs), test_avg_wers)\n",
        "plt.show()"
      ],
      "execution_count": null,
      "outputs": [
        {
          "output_type": "display_data",
          "data": {
            "image/png": "[encoded data removed]",
            "text/plain": [
              "<Figure size 1440x360 with 1 Axes>"
            ]
          },
          "metadata": {
            "tags": []
          }
        }
      ]
    }
  ]
}
{
  "nbformat": 4,
  "nbformat_minor": 0,
  "metadata": {
    "accelerator": "GPU",
    "colab": {
      "name": "MyQuartzNet.ipynb",
      "provenance": [],
      "collapsed_sections": [],
      "toc_visible": true
    },
    "kernelspec": {
      "display_name": "Python 3",
      "language": "python",
      "name": "python3"
    },
    "language_info": {
      "codemirror_mode": {
        "name": "ipython",
        "version": 3
      },
      "file_extension": ".py",
      "mimetype": "text/x-python",
      "name": "python",
      "nbconvert_exporter": "python",
      "pygments_lexer": "ipython3",
      "version": "3.8.5"
    }
  },
  "cells": [
    {
      "cell_type": "markdown",
      "metadata": {
        "id": "RSaK9X3wZkSU"
      },
      "source": [
        "# Реализация QuartzNet"
      ]
    },
    {
      "cell_type": "markdown",
      "metadata": {
        "id": "5uNg1PavOtn1"
      },
      "source": [
        "~~Для выполнения данного ноутбука нужно иметь распакованный LJSpeech-1.1 на гугл диске~~<br> После того как я увидел домашку по KWS и понял что можно скачать датасет напрямую, решил и здесь сделать также для простоты проверки. Однако распаковывается это всё достаточно долго. <br>\n",
        "Подтянем все зависимости"
      ]
    },
    {
      "cell_type": "code",
      "metadata": {
        "id": "6s4VswkxaCYr",
        "outputId": "3957f2ab-9b72-46e6-fee9-a370085d4055",
        "colab": {
          "base_uri": "https://localhost:8080/"
        }
      },
      "source": [
        "!pip install torchaudio==0.6.0"
      ],
      "execution_count": null,
      "outputs": [
        {
          "output_type": "stream",
          "text": [
            "Collecting torchaudio==0.6.0\n",
            "\u001b[?25l  Downloading https://files.pythonhosted.org/packages/96/34/c651430dea231e382ddf2eb5773239bf4885d9528f640a4ef39b12894cb8/torchaudio-0.6.0-cp36-cp36m-manylinux1_x86_64.whl (6.7MB)\n",
            "\u001b[K     |████████████████████████████████| 6.7MB 8.8MB/s \n",
            "\u001b[?25hRequirement already satisfied: torch==1.6.0 in /usr/local/lib/python3.6/dist-packages (from torchaudio==0.6.0) (1.6.0+cu101)\n",
            "Requirement already satisfied: numpy in /usr/local/lib/python3.6/dist-packages (from torch==1.6.0->torchaudio==0.6.0) (1.18.5)\n",
            "Requirement already satisfied: future in /usr/local/lib/python3.6/dist-packages (from torch==1.6.0->torchaudio==0.6.0) (0.16.0)\n",
            "Installing collected packages: torchaudio\n",
            "Successfully installed torchaudio-0.6.0\n"
          ],
          "name": "stdout"
        }
      ]
    },
    {
      "cell_type": "code",
      "metadata": {
        "id": "4cIU95C3iM82",
        "outputId": "05f70d89-b4bf-4d5d-d82e-f32cbbd741f0",
        "colab": {
          "base_uri": "https://localhost:8080/"
        }
      },
      "source": [
        "!pip install wandb"
      ],
      "execution_count": null,
      "outputs": [
        {
          "output_type": "stream",
          "text": [
            "Collecting wandb\n",
            "\u001b[?25l  Downloading https://files.pythonhosted.org/packages/21/64/b28bf154ef1ee5b1e1978816e80d54f462a3e22e7c67cfdbf7ebada5abfe/wandb-0.10.8-py2.py3-none-any.whl (1.7MB)\n",
            "\u001b[K     |████████████████████████████████| 1.7MB 10.9MB/s \n",
            "\u001b[?25hRequirement already satisfied: Click>=7.0 in /usr/local/lib/python3.6/dist-packages (from wandb) (7.1.2)\n",
            "Collecting subprocess32>=3.5.3\n",
            "\u001b[?25l  Downloading https://files.pythonhosted.org/packages/32/c8/564be4d12629b912ea431f1a50eb8b3b9d00f1a0b1ceff17f266be190007/subprocess32-3.5.4.tar.gz (97kB)\n",
            "\u001b[K     |████████████████████████████████| 102kB 10.4MB/s \n",
            "\u001b[?25hCollecting sentry-sdk>=0.4.0\n",
            "\u001b[?25l  Downloading https://files.pythonhosted.org/packages/86/36/afa3c32f61cb62bef0da7200651d41f36b8b069d9f6254d8df8a20b224b8/sentry_sdk-0.19.2-py2.py3-none-any.whl (127kB)\n",
            "\u001b[K     |████████████████████████████████| 133kB 51.6MB/s \n",
            "\u001b[?25hCollecting docker-pycreds>=0.4.0\n",
            "  Downloading https://files.pythonhosted.org/packages/f5/e8/f6bd1eee09314e7e6dee49cbe2c5e22314ccdb38db16c9fc72d2fa80d054/docker_pycreds-0.4.0-py2.py3-none-any.whl\n",
            "Collecting configparser>=3.8.1\n",
            "  Downloading https://files.pythonhosted.org/packages/08/b2/ef713e0e67f6e7ec7d59aea3ee78d05b39c15930057e724cc6d362a8c3bb/configparser-5.0.1-py3-none-any.whl\n",
            "Collecting watchdog>=0.8.3\n",
            "\u001b[?25l  Downloading https://files.pythonhosted.org/packages/0e/06/121302598a4fc01aca942d937f4a2c33430b7181137b35758913a8db10ad/watchdog-0.10.3.tar.gz (94kB)\n",
            "\u001b[K     |████████████████████████████████| 102kB 14.0MB/s \n",
            "\u001b[?25hRequirement already satisfied: promise<3,>=2.0 in /usr/local/lib/python3.6/dist-packages (from wandb) (2.3)\n",
            "Collecting GitPython>=1.0.0\n",
            "\u001b[?25l  Downloading https://files.pythonhosted.org/packages/24/d1/a7f8fe3df258549b303415157328bfcc63e9b11d06a7ad7a3327f3d32606/GitPython-3.1.11-py3-none-any.whl (159kB)\n",
            "\u001b[K     |████████████████████████████████| 163kB 51.6MB/s \n",
            "\u001b[?25hRequirement already satisfied: psutil>=5.0.0 in /usr/local/lib/python3.6/dist-packages (from wandb) (5.4.8)\n",
            "Requirement already satisfied: six>=1.13.0 in /usr/local/lib/python3.6/dist-packages (from wandb) (1.15.0)\n",
            "Requirement already satisfied: requests<3,>=2.0.0 in /usr/local/lib/python3.6/dist-packages (from wandb) (2.23.0)\n",
            "Requirement already satisfied: protobuf>=3.12.0 in /usr/local/lib/python3.6/dist-packages (from wandb) (3.12.4)\n",
            "Requirement already satisfied: PyYAML in /usr/local/lib/python3.6/dist-packages (from wandb) (3.13)\n",
            "Collecting shortuuid>=0.5.0\n",
            "  Downloading https://files.pythonhosted.org/packages/25/a6/2ecc1daa6a304e7f1b216f0896b26156b78e7c38e1211e9b798b4716c53d/shortuuid-1.0.1-py3-none-any.whl\n",
            "Requirement already satisfied: python-dateutil>=2.6.1 in /usr/local/lib/python3.6/dist-packages (from wandb) (2.8.1)\n",
            "Requirement already satisfied: urllib3>=1.10.0 in /usr/local/lib/python3.6/dist-packages (from sentry-sdk>=0.4.0->wandb) (1.24.3)\n",
            "Requirement already satisfied: certifi in /usr/local/lib/python3.6/dist-packages (from sentry-sdk>=0.4.0->wandb) (2020.6.20)\n",
            "Collecting pathtools>=0.1.1\n",
            "  Downloading https://files.pythonhosted.org/packages/e7/7f/470d6fcdf23f9f3518f6b0b76be9df16dcc8630ad409947f8be2eb0ed13a/pathtools-0.1.2.tar.gz\n",
            "Collecting gitdb<5,>=4.0.1\n",
            "\u001b[?25l  Downloading https://files.pythonhosted.org/packages/48/11/d1800bca0a3bae820b84b7d813ad1eff15a48a64caea9c823fc8c1b119e8/gitdb-4.0.5-py3-none-any.whl (63kB)\n",
            "\u001b[K     |████████████████████████████████| 71kB 11.3MB/s \n",
            "\u001b[?25hRequirement already satisfied: idna<3,>=2.5 in /usr/local/lib/python3.6/dist-packages (from requests<3,>=2.0.0->wandb) (2.10)\n",
            "Requirement already satisfied: chardet<4,>=3.0.2 in /usr/local/lib/python3.6/dist-packages (from requests<3,>=2.0.0->wandb) (3.0.4)\n",
            "Requirement already satisfied: setuptools in /usr/local/lib/python3.6/dist-packages (from protobuf>=3.12.0->wandb) (50.3.2)\n",
            "Collecting smmap<4,>=3.0.1\n",
            "  Downloading https://files.pythonhosted.org/packages/b0/9a/4d409a6234eb940e6a78dfdfc66156e7522262f5f2fecca07dc55915952d/smmap-3.0.4-py2.py3-none-any.whl\n",
            "Building wheels for collected packages: subprocess32, watchdog, pathtools\n",
            "  Building wheel for subprocess32 (setup.py) ... \u001b[?25l\u001b[?25hdone\n",
            "  Created wheel for subprocess32: filename=subprocess32-3.5.4-cp36-none-any.whl size=6489 sha256=203dcb01fdd286a84371f2e59f11228e28fe00ba6d3c0b202b7617fdec48f461\n",
            "  Stored in directory: /root/.cache/pip/wheels/68/39/1a/5e402bdfdf004af1786c8b853fd92f8c4a04f22aad179654d1\n",
            "  Building wheel for watchdog (setup.py) ... \u001b[?25l\u001b[?25hdone\n",
            "  Created wheel for watchdog: filename=watchdog-0.10.3-cp36-none-any.whl size=73873 sha256=9d5cb6addc70dff8af80b27e47a5bed5ba934db4d337d4e948220d70a3415425\n",
            "  Stored in directory: /root/.cache/pip/wheels/a8/1d/38/2c19bb311f67cc7b4d07a2ec5ea36ab1a0a0ea50db994a5bc7\n",
            "  Building wheel for pathtools (setup.py) ... \u001b[?25l\u001b[?25hdone\n",
            "  Created wheel for pathtools: filename=pathtools-0.1.2-cp36-none-any.whl size=8785 sha256=bea1c5f699f9210010abcb3bbd9ac9af67b8ee90341258d9aa69c2079bbe8f9e\n",
            "  Stored in directory: /root/.cache/pip/wheels/0b/04/79/c3b0c3a0266a3cb4376da31e5bfe8bba0c489246968a68e843\n",
            "Successfully built subprocess32 watchdog pathtools\n",
            "Installing collected packages: subprocess32, sentry-sdk, docker-pycreds, configparser, pathtools, watchdog, smmap, gitdb, GitPython, shortuuid, wandb\n",
            "Successfully installed GitPython-3.1.11 configparser-5.0.1 docker-pycreds-0.4.0 gitdb-4.0.5 pathtools-0.1.2 sentry-sdk-0.19.2 shortuuid-1.0.1 smmap-3.0.4 subprocess32-3.5.4 wandb-0.10.8 watchdog-0.10.3\n"
          ],
          "name": "stdout"
        }
      ]
    },
    {
      "cell_type": "code",
      "metadata": {
        "id": "iZcEJUphZkSW"
      },
      "source": [
        "import torch\n",
        "import torchaudio\n",
        "import pandas as pd\n",
        "import multiprocessing as mp\n",
        "from torch import nn\n",
        "from matplotlib import pyplot as plt\n",
        "from torch.utils.data import Dataset, DataLoader, random_split\n",
        "from google.colab import files\n",
        "\n",
        "# %pylab inline\n",
        "# from itertools import islice\n",
        "# from scipy.signal import hann\n",
        "# from scipy.io import wavfile\n"
      ],
      "execution_count": null,
      "outputs": []
    },
    {
      "cell_type": "code",
      "metadata": {
        "id": "XyCtZBGb9D0P",
        "outputId": "08ad1875-a979-4a8d-f3fb-649ab73aba1a",
        "colab": {
          "base_uri": "https://localhost:8080/"
        }
      },
      "source": [
        "import os\n",
        "datadir = \"dataset\"\n",
        "\n",
        "!wget https://data.keithito.com/data/speech/LJSpeech-1.1.tar.bz2\n",
        "\n",
        "!mkdir {datadir} && tar -C {datadir} -xvjf LJSpeech-1.1.tar.bz2 1> log\n"
      ],
      "execution_count": null,
      "outputs": [
        {
          "output_type": "stream",
          "text": [
            "--2020-11-03 21:27:40--  https://data.keithito.com/data/speech/LJSpeech-1.1.tar.bz2\n",
            "Resolving data.keithito.com (data.keithito.com)... 174.138.79.61\n",
            "Connecting to data.keithito.com (data.keithito.com)|174.138.79.61|:443... connected.\n",
            "HTTP request sent, awaiting response... 200 OK\n",
            "Length: 2748572632 (2.6G) [application/octet-stream]\n",
            "Saving to: ‘LJSpeech-1.1.tar.bz2’\n",
            "\n",
            "LJSpeech-1.1.tar.bz 100%[===================>]   2.56G  42.3MB/s    in 38s     \n",
            "\n",
            "2020-11-03 21:28:18 (69.0 MB/s) - ‘LJSpeech-1.1.tar.bz2’ saved [2748572632/2748572632]\n",
            "\n"
          ],
          "name": "stdout"
        }
      ]
    },
    {
      "cell_type": "markdown",
      "metadata": {
        "id": "xJRrqyHlPLGz"
      },
      "source": [
        "подключим логгер"
      ]
    },
    {
      "cell_type": "code",
      "metadata": {
        "id": "W5TnSNxYicUt",
        "outputId": "f8cce3bb-8fcd-4b1b-b0ec-e9e6ff8020b7",
        "colab": {
          "base_uri": "https://localhost:8080/",
          "height": 623
        }
      },
      "source": [
        "import wandb\n",
        "!wandb login 32f7df3c332802b239b3a621db53985fe17d319e\n",
        "wandb.init(project=\"quartznet-implementation\")"
      ],
      "execution_count": null,
      "outputs": [
        {
          "output_type": "stream",
          "text": [
            "\u001b[34m\u001b[1mwandb\u001b[0m: Appending key for api.wandb.ai to your netrc file: /root/.netrc\n"
          ],
          "name": "stdout"
        },
        {
          "output_type": "stream",
          "text": [
            "\u001b[34m\u001b[1mwandb\u001b[0m: Currently logged in as: \u001b[33mmaxthehuman\u001b[0m (use `wandb login --relogin` to force relogin)\n"
          ],
          "name": "stderr"
        },
        {
          "output_type": "display_data",
          "data": {
            "text/html": [
              "\n",
              "                Tracking run with wandb version 0.10.8<br/>\n",
              "                Syncing run <strong style=\"color:#cdcd00\">bright-blaze-15</strong> to <a href=\"https://wandb.ai\" target=\"_blank\">Weights & Biases</a> <a href=\"https://docs.wandb.com/integrations/jupyter.html\" target=\"_blank\">(Documentation)</a>.<br/>\n",
              "                Project page: <a href=\"https://wandb.ai/maxthehuman/quartznet-implementation\" target=\"_blank\">https://wandb.ai/maxthehuman/quartznet-implementation</a><br/>\n",
              "                Run page: <a href=\"https://wandb.ai/maxthehuman/quartznet-implementation/runs/18kl7020\" target=\"_blank\">https://wandb.ai/maxthehuman/quartznet-implementation/runs/18kl7020</a><br/>\n",
              "                Run data is saved locally in <code>wandb/run-20201103_213327-18kl7020</code><br/><br/>\n",
              "            "
            ],
            "text/plain": [
              "<IPython.core.display.HTML object>"
            ]
          },
          "metadata": {
            "tags": []
          }
        },
        {
          "output_type": "execute_result",
          "data": {
            "text/plain": [
              "<wandb.sdk.wandb_run.Run at 0x7fa6fc1766d8>"
            ],
            "text/html": [
              "<h1>Run(18kl7020)</h1><p></p><iframe src=\"https://wandb.ai/maxthehuman/quartznet-implementation/runs/18kl7020\" style=\"border:none;width:100%;height:400px\"></iframe>"
            ]
          },
          "metadata": {
            "tags": []
          },
          "execution_count": 5
        }
      ]
    },
    {
      "cell_type": "markdown",
      "metadata": {
        "id": "r-ivUF3uPJxD"
      },
      "source": [
        "~~Подключим диск~~"
      ]
    },
    {
      "cell_type": "code",
      "metadata": {
        "id": "2UsRgQb4j5eK"
      },
      "source": [
        "# from google.colab import drive\n",
        "# drive.mount('/content/drive')"
      ],
      "execution_count": null,
      "outputs": []
    },
    {
      "cell_type": "markdown",
      "metadata": {
        "id": "3MlsG9MfPWV1"
      },
      "source": [
        "Будем использовать гпу"
      ]
    },
    {
      "cell_type": "code",
      "metadata": {
        "id": "TfdETTEobiec",
        "outputId": "cac86f6b-3a61-4c52-e315-3af53ebb79c0",
        "colab": {
          "base_uri": "https://localhost:8080/"
        }
      },
      "source": [
        "use_cuda = torch.cuda.is_available()\n",
        "torch.manual_seed(7)\n",
        "device = torch.device(\"cuda\" if use_cuda else \"cpu\")\n",
        "print(device)\n",
        "# mp.set_start_method('fork', True)\n",
        "# mp.set_start_method('spawn', True)"
      ],
      "execution_count": null,
      "outputs": [
        {
          "output_type": "stream",
          "text": [
            "cuda\n"
          ],
          "name": "stdout"
        }
      ]
    },
    {
      "cell_type": "code",
      "metadata": {
        "id": "qkWiEHZg80HJ"
      },
      "source": [
        ""
      ],
      "execution_count": null,
      "outputs": []
    },
    {
      "cell_type": "markdown",
      "metadata": {
        "id": "_afaiIOPPdHP"
      },
      "source": [
        "Конфиг"
      ]
    },
    {
      "cell_type": "code",
      "metadata": {
        "id": "4cpwcQhTZkSf"
      },
      "source": [
        "# path_to_dataset = \"../resources/LJSpeech-1.1/\"\n",
        "path_to_dataset = \"dataset/LJSpeech-1.1/\"\n",
        "path_to_metadata = path_to_dataset + \"metadata.csv\"\n",
        "# path_to_model = \"drive/My Drive/ASR/model.pt\"\n",
        "# path_to_weights_dict = \"drive/My Drive/ASR/state_dict_model.pt\"\n",
        "\n",
        "batch_size = 32\n",
        "epochs = 200\n",
        "n_mels = 64\n",
        "B = 3\n",
        "R = 5\n",
        "\n",
        "freq_mask_param = 15\n",
        "time_mask_param = 25\n",
        "\n",
        "column_names = ['wav_filename', 'text_with_numbers', 'text_in_letters'] \n",
        "max_str_len = 100"
      ],
      "execution_count": null,
      "outputs": []
    },
    {
      "cell_type": "markdown",
      "metadata": {
        "id": "cWHf_hOxPizT"
      },
      "source": [
        "В датасете есть записи с не-ASCII символами (например, французские буквы), уберём их для простоты"
      ]
    },
    {
      "cell_type": "code",
      "metadata": {
        "id": "pJiXJiH_ZkSk"
      },
      "source": [
        "def filter_non_ascii(string):\n",
        "    try:\n",
        "        str(string).encode('ascii')\n",
        "    except UnicodeEncodeError:\n",
        "        return False\n",
        "\n",
        "    return True"
      ],
      "execution_count": null,
      "outputs": []
    },
    {
      "cell_type": "markdown",
      "metadata": {
        "id": "S_64yZmCP-NN"
      },
      "source": [
        "Загружаем метаинформацию о датасете"
      ]
    },
    {
      "cell_type": "code",
      "metadata": {
        "id": "4CkKUoVRZkSp"
      },
      "source": [
        "LJdata = pd.read_csv(path_to_metadata, sep='|', names=column_names, header=None)\n",
        "LJdata.drop(columns=['text_with_numbers'], inplace=True)\n",
        "LJdata['text_in_letters'] = LJdata['text_in_letters'].apply(lambda x: str(x))\n",
        "LJdata = LJdata[LJdata['text_in_letters'].apply(lambda x: len(x) <= max_str_len)]\n",
        "LJdata = LJdata[LJdata['text_in_letters'].apply(filter_non_ascii)]"
      ],
      "execution_count": null,
      "outputs": []
    },
    {
      "cell_type": "code",
      "metadata": {
        "id": "A0pBypBbZkSx"
      },
      "source": [
        "LJdata = LJdata[0:32*100]"
      ],
      "execution_count": null,
      "outputs": []
    },
    {
      "cell_type": "code",
      "metadata": {
        "id": "JC0MUu0UweRT",
        "outputId": "5bf5aaa7-832b-405c-dfdc-48432c0bd023",
        "colab": {
          "base_uri": "https://localhost:8080/",
          "height": 415
        }
      },
      "source": [
        "LJdata"
      ],
      "execution_count": null,
      "outputs": [
        {
          "output_type": "execute_result",
          "data": {
            "text/html": [
              "<div>\n",
              "<style scoped>\n",
              "    .dataframe tbody tr th:only-of-type {\n",
              "        vertical-align: middle;\n",
              "    }\n",
              "\n",
              "    .dataframe tbody tr th {\n",
              "        vertical-align: top;\n",
              "    }\n",
              "\n",
              "    .dataframe thead th {\n",
              "        text-align: right;\n",
              "    }\n",
              "</style>\n",
              "<table border=\"1\" class=\"dataframe\">\n",
              "  <thead>\n",
              "    <tr style=\"text-align: right;\">\n",
              "      <th></th>\n",
              "      <th>wav_filename</th>\n",
              "      <th>text_in_letters</th>\n",
              "    </tr>\n",
              "  </thead>\n",
              "  <tbody>\n",
              "    <tr>\n",
              "      <th>1</th>\n",
              "      <td>LJ001-0002</td>\n",
              "      <td>in being comparatively modern.</td>\n",
              "    </tr>\n",
              "    <tr>\n",
              "      <th>3</th>\n",
              "      <td>LJ001-0004</td>\n",
              "      <td>produced the block books, which were the immed...</td>\n",
              "    </tr>\n",
              "    <tr>\n",
              "      <th>5</th>\n",
              "      <td>LJ001-0006</td>\n",
              "      <td>And it is worth mention in passing that, as an...</td>\n",
              "    </tr>\n",
              "    <tr>\n",
              "      <th>7</th>\n",
              "      <td>LJ001-0008</td>\n",
              "      <td>has never been surpassed.</td>\n",
              "    </tr>\n",
              "    <tr>\n",
              "      <th>10</th>\n",
              "      <td>LJ001-0011</td>\n",
              "      <td>it is of the first importance that the letter ...</td>\n",
              "    </tr>\n",
              "    <tr>\n",
              "      <th>...</th>\n",
              "      <td>...</td>\n",
              "      <td>...</td>\n",
              "    </tr>\n",
              "    <tr>\n",
              "      <th>6526</th>\n",
              "      <td>LJ023-0073</td>\n",
              "      <td>The Court claimed the power to declare it unco...</td>\n",
              "    </tr>\n",
              "    <tr>\n",
              "      <th>6527</th>\n",
              "      <td>LJ023-0074</td>\n",
              "      <td>But a little later the Court itself admitted</td>\n",
              "    </tr>\n",
              "    <tr>\n",
              "      <th>6530</th>\n",
              "      <td>LJ023-0077</td>\n",
              "      <td>by which any law is passed,</td>\n",
              "    </tr>\n",
              "    <tr>\n",
              "      <th>6532</th>\n",
              "      <td>LJ023-0079</td>\n",
              "      <td>But since the rise of the modern movement for ...</td>\n",
              "    </tr>\n",
              "    <tr>\n",
              "      <th>6533</th>\n",
              "      <td>LJ023-0080</td>\n",
              "      <td>the Court has more and more often and more and...</td>\n",
              "    </tr>\n",
              "  </tbody>\n",
              "</table>\n",
              "<p>3200 rows × 2 columns</p>\n",
              "</div>"
            ],
            "text/plain": [
              "     wav_filename                                    text_in_letters\n",
              "1      LJ001-0002                     in being comparatively modern.\n",
              "3      LJ001-0004  produced the block books, which were the immed...\n",
              "5      LJ001-0006  And it is worth mention in passing that, as an...\n",
              "7      LJ001-0008                          has never been surpassed.\n",
              "10     LJ001-0011  it is of the first importance that the letter ...\n",
              "...           ...                                                ...\n",
              "6526   LJ023-0073  The Court claimed the power to declare it unco...\n",
              "6527   LJ023-0074       But a little later the Court itself admitted\n",
              "6530   LJ023-0077                        by which any law is passed,\n",
              "6532   LJ023-0079  But since the rise of the modern movement for ...\n",
              "6533   LJ023-0080  the Court has more and more often and more and...\n",
              "\n",
              "[3200 rows x 2 columns]"
            ]
          },
          "metadata": {
            "tags": []
          },
          "execution_count": 14
        }
      ]
    },
    {
      "cell_type": "code",
      "metadata": {
        "id": "s0Mu-YhUZkS2"
      },
      "source": [
        "mel_transform = torchaudio.transforms.MelSpectrogram(\n",
        "    sample_rate=22050,\n",
        "    n_fft=1024,\n",
        "    win_length=1024,\n",
        "    hop_length=256,\n",
        "    f_min=0,\n",
        "    f_max=8000,\n",
        "    n_mels=n_mels).to(device)"
      ],
      "execution_count": null,
      "outputs": []
    },
    {
      "cell_type": "code",
      "metadata": {
        "id": "sb_HS1DOZkS8"
      },
      "source": [
        "class MyDataset(Dataset):\n",
        "    def __init__(self, data):\n",
        "        super(MyDataset, self).__init__()\n",
        "        self._data = data\n",
        "\n",
        "    def __getitem__(self, index: int):\n",
        "        wav_filename, text_in_letters = self._data.iloc[index]\n",
        "        path_to_file = path_to_dataset + \"wavs/\" + wav_filename + \".wav\"\n",
        "\n",
        "        waveform, sample_rate = torchaudio.load(path_to_file)\n",
        "        waveform = waveform.to(device)\n",
        "        spectrogram = mel_transform(waveform)\n",
        "        spectrogram = torch.log(spectrogram + 1e-9)\n",
        "\n",
        "        return spectrogram, text_in_letters , spectrogram.shape[0] // 2, len(text_in_letters)\n",
        "\n",
        "    def __len__(self):\n",
        "        return len(self._data)"
      ],
      "execution_count": null,
      "outputs": []
    },
    {
      "cell_type": "code",
      "metadata": {
        "id": "hwM5Dm72ZkTD"
      },
      "source": [
        "my_dataset = MyDataset(LJdata)"
      ],
      "execution_count": null,
      "outputs": []
    },
    {
      "cell_type": "markdown",
      "metadata": {
        "id": "33tNm_nmhiNQ"
      },
      "source": [
        "код ниже нужно выполнить два раза, на первый раз отваливается из-за диска"
      ]
    },
    {
      "cell_type": "code",
      "metadata": {
        "id": "dIIUN6GoZkTK",
        "outputId": "eae2b7cc-4f39-422d-e432-745a7e048d2d",
        "colab": {
          "base_uri": "https://localhost:8080/",
          "height": 397
        }
      },
      "source": [
        "spec, lbl, spec_len, lbl_len = my_dataset.__getitem__(0)\n",
        "spec = spec.cpu()\n",
        "print(len(my_dataset))\n",
        "print(lbl)\n",
        "print(lbl_len)\n",
        "print(spec_len)\n",
        "\n",
        "plt.figure(figsize=(20, 5))\n",
        "plt.imshow(spec.squeeze())\n",
        "plt.show()"
      ],
      "execution_count": null,
      "outputs": [
        {
          "output_type": "stream",
          "text": [
            "3200\n",
            "in being comparatively modern.\n",
            "30\n",
            "0\n"
          ],
          "name": "stdout"
        },
        {
          "output_type": "display_data",
          "data": {
            "image/png": "[encoded data removed]",
            "text/plain": [
              "<Figure size 1440x360 with 1 Axes>"
            ]
          },
          "metadata": {
            "tags": [],
            "needs_background": "light"
          }
        }
      ]
    },
    {
      "cell_type": "code",
      "metadata": {
        "id": "jY56bZ3sZkTP",
        "outputId": "649371f2-d877-4a86-fd3c-7448d31629eb",
        "colab": {
          "base_uri": "https://localhost:8080/"
        }
      },
      "source": [
        "dataset_length = len(my_dataset)\n",
        "train_dataset_length = int(dataset_length * 0.95)\n",
        "test_dataset_length = dataset_length - train_dataset_length\n",
        "\n",
        "train_dataset, test_dataset = random_split(\n",
        "    dataset=my_dataset,\n",
        "    lengths=[train_dataset_length, test_dataset_length],\n",
        "    generator=torch.Generator().manual_seed(21)\n",
        ")\n",
        "\n",
        "print(\"train set size:\", train_dataset_length, \"\\ntest set size:\", test_dataset_length)"
      ],
      "execution_count": null,
      "outputs": [
        {
          "output_type": "stream",
          "text": [
            "train set size: 3040 \n",
            "test set size: 160\n"
          ],
          "name": "stdout"
        }
      ]
    },
    {
      "cell_type": "code",
      "metadata": {
        "id": "ANT8K1pAZkTU"
      },
      "source": [
        "def augment(waveform):\n",
        "    freq_transform = torchaudio.transforms.FrequencyMasking(freq_mask_param=freq_mask_param)\n",
        "    time_transform = torchaudio.transforms.TimeMasking(time_mask_param=time_mask_param)\n",
        "    return time_transform(freq_transform(waveform))"
      ],
      "execution_count": null,
      "outputs": []
    },
    {
      "cell_type": "code",
      "metadata": {
        "id": "Ehe4U8XUZkTZ"
      },
      "source": [
        "char2int = {\n",
        "        '#': 0,\n",
        "        ' ': 1,\n",
        "        'a': 2,\n",
        "        'b': 3,\n",
        "        'c': 4,\n",
        "        'd': 5,\n",
        "        'e': 6,\n",
        "        'f': 7,\n",
        "        'g': 8,\n",
        "        'h': 9,\n",
        "        'i': 10,\n",
        "        'j': 11,\n",
        "        'k': 12,\n",
        "        'l': 13,\n",
        "        'm': 14,\n",
        "        'n': 15,\n",
        "        'o': 16,\n",
        "        'p': 17,\n",
        "        'q': 18,\n",
        "        'r': 19,\n",
        "        's': 20,\n",
        "        't': 21,\n",
        "        'u': 22,\n",
        "        'v': 23,\n",
        "        'w': 24,\n",
        "        'x': 25,\n",
        "        'y': 26,\n",
        "        'z': 27\n",
        "    }\n",
        "\n",
        "int2char = {\n",
        "        0: '#',\n",
        "        1: ' ',\n",
        "        2: 'a',\n",
        "        3: 'b',\n",
        "        4: 'c',\n",
        "        5: 'd',\n",
        "        6: 'e',\n",
        "        7: 'f',\n",
        "        8: 'g',\n",
        "        9: 'h',\n",
        "        10: 'i',\n",
        "        11: 'j',\n",
        "        12: 'k',\n",
        "        13: 'l',\n",
        "        14: 'm',\n",
        "        15: 'n',\n",
        "        16: 'o',\n",
        "        17: 'p',\n",
        "        18: 'q',\n",
        "        19: 'r',\n",
        "        20: 's',\n",
        "        21: 't',\n",
        "        22: 'u',\n",
        "        23: 'v',\n",
        "        24: 'w',\n",
        "        25: 'x',\n",
        "        26: 'y',\n",
        "        27: 'z'\n",
        "    }    "
      ],
      "execution_count": null,
      "outputs": []
    },
    {
      "cell_type": "code",
      "metadata": {
        "id": "BgV7kjXUZkTf"
      },
      "source": [
        "def text_transform(text_in_letters):\n",
        "    int_array = []\n",
        "    for c in text_in_letters:\n",
        "        if c in char2int:\n",
        "            int_array.append(char2int[c])\n",
        "        \n",
        "    return int_array"
      ],
      "execution_count": null,
      "outputs": []
    },
    {
      "cell_type": "code",
      "metadata": {
        "id": "9QryANKvZkTo"
      },
      "source": [
        "def collate_sequences(batch, is_test = False):\n",
        "    specs = []\n",
        "    labels = []\n",
        "    specs_len = []\n",
        "    labels_len = []\n",
        "    for (log_mel_spec, text_in_letters, spec_len, text_len) in batch:\n",
        "        # if not is_test:\n",
        "        #     log_mel_spec = augment(log_mel_spec)\n",
        "        specs.append(log_mel_spec.squeeze(0).transpose(0, 1))\n",
        "        specs_len.append(log_mel_spec.shape[-1]//2)\n",
        "        # print(log_mel_spec.shape)\n",
        "        text_in_ints = torch.Tensor(text_transform(text_in_letters))\n",
        "        labels.append(text_in_ints)\n",
        "        labels_len.append(len(text_in_ints))\n",
        "\n",
        "    specs = nn.utils.rnn.pad_sequence(sequences=specs, batch_first=True).transpose(1, 2)\n",
        "    labels = nn.utils.rnn.pad_sequence(sequences=labels, batch_first=True)\n",
        "\n",
        "    return specs, labels, specs_len, labels_len"
      ],
      "execution_count": null,
      "outputs": []
    },
    {
      "cell_type": "code",
      "metadata": {
        "id": "AEWYbrEyZkTs"
      },
      "source": [
        "train_dataloader = DataLoader(\n",
        "            train_dataset,\n",
        "            batch_size=batch_size,\n",
        "            collate_fn=collate_sequences,\n",
        "            num_workers=0\n",
        "            # pin_memory=True\n",
        "        )\n",
        "\n",
        "test_dataloader = DataLoader(\n",
        "            test_dataset,\n",
        "            batch_size=batch_size,\n",
        "            collate_fn=lambda x: collate_sequences(x, True),\n",
        "            num_workers=0\n",
        "            # pin_memory=True\n",
        "        )"
      ],
      "execution_count": null,
      "outputs": []
    },
    {
      "cell_type": "code",
      "metadata": {
        "id": "EGGUJ2u8ZkT1"
      },
      "source": [
        "class Conv_BN_ReLU(nn.Module):\n",
        "    def __init__(self, in_channels, out_channels, kernel, stride = 1):\n",
        "        super(Conv_BN_ReLU, self).__init__()\n",
        "        \n",
        "        self.cnn = nn.Conv1d(\n",
        "            in_channels, out_channels, kernel, stride=stride, padding=kernel//2\n",
        "        )\n",
        "        self.batch_norm = nn.modules.batchnorm.BatchNorm1d(\n",
        "            num_features=out_channels\n",
        "        )\n",
        "        self.relu = nn.ReLU(inplace = False)\n",
        "\n",
        "    def forward(self, x):\n",
        "        x = self.cnn(x)\n",
        "        x = self.batch_norm(x)\n",
        "        x = self.relu(x)\n",
        "        return x  # (batch, channel, feature, time)"
      ],
      "execution_count": null,
      "outputs": []
    },
    {
      "cell_type": "code",
      "metadata": {
        "id": "LeBtTIbEZkT4"
      },
      "source": [
        "class TCSConv_BN_ReLU(nn.Module):\n",
        "    def __init__(self, in_channels, out_channels, kernel):\n",
        "        super(TCSConv_BN_ReLU, self).__init__()\n",
        "\n",
        "        self.depthwise_conv = nn.Conv1d(\n",
        "            in_channels, in_channels, kernel_size=kernel, padding=kernel//2,\n",
        "            groups=4, bias=False\n",
        "        )\n",
        "        self.pointwise_conv = nn.Conv1d(\n",
        "            in_channels, out_channels, kernel_size=1, padding=0, bias=False\n",
        "        )\n",
        "        self.batch_norm = nn.modules.batchnorm.BatchNorm1d(\n",
        "            num_features=out_channels\n",
        "        )\n",
        "        self.relu = nn.ReLU(inplace = False)\n",
        "\n",
        "    def forward(self, x):\n",
        "        x = self.depthwise_conv(x)\n",
        "        x = self.pointwise_conv(x)\n",
        "        x = self.batch_norm(x)\n",
        "        x = self.relu(x)\n",
        "        return x  # (batch, channel, feature, time)"
      ],
      "execution_count": null,
      "outputs": []
    },
    {
      "cell_type": "code",
      "metadata": {
        "id": "KISq4GG7-fmJ",
        "outputId": "7a158593-24db-4eeb-c4c9-133860864f43",
        "colab": {
          "base_uri": "https://localhost:8080/"
        }
      },
      "source": [
        "print(\"R =\", R)\n",
        "print(\"B =\", B)"
      ],
      "execution_count": null,
      "outputs": [
        {
          "output_type": "stream",
          "text": [
            "R = 5\n",
            "B = 3\n"
          ],
          "name": "stdout"
        }
      ]
    },
    {
      "cell_type": "code",
      "metadata": {
        "id": "X6ufwT3rZkT8"
      },
      "source": [
        "class TCSBlock(nn.Module):\n",
        "    \"\"\"Layer normalization built for cnns input\"\"\"\n",
        "    def __init__(self, in_channels, out_channels, kernel):\n",
        "        super(TCSBlock, self).__init__()\n",
        "        \n",
        "        self.TCS_layers = nn.Sequential(*[\n",
        "            TCSConv_BN_ReLU(in_channels, out_channels, kernel)\n",
        "            for i in range(R)\n",
        "        ])\n",
        "        # self.TCS_layer_1 = TCSConv_BN_ReLU(in_channels=256, out_channels=256, kernel=33)\n",
        "        # self.TCS_layer_2 = TCSConv_BN_ReLU(in_channels=256, out_channels=256, kernel=39)\n",
        "        # self.TCS_layer_3 = TCSConv_BN_ReLU(in_channels=256, out_channels=512, kernel=51)\n",
        "        # self.TCS_layer_4 = TCSConv_BN_ReLU(in_channels=512, out_channels=512, kernel=63)\n",
        "        # self.TCS_layer_5 = TCSConv_BN_ReLU(in_channels=512, out_channels=512, kernel=75)\n",
        "        \n",
        "    def forward(self, x):\n",
        "        x_copy = x\n",
        "        x = self.TCS_layers(x)\n",
        "        # x = TCS_layer_1(x)\n",
        "        # x = TCS_layer_2(x)\n",
        "        # x = TCS_layer_3(x)\n",
        "        # x = TCS_layer_4(x)\n",
        "        # x = TCS_layer_5(x)\n",
        "        x += x_copy\n",
        "        return x  # (batch, channel, feature, time)"
      ],
      "execution_count": null,
      "outputs": []
    },
    {
      "cell_type": "code",
      "metadata": {
        "id": "f7yP9D8eZkUB"
      },
      "source": [
        "class MainBlock(nn.Module):\n",
        "    def __init__(self):\n",
        "        super(MainBlock, self).__init__()\n",
        "        \n",
        "        # self.TCSBlock_1 = TCSBlock(in_channels=256, out_channels=256, kernel=33)\n",
        "        self.TCSBlock_2 = TCSBlock(in_channels=256, out_channels=256, kernel=39)\n",
        "        self.helper_2_3 = Conv_BN_ReLU(in_channels=256, out_channels=512, kernel=51)\n",
        "        # self.TCSBlock_3 = TCSBlock(in_channels=512, out_channels=512, kernel=51)\n",
        "        self.TCSBlock_4 = TCSBlock(in_channels=512, out_channels=512, kernel=63)\n",
        "        self.TCSBlock_5 = TCSBlock(in_channels=512, out_channels=512, kernel=75)\n",
        "\n",
        "    def forward(self, x):\n",
        "        # x (batch, channel, feature, time)\n",
        "        # x = self.TCSBlock_1(x)\n",
        "        x = self.TCSBlock_2(x)\n",
        "        x = self.helper_2_3(x)\n",
        "        # x = self.TCSBlock_3(x)\n",
        "        x = self.TCSBlock_4(x)\n",
        "        x = self.TCSBlock_5(x)\n",
        "        return x  # (batch, channel, feature, time)"
      ],
      "execution_count": null,
      "outputs": []
    },
    {
      "cell_type": "code",
      "metadata": {
        "id": "z22_qb7-ZkUF"
      },
      "source": [
        "class ASR(nn.Module):\n",
        "    def __init__(self):\n",
        "        super(ASR, self).__init__()\n",
        "        \n",
        "        self.conv_bn_relu_1 = Conv_BN_ReLU(\n",
        "            in_channels=64, out_channels=256, kernel=33, stride=2\n",
        "        )\n",
        "        self.main_block = MainBlock()\n",
        "        self.conv_bn_relu_2 = Conv_BN_ReLU(in_channels=512, out_channels=512, kernel=87)\n",
        "        self.conv_bn_relu_3 = Conv_BN_ReLU(in_channels=512, out_channels=1024, kernel=1)\n",
        "        self.conv_bn_relu_4 = nn.Conv1d(in_channels=1024, out_channels=len(char2int), kernel_size=1, padding=0, dilation=2, bias=False)\n",
        "    \n",
        "    def forward(self, x):\n",
        "        # x (batch, channel, feature, time)\n",
        "        x = self.conv_bn_relu_1(x)\n",
        "        x = self.main_block(x)\n",
        "        x = self.conv_bn_relu_2(x)\n",
        "        x = self.conv_bn_relu_3(x)\n",
        "        x = self.conv_bn_relu_4(x)\n",
        "        x = x.transpose(1, 2)\n",
        "        return x  # (batch, channel, feature, time)"
      ],
      "execution_count": null,
      "outputs": []
    },
    {
      "cell_type": "code",
      "metadata": {
        "id": "daCbXvcEZkUI",
        "outputId": "c916eb2e-5479-4603-9e33-1368e9da951b",
        "colab": {
          "base_uri": "https://localhost:8080/"
        }
      },
      "source": [
        "model=ASR().to(device)\n",
        "wandb.watch(model)"
      ],
      "execution_count": null,
      "outputs": [
        {
          "output_type": "execute_result",
          "data": {
            "text/plain": [
              "[<wandb.wandb_torch.TorchGraph at 0x7fa6f15469b0>]"
            ]
          },
          "metadata": {
            "tags": []
          },
          "execution_count": 31
        }
      ]
    },
    {
      "cell_type": "code",
      "metadata": {
        "id": "fVF5XjIXZkUL"
      },
      "source": [
        "optimizer = torch.optim.AdamW(model.parameters(), lr=5e-4)"
      ],
      "execution_count": null,
      "outputs": []
    },
    {
      "cell_type": "code",
      "metadata": {
        "id": "UpvKn0GUZkUO"
      },
      "source": [
        "criterion = nn.CTCLoss(blank=0).to(device)"
      ],
      "execution_count": null,
      "outputs": []
    },
    {
      "cell_type": "code",
      "metadata": {
        "id": "DAU-LYtgL3cY"
      },
      "source": [
        "log_softmax = nn.LogSoftmax(dim=2)"
      ],
      "execution_count": null,
      "outputs": []
    },
    {
      "cell_type": "code",
      "metadata": {
        "id": "W32N_nEc3PCc",
        "outputId": "401d41fc-8a1b-439a-a671-53e3c01e51b3",
        "colab": {
          "base_uri": "https://localhost:8080/"
        }
      },
      "source": [
        "print(len(train_dataloader.dataset))\n",
        "print(len(test_dataloader.dataset))"
      ],
      "execution_count": null,
      "outputs": [
        {
          "output_type": "stream",
          "text": [
            "3040\n",
            "160\n"
          ],
          "name": "stdout"
        }
      ]
    },
    {
      "cell_type": "code",
      "metadata": {
        "id": "bQFfORWDHySd"
      },
      "source": [
        "def int_to_letters(text_in_ints):\n",
        "    string = []\n",
        "    for i in text_in_ints:\n",
        "        string.append(int2char[i])\n",
        "    return ''.join(string)\n"
      ],
      "execution_count": null,
      "outputs": []
    },
    {
      "cell_type": "code",
      "metadata": {
        "id": "uN0RJ194_5mm"
      },
      "source": [
        "def Decoder(output, labels, label_lengths, blank_label=0, collapse_repeated=True):\n",
        "    arg_maxes = torch.argmax(output, dim=2)\n",
        "    decodes = []\n",
        "    targets = []\n",
        "    for i, args in enumerate(arg_maxes):\n",
        "        decode = []\n",
        "        targets.append(int_to_letters(labels[i][:label_lengths[i]].tolist()))\n",
        "        for j, index in enumerate(args):\n",
        "            if index != blank_label:\n",
        "                if collapse_repeated and j != 0 and index == args[j -1]:\n",
        "                    continue\n",
        "                decode.append(index.item())\n",
        "        decodes.append(int_to_letters(decode))\n",
        "    return decodes, targets"
      ],
      "execution_count": null,
      "outputs": []
    },
    {
      "cell_type": "code",
      "metadata": {
        "id": "Dfx1FuJ6jL_7",
        "outputId": "61d9fabf-1aad-4b0f-90fe-51eee8bae13b",
        "colab": {
          "base_uri": "https://localhost:8080/"
        }
      },
      "source": [
        "!pip install python-Levenshtein"
      ],
      "execution_count": null,
      "outputs": [
        {
          "output_type": "stream",
          "text": [
            "Collecting python-Levenshtein\n",
            "\u001b[?25l  Downloading https://files.pythonhosted.org/packages/42/a9/d1785c85ebf9b7dfacd08938dd028209c34a0ea3b1bcdb895208bd40a67d/python-Levenshtein-0.12.0.tar.gz (48kB)\n",
            "\r\u001b[K     |██████▊                         | 10kB 27.6MB/s eta 0:00:01\r\u001b[K     |█████████████▌                  | 20kB 21.2MB/s eta 0:00:01\r\u001b[K     |████████████████████▏           | 30kB 13.5MB/s eta 0:00:01\r\u001b[K     |███████████████████████████     | 40kB 12.2MB/s eta 0:00:01\r\u001b[K     |████████████████████████████████| 51kB 5.5MB/s \n",
            "\u001b[?25hRequirement already satisfied: setuptools in /usr/local/lib/python3.6/dist-packages (from python-Levenshtein) (50.3.2)\n",
            "Building wheels for collected packages: python-Levenshtein\n",
            "  Building wheel for python-Levenshtein (setup.py) ... \u001b[?25l\u001b[?25hdone\n",
            "  Created wheel for python-Levenshtein: filename=python_Levenshtein-0.12.0-cp36-cp36m-linux_x86_64.whl size=144792 sha256=372cd7ae21075b4cb468337cf3a2b5dc933ef6a82d8b0fc3a1d1214074597697\n",
            "  Stored in directory: /root/.cache/pip/wheels/de/c2/93/660fd5f7559049268ad2dc6d81c4e39e9e36518766eaf7e342\n",
            "Successfully built python-Levenshtein\n",
            "Installing collected packages: python-Levenshtein\n",
            "Successfully installed python-Levenshtein-0.12.0\n"
          ],
          "name": "stdout"
        }
      ]
    },
    {
      "cell_type": "code",
      "metadata": {
        "id": "l1vrbhwplTNZ"
      },
      "source": [
        "import Levenshtein"
      ],
      "execution_count": null,
      "outputs": []
    },
    {
      "cell_type": "code",
      "metadata": {
        "id": "aCi5e8PyknUN"
      },
      "source": [
        "def wer(reference, hypothesis, delimiter=' '):\n",
        "\n",
        "    reference = reference.lower()\n",
        "    hypothesis = hypothesis.lower()\n",
        "\n",
        "    # ref_words = reference.split(delimiter)\n",
        "    # hyp_words = hypothesis.split(delimiter)\n",
        "\n",
        "    # print(\"ref:\\n\", reference, \"\\nhyp:\\n\", hypothesis)\n",
        "    edit_distance = Levenshtein.distance(reference, hypothesis)\n",
        "\n",
        "    wer = float(edit_distance) / len(reference)\n",
        "    return wer"
      ],
      "execution_count": null,
      "outputs": []
    },
    {
      "cell_type": "code",
      "metadata": {
        "id": "SWiz-_avmkiW"
      },
      "source": [
        "def cer(reference, hypothesis, remove_space=False):\n",
        "\n",
        "    reference = reference.lower()\n",
        "    hypothesis = hypothesis.lower()\n",
        "    join_char = ' '\n",
        "    if remove_space == True:\n",
        "        join_char = ''\n",
        "\n",
        "    reference = join_char.join(filter(None, reference.split(' ')))\n",
        "    hypothesis = join_char.join(filter(None, hypothesis.split(' ')))\n",
        "\n",
        "    edit_distance = Levenshtein.distance(reference, hypothesis)\n",
        "\n",
        "    cer = float(edit_distance) / len(reference)\n",
        "    return cer"
      ],
      "execution_count": null,
      "outputs": []
    },
    {
      "cell_type": "code",
      "metadata": {
        "id": "1HjzkycGmgrx"
      },
      "source": [
        ""
      ],
      "execution_count": null,
      "outputs": []
    },
    {
      "cell_type": "code",
      "metadata": {
        "id": "uk9pfIMKEp9I"
      },
      "source": [
        "def train(model, train_dataloader, criterion, optimizer, epoch):\n",
        "    model.train()\n",
        "    data_len = len(train_dataloader.dataset)\n",
        "    #print(data_len)\n",
        "    losses = []\n",
        "    for batch_idx, (log_mel_specs, texts_in_ints, spec_lengths, lbl_lengths) in enumerate(train_dataloader):\n",
        "        log_mel_specs = log_mel_specs.to(device)\n",
        "        texts_in_ints = texts_in_ints.to(device)\n",
        "\n",
        "        optimizer.zero_grad()\n",
        "\n",
        "        output = model(log_mel_specs)  # (batch, time, n_class)\n",
        "        #print(output.shape)\n",
        "        #print(output)\n",
        "        output = log_softmax(output)\n",
        "        #print(output.shape)\n",
        "        #print(output)\n",
        "        output = output.transpose(0, 1) # (time, batch, n_class)\n",
        "\n",
        "        loss = criterion(output, texts_in_ints, spec_lengths, lbl_lengths)\n",
        "        loss.backward()\n",
        "        losses.append(loss)\n",
        "\n",
        "        optimizer.step()\n",
        "        if batch_idx == 1 and epoch % 10 == 1:\n",
        "            decodes, targets = Decoder(\n",
        "                output.transpose(0, 1), texts_in_ints, lbl_lengths, blank_label=0, collapse_repeated=True\n",
        "            )\n",
        "            print('Train Epoch: {} [{}/{} ({:.0f}%)]\\tLoss: {:.6f}'.format(\n",
        "                epoch, batch_idx * len(log_mel_specs), data_len,\n",
        "                100. * batch_idx / len(train_dataloader), loss.item()))\n",
        "            print(\"Decodes:\\n\", decodes)\n",
        "            print(\"Targets:\\n\", targets)\n",
        "    wandb.log({\"Train loss\": sum(losses) / len(losses)})  # , \"Train CER\": avg_cer, \"Train WER\": avg_wer})\n",
        "    return sum(losses) / len(losses)"
      ],
      "execution_count": null,
      "outputs": []
    },
    {
      "cell_type": "code",
      "metadata": {
        "id": "zNUK3Rsv2pn-"
      },
      "source": [
        "def test(model, test_dataloader, criterion, epoch):\n",
        "    model.eval()\n",
        "    test_loss = 0\n",
        "    test_cer, test_wer = [], []\n",
        "    with torch.no_grad():\n",
        "        for batch_idx, (log_mel_specs, texts_in_ints, spec_lengths, lbl_lengths) in enumerate(test_dataloader):\n",
        "            log_mel_specs = log_mel_specs.to(device)\n",
        "            texts_in_ints = texts_in_ints.to(device)\n",
        "\n",
        "            output = model(log_mel_specs)  # (batch, time, n_class)\n",
        "            output = log_softmax(output)\n",
        "            output = output.transpose(0, 1) # (time, batch, n_class)\n",
        "\n",
        "            loss = criterion(output, texts_in_ints, spec_lengths, lbl_lengths)\n",
        "            print(\"loss =\", loss.item(), \"dataloader len =\", len(test_dataloader))\n",
        "            test_loss += loss.item() / len(test_dataloader)\n",
        "\n",
        "            decoded_preds, decoded_targets = Decoder(\n",
        "                output.transpose(0, 1), texts_in_ints, lbl_lengths, blank_label=0, collapse_repeated=True\n",
        "            )\n",
        "            print(\"Decoded predictions:\\n\", decoded_preds)\n",
        "            print(\"Decoded rargets:\\n\", decoded_targets)\n",
        "            for j in range(len(decoded_preds)):\n",
        "                test_cer.append(cer(decoded_targets[j], decoded_preds[j]))\n",
        "                test_wer.append(wer(decoded_targets[j], decoded_preds[j]))\n",
        "\n",
        "\n",
        "    avg_cer = sum(test_cer)/len(test_cer)\n",
        "    avg_wer = sum(test_wer)/len(test_wer)\n",
        "    \n",
        "    print('Test set: Average loss: {:.4f}, Average CER: {:4f} Average WER: {:.4f}\\n'.format(test_loss, avg_cer, avg_wer))\n",
        "    wandb.log({\"Test loss\": test_loss, \"Test CER\": avg_cer, \"Test WER\": avg_wer})\n",
        "    return test_loss, avg_cer, avg_wer\n"
      ],
      "execution_count": null,
      "outputs": []
    },
    {
      "cell_type": "code",
      "metadata": {
        "id": "Ntz4lK9vBsJI"
      },
      "source": [
        "#model = model.to(\"cpu\")"
      ],
      "execution_count": null,
      "outputs": []
    },
    {
      "cell_type": "code",
      "metadata": {
        "id": "qgJOpsQhAXUy"
      },
      "source": [
        "# torch.save(model, path_to_model)\n",
        "# torch.save(model.state_dict(), path_to_weights_dict)"
      ],
      "execution_count": null,
      "outputs": []
    },
    {
      "cell_type": "code",
      "metadata": {
        "id": "D5L4gdIjEqEC",
        "outputId": "85afa745-43b7-41dc-cb76-fdc317d5f4ed",
        "colab": {
          "base_uri": "https://localhost:8080/",
          "height": 1000
        }
      },
      "source": [
        "# train_losses = []\n",
        "# test_losses = []\n",
        "# test_avg_cers = []\n",
        "# test_avg_wers = []\n",
        "\n",
        "for epoch in range(epochs):\n",
        "  train_avg_loss = train(model, train_dataloader, criterion, optimizer, epoch)\n",
        "  # train_losses.append(train_avg_loss)\n",
        "  test_avg_loss, test_avg_cer, test_avg_wer = test(model, test_dataloader, criterion, epoch)\n",
        "  # test_losses.append(test_avg_loss)\n",
        "  # test_avg_cers.append(test_avg_cer)\n",
        "  # test_avg_wers.append(test_avg_wer)\n",
        "  if (epoch % 50 == 0 and epoch > 2):\n",
        "    torch.save(model.state_dict(), 'model_state_dict.pt')\n",
        "    print(\"Saved model at\", epoch, \"epoch\")\n",
        "    files.download('model_state_dict.pt')\n",
        "\n",
        "# model = model.to(\"cpu\")\n",
        "torch.save(model.state_dict(), 'model_state_dict.pt')\n",
        "files.download('model_state_dict.pt')\n",
        "# model = model.to(device)\n",
        "print(\"Saved model at last epoch\")"
      ],
      "execution_count": null,
      "outputs": [
        {
          "output_type": "stream",
          "text": [
            "loss = 3.8510138988494873 dataloader len = 5\n",
            "Decoded predictions:\n",
            " ['sn', 'sn', 'sn', 'sn', 'sn', 'sn', 'sn', 'sn', 'sn', 'sn', 'sn', 'sn', '', 'sn', 'sn', '', '', 'sn', 'sn', 'sn', 'sn', 'sn', 'sn', 'n', 'sn', 'sn', 'sn', 'sn', 'n', 'sn', 'sn', 'sn']\n",
            "Decoded rargets:\n",
            " ['s yet no rules or regulations had been printed or prepared', 'was substantially true', 'he did not shrink from murder both for revenge and to conceal his other crimes', 'he text without another word is enough to raise the wildest passions of the audience', 'all the avenues to the prison gates were blocked by ticketholders', 'e forgot to add that it was to be placed to alphs credit and when he called as alph', 'but at r assons pressing demands went upstairs to fetch the certificates', 'ost of ensons letters are designed within a square', 'e was a corn merchant who operated largely in grain', 'n this akefield gave in', 'his passbook when not at the bank was in the exclusive custody of atts', 'which possessed the right of trying criminals for various offenses', 'then to divert suspicion from herself by throwing it on a confectioner whose sweetmeats she bought', 'ne night he was missing', 'in the other opposite were the convicts capitally convicted who had been respited', 'together with four bradawls several large iron spikes screws nails and knives', 'ord dvocate r harles eate r illiam wart and last but not least r ohn right', 'it is supported by strong posts fixed into grooves made in the street', 'with the rakings of cheap singinghalls and billiardrooms the fast young men of ondon', 'ut this boon of toil was denied to all but a very limited number', 'ay who had been living with gar at the time of the bullion robbery', 'hose who manufactured and those who passed had no direct dealings with each other', 'ome of the county jails and one or two borough jails had been rebuilt', 'is regular trade followed before he took to the life of resurrectionist was that of an engraver', 'eight he press yard', 'e are not frightened by reactionary lawyers or political editors', 'and provide for the common defense and general welfare of the nited tates', 'who in solemn tones communicated to each in turn the fate in store for him', 'he shot an old soldier who had attempted to detain him e was convicted and executed', 'he human hand that placed it there was only seen for a moment', 'n directing it  shall recognize six fundamental principles', 'here is likewise pending before the ongress']\n",
            "loss = 3.966928482055664 dataloader len = 5\n",
            "Decoded predictions:\n",
            " ['sn', 'sn', 'sn', 'sn', 'sn', 'sn', 'sn', 'sn', 'sn', 'sn', 'sn', 'sn', '', 'sn', 'sn', 'sn', '', 'sn', 'sn', 'sn', 'sn', 'sn', 'sn', 'sn', 'sn', 'sn', '', 'sn', 'sn', 'sn', 'sn', 'sn']\n",
            "Decoded rargets:\n",
            " ['ut why should  repeat the whole', 'he total number of prisoners they received during the year varied from two persons to many hundreds', 'eanwhile the clergyman still bent into the form of a sleeping dog', 'through the most comprehensive work plan in the history of the nation', 'he soon left the service and betook himself to dishonest ways', 'unlimited drink was not denied them provided it was obtained in regulated quantities at one time', 'here were but few women except of the most degraded sort the men were mostly young men ', 'of the ambs offee ouse', 'ries although enjoying a high reputation in the city had long been in a bad way', 'but at the same time with an air of the most entire truthfulness and candor', 'as the inspectors of prisons found them in eighteen thirtyfive to six', 'hrow a cloth over the bowl and set by for five or six hours to rise', 'as its signature was dated eighteen twentynine whereas rs unt actually died in eighteen oh six', 'r urner at once set off for ondon where he sought the assistance of the police', 'through the instrumentality of the democratic form of government', 'hese bankers wishing for more specific information', 'efore that time individual self interest and group selfishness were paramount in public thinking', 't should be remembered that in every big job there are some imperfections', 'his will was a deliberate forgery', 'or his bedclothes were drawn away across the room', 'he worked along to the roofs in arwick ane', 'he ords ommittee fully recognized the painful fact', 'looked forward to his liberty he was still delayed until he had paid a new debt arising quote', 't was stated in evidence before the ommission on apital unishment in eighteen sixtyfour', 'er captain was ohn mith', 'hey felt that private enterprise might', 'and the powers given to the ongress to carry out those purposes can be best described by saying', 'and took the instrument out to a clerk with the ink not dry', 'ries of urder murder were now raised and added greatly to the horrors of the scene', 'and for years felons who should have been sent beyond the seas', 'all of which declared their approval of the commanderinchief', ' believe says r ennet in the letter already largely quoted']\n",
            "loss = 3.6103968620300293 dataloader len = 5\n",
            "Decoded predictions:\n",
            " ['sn', 'sn', 'sn', 'sn', 'sn', 'sn', 'sn', 'sn', 'sn', 'sn', 'sn', 'sn', 'sn', 'sn', 'n', 'sn', 'sn', 'sn', 'sn', 'sn', 'sn', 'sn', 'sn', 'sn', 'sn', 'sn', '', 'sn', 'sn', 'sn', 'sn', 'sn']\n",
            "Decoded rargets:\n",
            " ['t her death the diamonds were divided between her four daughters but only half had been claimed', 'the remaining five were executed in one batch', 'the convict was half on the platform half hanging and the convulsions of his body were appalling', 'and under the scanty covering of a couple of dirty stablerugs apiece', 'e soon however became deeply involved in tock xchange speculations', 'e was arrested examined before a police magistrate and committed to ewgate', 'eare was supposed to carry a private bank about with him in a pocket in his under waistcoat', 'which requires the constant exercise of judgment and taste on the part of the printer', 'is letter to the orporation under date fourth une', 'while the latter which included various forms of industrial employment', 'he clothes of prisoners arriving dirty or in rags should be fumigated before worn in the jail', 'lthough attempted partially at ridewell and more systematically at the new illbank penitentiary', 'ushing the shopdoor open he saw arley finishing his murderous assault', 'ater on he had devoted himself to the personal investigation of the prisons of the nited tates', ' answer that no country however rich can afford the waste of its human resources', 'll the committee could do in this respect was to throw the responsibility on others', 'ails of which the old prison at eading was a specimen were still left intact', 'where a workman found a bundle containing two human legs in a drain', 'the wide dark sea of heads is all at once in motion', 'that we approached our task of reviving private enterprise in arch nineteen thirtythree', 'working at the roof of the chapel on the female side', 'under which wages hours and working conditions', 'that of a prizefighter named onovan tried the same day and convicted of manslaughter', 'here were others less successful', 'he acted in a manner which excited the suspicions of the crew', 'hen one of these ships is under construction and the steel frames have been set in the keel', 'and in such an effort we should be able to secure for employers and employees and consumers', 'so that the culprit in addition to his sentence', 'hen a bit of rope carefully secreted', 'any of the jails were in the most deplorable condition', 'and that in a moment of anger he knocked her down', 'after using much intemperate language he left the place in a huff']\n",
            "loss = 3.5244548320770264 dataloader len = 5\n",
            "Decoded predictions:\n",
            " ['sn', 'en', 'sn', 'sn', 'sn', '', '', 'sn', 'sn', 'n', 'sn', 'en', 'sn', 'sn', 'sn', 'sn', '', 'n', 'sn', 'en', 'sn', 'n', 'sn', 'sn', 'sn', 'sn', 'n', 'sn', '', 'sn', 'sn', 'sn']\n",
            "Decoded rargets:\n",
            " ['of this it may be said that though there is some good paper made now', 'his was uranno but the sight of the heaving mass of uplifted impassioned faces', 'heir origin it will be seen dates back much further than that', 'r hillips who led in the case went to the other extreme', 'r earson backed up his recommendations by many sound arguments', 'exactly tallied with that of the deformed person wanted for the assault on the ueen', 't is a quiet crisis here are no lines of depositors outside closed banks', 'repaired there secretly and so gave information to the razilian authorities', 'ou can have no good intentions you must quit my service tomorrow morning', 'he doors through incomplete knowledge of prison needs were not as now sheeted with iron', 'he was smartly dressed in a plaid shawl a white lace cap', 'for a petition of from one shilling half pence to eight shillings according to its length', 'as she leant back he put his foot against the chair and so tilted it over', 'he jury without hesitation found ourvoisier guilty and he was sentenced to death', 'presently fell and were at once trampled to death', 'p to the twentyfirst ecember eighteen fortytwo', 'is disclaimer distinct and detailed on every point was intended simply for effect', 'his ingenious method of raising funds he adopted and carried on without detection', 'which mericans have demanded since the white man first came to these shores', 'n eighteen fiftythree three men escaped in company from one of the wards in the middle yard', 'ne heaping cup of sifted flour', 'ur responsibility for the immediate necessities of the unemployed has been met by the ongress', 'hey admitted that they had made away with many of the securities entrusted to their keeping', 'n these cases security was given for the amount of the debt', 'the unit of the book being looked on as the two pages forming an opening', 'is nature must have been kindly', 'r obbett was also a lodger of r ewmans and so were any members of the aristocracy', ' have set up a ivision of pplications and nformation', 'he shot missed and as the carriage passed on xford drew a second pistol and fired again', 'here is no occasion to use violence  will go with you', 'could not be brought about in one year', 'he policemen treated the matter as a hoax and allowed the culprit to make off']\n",
            "loss = 3.3760528564453125 dataloader len = 5\n",
            "Decoded predictions:\n",
            " ['sn', 'sn', 'sn', 'sn', 'sn', 'sn', 'sn', 'sn', 'en', 'sn', 'sn', 'sn', 'sn', 'sn', 'sn', 'sn', 'sn', 'sn', 'sn', '', 'sn', 'sn', 'sn', 'sn', 'sn', 'sn', 'sn', 'sn', '', 'sn', 'sn', 'sn']\n",
            "Decoded rargets:\n",
            " ['ut ewgate and its neighborhood was carefully held by the police both city and metropolitan', 'he ennies men were all reeks except one known as rench eter', 'oung ngland was a secret society with no aim or object', 'e have passed through the formative period of code making in the ational ecovery dministration', 'followed him over to weden and arrested him at elsingfors', 'he neglect of prison reform in those days was not to be visited upon the legislature', 'here was fear as to the unrestricted use of tools', 'he inmates of this part as distinguished from the debtors were comprised in four classes', 'he use of gas or some other means of lighting might be adopted but more often was dispensed with', 't turned out that he was really married to rs anning', 's the executioner fastened the noose he nodded to a friend he saw in the crowd', 'hen they brought in the two watchers to relieve guard one night attler said', 'and to dispose him by meditation and seclusion to return to an honest life', 'he key men for the major responsibilities of this great task already have been selected', 'hence he was transferred to openhagen and surrendered in due course to a ondon police officer', 'which obtained through the attrition of individuals before the new conditions arose', 'were fixed over the fireplaces and the prisoners had no longer access to the chimneys', ' third similar fraud to the amount of two thousand pounds was also brought to light', 'hey also ascertained that a goldrefiner', 'two he female debtors side three he chapel yard four he middle yard', 'signed by more than a thousand members of banking firms', 'hat in this vast metropolis the center of wealth civilization and information', 'several bishops and a number of members of the ouse of ommons including r anners utton', 'he goods having no existence ole of course could not deliver them', 'was in several places merely temporary', 'he general solidity of a page is much to be sought for', 'a circular aperture had been let in to give ventilation and secure a free current of air', ' will quote an extract from the reverend gentlemans own journal', 'he judge of the dmiralty ourt the ight on tephen ushington the ight on ames oncrieff', 'which with akefield was utilized as a receptacle for convicts not going to estern ustralia', 'is demeanor immediately preceding his execution  have referred to in the last chapter', 'e played high and spent his nights at the club or in joyous and dissolute company']\n",
            "Test set: Average loss: 3.6658, Average CER: 0.972279 Average WER: 0.9723\n",
            "\n",
            "Train Epoch: 1 [32/3040 (1%)]\tLoss: 2.900095\n",
            "Decodes:\n",
            " ['n', 'sn', 'sn', 'n', 'en', 'esn', 'sn', 'n', 'n', 'n', 'en', 'n', 'sn', 'n', 'n', 'sn', 'n', '', '', 'n', 'sn', 'en', 'n', 'sn', 'n', 'n', 'n', '', 'en', 'n', 'sn', '']\n",
            "Targets:\n",
            " ['till no sentence of death was carried out for the offense and in eighteen thirtytwo', 'was the state of her fathers affairs', 'aynard was the only one who suffered death', 'auntleroy was not entirely dependent upon the ordinary for ghostly counsel in his extremity', 'unless they could afford to pay for a vehicle out of their own funds', 'e traversed vainly all the roofs in ewgate treet', 'he was discovered just as she was getting black in the face', 'h he remarked they will have to wait for us then till eight', 'ndeterred by the wellmerited punishment which had overtaken rancis', 'hey are both drawn at once by a windlass and the unhappy culprits remain suspended', 'ne quart of raham flour one cup of white flour', 'r trahan was arrested at a friends house in ryanston quare', 'as coming from a r hitney', 'who had plausibly explained that he had only recently been engaged at hrigley', 'ntil the time of his death he kept a small shop close to the church in orncastle', 'one of them of considerable size', 'either in town or country were cases entirely taken on their own merits', 'id ngland hesitate to call in ten billion dollars of her war bonds bearing five percent interest', 'every profession has its black sheep but long experience in government has taught me', 'the signal for the commencement of obscene talk revelry and violence', ' confederate followed the emissary closely', 'he proceeds of the robbery were lodged in a oston bank', 'in order that unemployment may be prevented by the stabilizing of employment itself', 'n the eighteenth ecember eighteen twelve', 'fter alcrafts resignation no successor was really appointed', 'he second attack was fatal and ended in ooks death from tetanus', 't was only filled at the periods when the sessions of the entral riminal ourt were in progress', 'and was rendered insensible by chloroform after which he was bound and the precious stones stolen', 'he wardsman still exacted dues of which more directly', 'and xford was ordered to be detained during er ajestys pleasure', 'which oward had eulogized some forty years before', 'he hronicles of ewgate olume two y rthur riffiths ection twentytwo ewgate eformed']\n",
            "loss = 2.904763698577881 dataloader len = 5\n",
            "Decoded predictions:\n",
            " ['ene', 'ene', 'ene', 'ene', 'ene', 'en', 'ene', 'ene', 'ene', 'ene', 'ne', 'ene', '', 'ene', 'ene', '', '', 'ene', 'ene', 'ene', 'ne', 'ene', 'ene', '', 'ene', 'ene', 'ene', 'ene', 'en', 'ene', 'ene', 'ne']\n",
            "Decoded rargets:\n",
            " ['s yet no rules or regulations had been printed or prepared', 'was substantially true', 'he did not shrink from murder both for revenge and to conceal his other crimes', 'he text without another word is enough to raise the wildest passions of the audience', 'all the avenues to the prison gates were blocked by ticketholders', 'e forgot to add that it was to be placed to alphs credit and when he called as alph', 'but at r assons pressing demands went upstairs to fetch the certificates', 'ost of ensons letters are designed within a square', 'e was a corn merchant who operated largely in grain', 'n this akefield gave in', 'his passbook when not at the bank was in the exclusive custody of atts', 'which possessed the right of trying criminals for various offenses', 'then to divert suspicion from herself by throwing it on a confectioner whose sweetmeats she bought', 'ne night he was missing', 'in the other opposite were the convicts capitally convicted who had been respited', 'together with four bradawls several large iron spikes screws nails and knives', 'ord dvocate r harles eate r illiam wart and last but not least r ohn right', 'it is supported by strong posts fixed into grooves made in the street', 'with the rakings of cheap singinghalls and billiardrooms the fast young men of ondon', 'ut this boon of toil was denied to all but a very limited number', 'ay who had been living with gar at the time of the bullion robbery', 'hose who manufactured and those who passed had no direct dealings with each other', 'ome of the county jails and one or two borough jails had been rebuilt', 'is regular trade followed before he took to the life of resurrectionist was that of an engraver', 'eight he press yard', 'e are not frightened by reactionary lawyers or political editors', 'and provide for the common defense and general welfare of the nited tates', 'who in solemn tones communicated to each in turn the fate in store for him', 'he shot an old soldier who had attempted to detain him e was convicted and executed', 'he human hand that placed it there was only seen for a moment', 'n directing it  shall recognize six fundamental principles', 'here is likewise pending before the ongress']\n",
            "loss = 2.9058656692504883 dataloader len = 5\n",
            "Decoded predictions:\n",
            " ['ene', 'en', 'ene', 'ene', 'ene', 'en', 'ene', 'ene', 'ene', 'ene', 'ene', 'ne', '', 'ene', 'ene', 'ene', '', 'ene', 'ene', 'ne', 'ene', 'ene', 'ene', 'ene', 'ene', 'ene', '', 'ene', 'ene', 'ene', 'ene', 'ene']\n",
            "Decoded rargets:\n",
            " ['ut why should  repeat the whole', 'he total number of prisoners they received during the year varied from two persons to many hundreds', 'eanwhile the clergyman still bent into the form of a sleeping dog', 'through the most comprehensive work plan in the history of the nation', 'he soon left the service and betook himself to dishonest ways', 'unlimited drink was not denied them provided it was obtained in regulated quantities at one time', 'here were but few women except of the most degraded sort the men were mostly young men ', 'of the ambs offee ouse', 'ries although enjoying a high reputation in the city had long been in a bad way', 'but at the same time with an air of the most entire truthfulness and candor', 'as the inspectors of prisons found them in eighteen thirtyfive to six', 'hrow a cloth over the bowl and set by for five or six hours to rise', 'as its signature was dated eighteen twentynine whereas rs unt actually died in eighteen oh six', 'r urner at once set off for ondon where he sought the assistance of the police', 'through the instrumentality of the democratic form of government', 'hese bankers wishing for more specific information', 'efore that time individual self interest and group selfishness were paramount in public thinking', 't should be remembered that in every big job there are some imperfections', 'his will was a deliberate forgery', 'or his bedclothes were drawn away across the room', 'he worked along to the roofs in arwick ane', 'he ords ommittee fully recognized the painful fact', 'looked forward to his liberty he was still delayed until he had paid a new debt arising quote', 't was stated in evidence before the ommission on apital unishment in eighteen sixtyfour', 'er captain was ohn mith', 'hey felt that private enterprise might', 'and the powers given to the ongress to carry out those purposes can be best described by saying', 'and took the instrument out to a clerk with the ink not dry', 'ries of urder murder were now raised and added greatly to the horrors of the scene', 'and for years felons who should have been sent beyond the seas', 'all of which declared their approval of the commanderinchief', ' believe says r ennet in the letter already largely quoted']\n",
            "loss = 2.9009156227111816 dataloader len = 5\n",
            "Decoded predictions:\n",
            " ['ene', 'ene', 'ene', 'ene', 'ene', 'ene', 'en', 'ene', 'ene', 'ene', 'en', 'en', 'ene', 'ene', 'en', 'ene', 'ene', 'ene', 'ene', 'ene', 'ene', 'ene', 'ene', 'ene', 'ene', 'ene', '', 'ene', 'ene', 'ene', 'ene', 'ene']\n",
            "Decoded rargets:\n",
            " ['t her death the diamonds were divided between her four daughters but only half had been claimed', 'the remaining five were executed in one batch', 'the convict was half on the platform half hanging and the convulsions of his body were appalling', 'and under the scanty covering of a couple of dirty stablerugs apiece', 'e soon however became deeply involved in tock xchange speculations', 'e was arrested examined before a police magistrate and committed to ewgate', 'eare was supposed to carry a private bank about with him in a pocket in his under waistcoat', 'which requires the constant exercise of judgment and taste on the part of the printer', 'is letter to the orporation under date fourth une', 'while the latter which included various forms of industrial employment', 'he clothes of prisoners arriving dirty or in rags should be fumigated before worn in the jail', 'lthough attempted partially at ridewell and more systematically at the new illbank penitentiary', 'ushing the shopdoor open he saw arley finishing his murderous assault', 'ater on he had devoted himself to the personal investigation of the prisons of the nited tates', ' answer that no country however rich can afford the waste of its human resources', 'll the committee could do in this respect was to throw the responsibility on others', 'ails of which the old prison at eading was a specimen were still left intact', 'where a workman found a bundle containing two human legs in a drain', 'the wide dark sea of heads is all at once in motion', 'that we approached our task of reviving private enterprise in arch nineteen thirtythree', 'working at the roof of the chapel on the female side', 'under which wages hours and working conditions', 'that of a prizefighter named onovan tried the same day and convicted of manslaughter', 'here were others less successful', 'he acted in a manner which excited the suspicions of the crew', 'hen one of these ships is under construction and the steel frames have been set in the keel', 'and in such an effort we should be able to secure for employers and employees and consumers', 'so that the culprit in addition to his sentence', 'hen a bit of rope carefully secreted', 'any of the jails were in the most deplorable condition', 'and that in a moment of anger he knocked her down', 'after using much intemperate language he left the place in a huff']\n",
            "loss = 2.90189266204834 dataloader len = 5\n",
            "Decoded predictions:\n",
            " ['ene', 'en', 'ene', 'ene', 'ne', '', '', 'ene', 'ne', 'en', 'ene', 'en', 'ene', 'ene', 'ene', 'ene', '', 'en', 'ene', 'en', 'ene', 'n', 'ene', 'ene', 'ene', 'ene', 'en', 'ene', '', 'ene', 'ene', 'ene']\n",
            "Decoded rargets:\n",
            " ['of this it may be said that though there is some good paper made now', 'his was uranno but the sight of the heaving mass of uplifted impassioned faces', 'heir origin it will be seen dates back much further than that', 'r hillips who led in the case went to the other extreme', 'r earson backed up his recommendations by many sound arguments', 'exactly tallied with that of the deformed person wanted for the assault on the ueen', 't is a quiet crisis here are no lines of depositors outside closed banks', 'repaired there secretly and so gave information to the razilian authorities', 'ou can have no good intentions you must quit my service tomorrow morning', 'he doors through incomplete knowledge of prison needs were not as now sheeted with iron', 'he was smartly dressed in a plaid shawl a white lace cap', 'for a petition of from one shilling half pence to eight shillings according to its length', 'as she leant back he put his foot against the chair and so tilted it over', 'he jury without hesitation found ourvoisier guilty and he was sentenced to death', 'presently fell and were at once trampled to death', 'p to the twentyfirst ecember eighteen fortytwo', 'is disclaimer distinct and detailed on every point was intended simply for effect', 'his ingenious method of raising funds he adopted and carried on without detection', 'which mericans have demanded since the white man first came to these shores', 'n eighteen fiftythree three men escaped in company from one of the wards in the middle yard', 'ne heaping cup of sifted flour', 'ur responsibility for the immediate necessities of the unemployed has been met by the ongress', 'hey admitted that they had made away with many of the securities entrusted to their keeping', 'n these cases security was given for the amount of the debt', 'the unit of the book being looked on as the two pages forming an opening', 'is nature must have been kindly', 'r obbett was also a lodger of r ewmans and so were any members of the aristocracy', ' have set up a ivision of pplications and nformation', 'he shot missed and as the carriage passed on xford drew a second pistol and fired again', 'here is no occasion to use violence  will go with you', 'could not be brought about in one year', 'he policemen treated the matter as a hoax and allowed the culprit to make off']\n",
            "loss = 2.8845152854919434 dataloader len = 5\n",
            "Decoded predictions:\n",
            " ['ene', 'ene', 'ene', 'en', 'ene', 'ene', 'ene', 'en', 'en', 'ene', 'ene', 'ene', 'ene', 'ene', 'ene', 'ne', 'ene', 'en', 'ene', '', 'ne', 'ene', 'en', 'ne', 'ene', 'ene', 'en', 'ene', '', 'ene', 'ene', 'ene']\n",
            "Decoded rargets:\n",
            " ['ut ewgate and its neighborhood was carefully held by the police both city and metropolitan', 'he ennies men were all reeks except one known as rench eter', 'oung ngland was a secret society with no aim or object', 'e have passed through the formative period of code making in the ational ecovery dministration', 'followed him over to weden and arrested him at elsingfors', 'he neglect of prison reform in those days was not to be visited upon the legislature', 'here was fear as to the unrestricted use of tools', 'he inmates of this part as distinguished from the debtors were comprised in four classes', 'he use of gas or some other means of lighting might be adopted but more often was dispensed with', 't turned out that he was really married to rs anning', 's the executioner fastened the noose he nodded to a friend he saw in the crowd', 'hen they brought in the two watchers to relieve guard one night attler said', 'and to dispose him by meditation and seclusion to return to an honest life', 'he key men for the major responsibilities of this great task already have been selected', 'hence he was transferred to openhagen and surrendered in due course to a ondon police officer', 'which obtained through the attrition of individuals before the new conditions arose', 'were fixed over the fireplaces and the prisoners had no longer access to the chimneys', ' third similar fraud to the amount of two thousand pounds was also brought to light', 'hey also ascertained that a goldrefiner', 'two he female debtors side three he chapel yard four he middle yard', 'signed by more than a thousand members of banking firms', 'hat in this vast metropolis the center of wealth civilization and information', 'several bishops and a number of members of the ouse of ommons including r anners utton', 'he goods having no existence ole of course could not deliver them', 'was in several places merely temporary', 'he general solidity of a page is much to be sought for', 'a circular aperture had been let in to give ventilation and secure a free current of air', ' will quote an extract from the reverend gentlemans own journal', 'he judge of the dmiralty ourt the ight on tephen ushington the ight on ames oncrieff', 'which with akefield was utilized as a receptacle for convicts not going to estern ustralia', 'is demeanor immediately preceding his execution  have referred to in the last chapter', 'e played high and spent his nights at the club or in joyous and dissolute company']\n",
            "Test set: Average loss: 2.8996, Average CER: 0.959086 Average WER: 0.9591\n",
            "\n",
            "loss = 2.8992514610290527 dataloader len = 5\n",
            "Decoded predictions:\n",
            " ['ane', 'ane', 'an', 'an', 'ane', 'n', 'an', 'ane', 'ane', 'ane', 'an', 'ane', '', 'ane', 'an', '', '', 'an', 'an', 'ne', 'ne', 'an', 'an', 'n', 'ane', 'an', 'an', 'an', 'n', 'an', 'an', 'ane']\n",
            "Decoded rargets:\n",
            " ['s yet no rules or regulations had been printed or prepared', 'was substantially true', 'he did not shrink from murder both for revenge and to conceal his other crimes', 'he text without another word is enough to raise the wildest passions of the audience', 'all the avenues to the prison gates were blocked by ticketholders', 'e forgot to add that it was to be placed to alphs credit and when he called as alph', 'but at r assons pressing demands went upstairs to fetch the certificates', 'ost of ensons letters are designed within a square', 'e was a corn merchant who operated largely in grain', 'n this akefield gave in', 'his passbook when not at the bank was in the exclusive custody of atts', 'which possessed the right of trying criminals for various offenses', 'then to divert suspicion from herself by throwing it on a confectioner whose sweetmeats she bought', 'ne night he was missing', 'in the other opposite were the convicts capitally convicted who had been respited', 'together with four bradawls several large iron spikes screws nails and knives', 'ord dvocate r harles eate r illiam wart and last but not least r ohn right', 'it is supported by strong posts fixed into grooves made in the street', 'with the rakings of cheap singinghalls and billiardrooms the fast young men of ondon', 'ut this boon of toil was denied to all but a very limited number', 'ay who had been living with gar at the time of the bullion robbery', 'hose who manufactured and those who passed had no direct dealings with each other', 'ome of the county jails and one or two borough jails had been rebuilt', 'is regular trade followed before he took to the life of resurrectionist was that of an engraver', 'eight he press yard', 'e are not frightened by reactionary lawyers or political editors', 'and provide for the common defense and general welfare of the nited tates', 'who in solemn tones communicated to each in turn the fate in store for him', 'he shot an old soldier who had attempted to detain him e was convicted and executed', 'he human hand that placed it there was only seen for a moment', 'n directing it  shall recognize six fundamental principles', 'here is likewise pending before the ongress']\n",
            "loss = 2.9262163639068604 dataloader len = 5\n",
            "Decoded predictions:\n",
            " ['ane', 'an', 'ane', 'ane', 'ane', 'an', 'an', 'ane', 'an', 'an', 'an', 'an', '', 'ane', 'ane', 'ane', '', 'an', 'ane', 'ane', 'ne', 'ne', 'an', 'an', 'ne', 'ane', 'n', 'ane', 'an', 'ane', 'ane', 'ane']\n",
            "Decoded rargets:\n",
            " ['ut why should  repeat the whole', 'he total number of prisoners they received during the year varied from two persons to many hundreds', 'eanwhile the clergyman still bent into the form of a sleeping dog', 'through the most comprehensive work plan in the history of the nation', 'he soon left the service and betook himself to dishonest ways', 'unlimited drink was not denied them provided it was obtained in regulated quantities at one time', 'here were but few women except of the most degraded sort the men were mostly young men ', 'of the ambs offee ouse', 'ries although enjoying a high reputation in the city had long been in a bad way', 'but at the same time with an air of the most entire truthfulness and candor', 'as the inspectors of prisons found them in eighteen thirtyfive to six', 'hrow a cloth over the bowl and set by for five or six hours to rise', 'as its signature was dated eighteen twentynine whereas rs unt actually died in eighteen oh six', 'r urner at once set off for ondon where he sought the assistance of the police', 'through the instrumentality of the democratic form of government', 'hese bankers wishing for more specific information', 'efore that time individual self interest and group selfishness were paramount in public thinking', 't should be remembered that in every big job there are some imperfections', 'his will was a deliberate forgery', 'or his bedclothes were drawn away across the room', 'he worked along to the roofs in arwick ane', 'he ords ommittee fully recognized the painful fact', 'looked forward to his liberty he was still delayed until he had paid a new debt arising quote', 't was stated in evidence before the ommission on apital unishment in eighteen sixtyfour', 'er captain was ohn mith', 'hey felt that private enterprise might', 'and the powers given to the ongress to carry out those purposes can be best described by saying', 'and took the instrument out to a clerk with the ink not dry', 'ries of urder murder were now raised and added greatly to the horrors of the scene', 'and for years felons who should have been sent beyond the seas', 'all of which declared their approval of the commanderinchief', ' believe says r ennet in the letter already largely quoted']\n",
            "loss = 2.9082729816436768 dataloader len = 5\n",
            "Decoded predictions:\n",
            " ['an', 'ane', 'an', 'ane', 'ne', 'an', 'an', 'ane', 'ane', 'ane', 'an', 'n', 'an', 'an', 'n', 'an', 'an', 'ane', 'ane', 'an', 'ane', 'ane', 'an', 'ane', 'ane', 'an', '', 'ane', 'ne', 'ane', 'ane', 'ne']\n",
            "Decoded rargets:\n",
            " ['t her death the diamonds were divided between her four daughters but only half had been claimed', 'the remaining five were executed in one batch', 'the convict was half on the platform half hanging and the convulsions of his body were appalling', 'and under the scanty covering of a couple of dirty stablerugs apiece', 'e soon however became deeply involved in tock xchange speculations', 'e was arrested examined before a police magistrate and committed to ewgate', 'eare was supposed to carry a private bank about with him in a pocket in his under waistcoat', 'which requires the constant exercise of judgment and taste on the part of the printer', 'is letter to the orporation under date fourth une', 'while the latter which included various forms of industrial employment', 'he clothes of prisoners arriving dirty or in rags should be fumigated before worn in the jail', 'lthough attempted partially at ridewell and more systematically at the new illbank penitentiary', 'ushing the shopdoor open he saw arley finishing his murderous assault', 'ater on he had devoted himself to the personal investigation of the prisons of the nited tates', ' answer that no country however rich can afford the waste of its human resources', 'll the committee could do in this respect was to throw the responsibility on others', 'ails of which the old prison at eading was a specimen were still left intact', 'where a workman found a bundle containing two human legs in a drain', 'the wide dark sea of heads is all at once in motion', 'that we approached our task of reviving private enterprise in arch nineteen thirtythree', 'working at the roof of the chapel on the female side', 'under which wages hours and working conditions', 'that of a prizefighter named onovan tried the same day and convicted of manslaughter', 'here were others less successful', 'he acted in a manner which excited the suspicions of the crew', 'hen one of these ships is under construction and the steel frames have been set in the keel', 'and in such an effort we should be able to secure for employers and employees and consumers', 'so that the culprit in addition to his sentence', 'hen a bit of rope carefully secreted', 'any of the jails were in the most deplorable condition', 'and that in a moment of anger he knocked her down', 'after using much intemperate language he left the place in a huff']\n",
            "loss = 2.8970041275024414 dataloader len = 5\n",
            "Decoded predictions:\n",
            " ['an', 'n', 'ane', 'ane', 'an', 'n', '', 'an', 'n', 'n', 'ane', 'n', 'an', 'n', 'ane', 'ane', 'n', 'n', 'an', 'n', 'ane', 'n', 'an', 'ane', 'an', 'ane', 'n', 'ane', '', 'ne', 'ane', 'an']\n",
            "Decoded rargets:\n",
            " ['of this it may be said that though there is some good paper made now', 'his was uranno but the sight of the heaving mass of uplifted impassioned faces', 'heir origin it will be seen dates back much further than that', 'r hillips who led in the case went to the other extreme', 'r earson backed up his recommendations by many sound arguments', 'exactly tallied with that of the deformed person wanted for the assault on the ueen', 't is a quiet crisis here are no lines of depositors outside closed banks', 'repaired there secretly and so gave information to the razilian authorities', 'ou can have no good intentions you must quit my service tomorrow morning', 'he doors through incomplete knowledge of prison needs were not as now sheeted with iron', 'he was smartly dressed in a plaid shawl a white lace cap', 'for a petition of from one shilling half pence to eight shillings according to its length', 'as she leant back he put his foot against the chair and so tilted it over', 'he jury without hesitation found ourvoisier guilty and he was sentenced to death', 'presently fell and were at once trampled to death', 'p to the twentyfirst ecember eighteen fortytwo', 'is disclaimer distinct and detailed on every point was intended simply for effect', 'his ingenious method of raising funds he adopted and carried on without detection', 'which mericans have demanded since the white man first came to these shores', 'n eighteen fiftythree three men escaped in company from one of the wards in the middle yard', 'ne heaping cup of sifted flour', 'ur responsibility for the immediate necessities of the unemployed has been met by the ongress', 'hey admitted that they had made away with many of the securities entrusted to their keeping', 'n these cases security was given for the amount of the debt', 'the unit of the book being looked on as the two pages forming an opening', 'is nature must have been kindly', 'r obbett was also a lodger of r ewmans and so were any members of the aristocracy', ' have set up a ivision of pplications and nformation', 'he shot missed and as the carriage passed on xford drew a second pistol and fired again', 'here is no occasion to use violence  will go with you', 'could not be brought about in one year', 'he policemen treated the matter as a hoax and allowed the culprit to make off']\n",
            "loss = 2.8922970294952393 dataloader len = 5\n",
            "Decoded predictions:\n",
            " ['an', 'ane', 'an', 'n', 'an', 'an', 'ane', 'an', 'n', 'ane', 'an', 'an', 'an', 'an', 'an', 'n', 'an', 'an', 'ane', '', 'ane', 'an', 'an', 'ane', 'ne', 'ane', 'an', 'ne', '', 'an', 'an', 'an']\n",
            "Decoded rargets:\n",
            " ['ut ewgate and its neighborhood was carefully held by the police both city and metropolitan', 'he ennies men were all reeks except one known as rench eter', 'oung ngland was a secret society with no aim or object', 'e have passed through the formative period of code making in the ational ecovery dministration', 'followed him over to weden and arrested him at elsingfors', 'he neglect of prison reform in those days was not to be visited upon the legislature', 'here was fear as to the unrestricted use of tools', 'he inmates of this part as distinguished from the debtors were comprised in four classes', 'he use of gas or some other means of lighting might be adopted but more often was dispensed with', 't turned out that he was really married to rs anning', 's the executioner fastened the noose he nodded to a friend he saw in the crowd', 'hen they brought in the two watchers to relieve guard one night attler said', 'and to dispose him by meditation and seclusion to return to an honest life', 'he key men for the major responsibilities of this great task already have been selected', 'hence he was transferred to openhagen and surrendered in due course to a ondon police officer', 'which obtained through the attrition of individuals before the new conditions arose', 'were fixed over the fireplaces and the prisoners had no longer access to the chimneys', ' third similar fraud to the amount of two thousand pounds was also brought to light', 'hey also ascertained that a goldrefiner', 'two he female debtors side three he chapel yard four he middle yard', 'signed by more than a thousand members of banking firms', 'hat in this vast metropolis the center of wealth civilization and information', 'several bishops and a number of members of the ouse of ommons including r anners utton', 'he goods having no existence ole of course could not deliver them', 'was in several places merely temporary', 'he general solidity of a page is much to be sought for', 'a circular aperture had been let in to give ventilation and secure a free current of air', ' will quote an extract from the reverend gentlemans own journal', 'he judge of the dmiralty ourt the ight on tephen ushington the ight on ames oncrieff', 'which with akefield was utilized as a receptacle for convicts not going to estern ustralia', 'is demeanor immediately preceding his execution  have referred to in the last chapter', 'e played high and spent his nights at the club or in joyous and dissolute company']\n",
            "Test set: Average loss: 2.9046, Average CER: 0.965873 Average WER: 0.9659\n",
            "\n"
          ],
          "name": "stdout"
        },
        {
          "output_type": "error",
          "ename": "KeyboardInterrupt",
          "evalue": "ignored",
          "traceback": [
            "\u001b[0;31m---------------------------------------------------------------------------\u001b[0m",
            "\u001b[0;31mKeyboardInterrupt\u001b[0m                         Traceback (most recent call last)",
            "\u001b[0;32m<ipython-input-48-6b6ba84d69af>\u001b[0m in \u001b[0;36m<module>\u001b[0;34m()\u001b[0m\n\u001b[1;32m      5\u001b[0m \u001b[0;34m\u001b[0m\u001b[0m\n\u001b[1;32m      6\u001b[0m \u001b[0;32mfor\u001b[0m \u001b[0mepoch\u001b[0m \u001b[0;32min\u001b[0m \u001b[0mrange\u001b[0m\u001b[0;34m(\u001b[0m\u001b[0mepochs\u001b[0m\u001b[0;34m)\u001b[0m\u001b[0;34m:\u001b[0m\u001b[0;34m\u001b[0m\u001b[0;34m\u001b[0m\u001b[0m\n\u001b[0;32m----> 7\u001b[0;31m   \u001b[0mtrain_avg_loss\u001b[0m \u001b[0;34m=\u001b[0m \u001b[0mtrain\u001b[0m\u001b[0;34m(\u001b[0m\u001b[0mmodel\u001b[0m\u001b[0;34m,\u001b[0m \u001b[0mtrain_dataloader\u001b[0m\u001b[0;34m,\u001b[0m \u001b[0mcriterion\u001b[0m\u001b[0;34m,\u001b[0m \u001b[0moptimizer\u001b[0m\u001b[0;34m,\u001b[0m \u001b[0mepoch\u001b[0m\u001b[0;34m)\u001b[0m\u001b[0;34m\u001b[0m\u001b[0;34m\u001b[0m\u001b[0m\n\u001b[0m\u001b[1;32m      8\u001b[0m   \u001b[0;31m# train_losses.append(train_avg_loss)\u001b[0m\u001b[0;34m\u001b[0m\u001b[0;34m\u001b[0m\u001b[0;34m\u001b[0m\u001b[0m\n\u001b[1;32m      9\u001b[0m   \u001b[0mtest_avg_loss\u001b[0m\u001b[0;34m,\u001b[0m \u001b[0mtest_avg_cer\u001b[0m\u001b[0;34m,\u001b[0m \u001b[0mtest_avg_wer\u001b[0m \u001b[0;34m=\u001b[0m \u001b[0mtest\u001b[0m\u001b[0;34m(\u001b[0m\u001b[0mmodel\u001b[0m\u001b[0;34m,\u001b[0m \u001b[0mtest_dataloader\u001b[0m\u001b[0;34m,\u001b[0m \u001b[0mcriterion\u001b[0m\u001b[0;34m,\u001b[0m \u001b[0mepoch\u001b[0m\u001b[0;34m)\u001b[0m\u001b[0;34m\u001b[0m\u001b[0;34m\u001b[0m\u001b[0m\n",
            "\u001b[0;32m<ipython-input-46-619d42683203>\u001b[0m in \u001b[0;36mtrain\u001b[0;34m(model, train_dataloader, criterion, optimizer, epoch)\u001b[0m\n\u001b[1;32m      4\u001b[0m     \u001b[0;31m#print(data_len)\u001b[0m\u001b[0;34m\u001b[0m\u001b[0;34m\u001b[0m\u001b[0;34m\u001b[0m\u001b[0m\n\u001b[1;32m      5\u001b[0m     \u001b[0mlosses\u001b[0m \u001b[0;34m=\u001b[0m \u001b[0;34m[\u001b[0m\u001b[0;34m]\u001b[0m\u001b[0;34m\u001b[0m\u001b[0;34m\u001b[0m\u001b[0m\n\u001b[0;32m----> 6\u001b[0;31m     \u001b[0;32mfor\u001b[0m \u001b[0mbatch_idx\u001b[0m\u001b[0;34m,\u001b[0m \u001b[0;34m(\u001b[0m\u001b[0mlog_mel_specs\u001b[0m\u001b[0;34m,\u001b[0m \u001b[0mtexts_in_ints\u001b[0m\u001b[0;34m,\u001b[0m \u001b[0mspec_lengths\u001b[0m\u001b[0;34m,\u001b[0m \u001b[0mlbl_lengths\u001b[0m\u001b[0;34m)\u001b[0m \u001b[0;32min\u001b[0m \u001b[0menumerate\u001b[0m\u001b[0;34m(\u001b[0m\u001b[0mtrain_dataloader\u001b[0m\u001b[0;34m)\u001b[0m\u001b[0;34m:\u001b[0m\u001b[0;34m\u001b[0m\u001b[0;34m\u001b[0m\u001b[0m\n\u001b[0m\u001b[1;32m      7\u001b[0m         \u001b[0mlog_mel_specs\u001b[0m \u001b[0;34m=\u001b[0m \u001b[0mlog_mel_specs\u001b[0m\u001b[0;34m.\u001b[0m\u001b[0mto\u001b[0m\u001b[0;34m(\u001b[0m\u001b[0mdevice\u001b[0m\u001b[0;34m)\u001b[0m\u001b[0;34m\u001b[0m\u001b[0;34m\u001b[0m\u001b[0m\n\u001b[1;32m      8\u001b[0m         \u001b[0mtexts_in_ints\u001b[0m \u001b[0;34m=\u001b[0m \u001b[0mtexts_in_ints\u001b[0m\u001b[0;34m.\u001b[0m\u001b[0mto\u001b[0m\u001b[0;34m(\u001b[0m\u001b[0mdevice\u001b[0m\u001b[0;34m)\u001b[0m\u001b[0;34m\u001b[0m\u001b[0;34m\u001b[0m\u001b[0m\n",
            "\u001b[0;32m/usr/local/lib/python3.6/dist-packages/torch/utils/data/dataloader.py\u001b[0m in \u001b[0;36m__next__\u001b[0;34m(self)\u001b[0m\n\u001b[1;32m    361\u001b[0m \u001b[0;34m\u001b[0m\u001b[0m\n\u001b[1;32m    362\u001b[0m     \u001b[0;32mdef\u001b[0m \u001b[0m__next__\u001b[0m\u001b[0;34m(\u001b[0m\u001b[0mself\u001b[0m\u001b[0;34m)\u001b[0m\u001b[0;34m:\u001b[0m\u001b[0;34m\u001b[0m\u001b[0;34m\u001b[0m\u001b[0m\n\u001b[0;32m--> 363\u001b[0;31m         \u001b[0mdata\u001b[0m \u001b[0;34m=\u001b[0m \u001b[0mself\u001b[0m\u001b[0;34m.\u001b[0m\u001b[0m_next_data\u001b[0m\u001b[0;34m(\u001b[0m\u001b[0;34m)\u001b[0m\u001b[0;34m\u001b[0m\u001b[0;34m\u001b[0m\u001b[0m\n\u001b[0m\u001b[1;32m    364\u001b[0m         \u001b[0mself\u001b[0m\u001b[0;34m.\u001b[0m\u001b[0m_num_yielded\u001b[0m \u001b[0;34m+=\u001b[0m \u001b[0;36m1\u001b[0m\u001b[0;34m\u001b[0m\u001b[0;34m\u001b[0m\u001b[0m\n\u001b[1;32m    365\u001b[0m         \u001b[0;32mif\u001b[0m \u001b[0mself\u001b[0m\u001b[0;34m.\u001b[0m\u001b[0m_dataset_kind\u001b[0m \u001b[0;34m==\u001b[0m \u001b[0m_DatasetKind\u001b[0m\u001b[0;34m.\u001b[0m\u001b[0mIterable\u001b[0m \u001b[0;32mand\u001b[0m\u001b[0;31m \u001b[0m\u001b[0;31m\\\u001b[0m\u001b[0;34m\u001b[0m\u001b[0;34m\u001b[0m\u001b[0m\n",
            "\u001b[0;32m/usr/local/lib/python3.6/dist-packages/torch/utils/data/dataloader.py\u001b[0m in \u001b[0;36m_next_data\u001b[0;34m(self)\u001b[0m\n\u001b[1;32m    401\u001b[0m     \u001b[0;32mdef\u001b[0m \u001b[0m_next_data\u001b[0m\u001b[0;34m(\u001b[0m\u001b[0mself\u001b[0m\u001b[0;34m)\u001b[0m\u001b[0;34m:\u001b[0m\u001b[0;34m\u001b[0m\u001b[0;34m\u001b[0m\u001b[0m\n\u001b[1;32m    402\u001b[0m         \u001b[0mindex\u001b[0m \u001b[0;34m=\u001b[0m \u001b[0mself\u001b[0m\u001b[0;34m.\u001b[0m\u001b[0m_next_index\u001b[0m\u001b[0;34m(\u001b[0m\u001b[0;34m)\u001b[0m  \u001b[0;31m# may raise StopIteration\u001b[0m\u001b[0;34m\u001b[0m\u001b[0;34m\u001b[0m\u001b[0m\n\u001b[0;32m--> 403\u001b[0;31m         \u001b[0mdata\u001b[0m \u001b[0;34m=\u001b[0m \u001b[0mself\u001b[0m\u001b[0;34m.\u001b[0m\u001b[0m_dataset_fetcher\u001b[0m\u001b[0;34m.\u001b[0m\u001b[0mfetch\u001b[0m\u001b[0;34m(\u001b[0m\u001b[0mindex\u001b[0m\u001b[0;34m)\u001b[0m  \u001b[0;31m# may raise StopIteration\u001b[0m\u001b[0;34m\u001b[0m\u001b[0;34m\u001b[0m\u001b[0m\n\u001b[0m\u001b[1;32m    404\u001b[0m         \u001b[0;32mif\u001b[0m \u001b[0mself\u001b[0m\u001b[0;34m.\u001b[0m\u001b[0m_pin_memory\u001b[0m\u001b[0;34m:\u001b[0m\u001b[0;34m\u001b[0m\u001b[0;34m\u001b[0m\u001b[0m\n\u001b[1;32m    405\u001b[0m             \u001b[0mdata\u001b[0m \u001b[0;34m=\u001b[0m \u001b[0m_utils\u001b[0m\u001b[0;34m.\u001b[0m\u001b[0mpin_memory\u001b[0m\u001b[0;34m.\u001b[0m\u001b[0mpin_memory\u001b[0m\u001b[0;34m(\u001b[0m\u001b[0mdata\u001b[0m\u001b[0;34m)\u001b[0m\u001b[0;34m\u001b[0m\u001b[0;34m\u001b[0m\u001b[0m\n",
            "\u001b[0;32m/usr/local/lib/python3.6/dist-packages/torch/utils/data/_utils/fetch.py\u001b[0m in \u001b[0;36mfetch\u001b[0;34m(self, possibly_batched_index)\u001b[0m\n\u001b[1;32m     42\u001b[0m     \u001b[0;32mdef\u001b[0m \u001b[0mfetch\u001b[0m\u001b[0;34m(\u001b[0m\u001b[0mself\u001b[0m\u001b[0;34m,\u001b[0m \u001b[0mpossibly_batched_index\u001b[0m\u001b[0;34m)\u001b[0m\u001b[0;34m:\u001b[0m\u001b[0;34m\u001b[0m\u001b[0;34m\u001b[0m\u001b[0m\n\u001b[1;32m     43\u001b[0m         \u001b[0;32mif\u001b[0m \u001b[0mself\u001b[0m\u001b[0;34m.\u001b[0m\u001b[0mauto_collation\u001b[0m\u001b[0;34m:\u001b[0m\u001b[0;34m\u001b[0m\u001b[0;34m\u001b[0m\u001b[0m\n\u001b[0;32m---> 44\u001b[0;31m             \u001b[0mdata\u001b[0m \u001b[0;34m=\u001b[0m \u001b[0;34m[\u001b[0m\u001b[0mself\u001b[0m\u001b[0;34m.\u001b[0m\u001b[0mdataset\u001b[0m\u001b[0;34m[\u001b[0m\u001b[0midx\u001b[0m\u001b[0;34m]\u001b[0m \u001b[0;32mfor\u001b[0m \u001b[0midx\u001b[0m \u001b[0;32min\u001b[0m \u001b[0mpossibly_batched_index\u001b[0m\u001b[0;34m]\u001b[0m\u001b[0;34m\u001b[0m\u001b[0;34m\u001b[0m\u001b[0m\n\u001b[0m\u001b[1;32m     45\u001b[0m         \u001b[0;32melse\u001b[0m\u001b[0;34m:\u001b[0m\u001b[0;34m\u001b[0m\u001b[0;34m\u001b[0m\u001b[0m\n\u001b[1;32m     46\u001b[0m             \u001b[0mdata\u001b[0m \u001b[0;34m=\u001b[0m \u001b[0mself\u001b[0m\u001b[0;34m.\u001b[0m\u001b[0mdataset\u001b[0m\u001b[0;34m[\u001b[0m\u001b[0mpossibly_batched_index\u001b[0m\u001b[0;34m]\u001b[0m\u001b[0;34m\u001b[0m\u001b[0;34m\u001b[0m\u001b[0m\n",
            "\u001b[0;32m/usr/local/lib/python3.6/dist-packages/torch/utils/data/_utils/fetch.py\u001b[0m in \u001b[0;36m<listcomp>\u001b[0;34m(.0)\u001b[0m\n\u001b[1;32m     42\u001b[0m     \u001b[0;32mdef\u001b[0m \u001b[0mfetch\u001b[0m\u001b[0;34m(\u001b[0m\u001b[0mself\u001b[0m\u001b[0;34m,\u001b[0m \u001b[0mpossibly_batched_index\u001b[0m\u001b[0;34m)\u001b[0m\u001b[0;34m:\u001b[0m\u001b[0;34m\u001b[0m\u001b[0;34m\u001b[0m\u001b[0m\n\u001b[1;32m     43\u001b[0m         \u001b[0;32mif\u001b[0m \u001b[0mself\u001b[0m\u001b[0;34m.\u001b[0m\u001b[0mauto_collation\u001b[0m\u001b[0;34m:\u001b[0m\u001b[0;34m\u001b[0m\u001b[0;34m\u001b[0m\u001b[0m\n\u001b[0;32m---> 44\u001b[0;31m             \u001b[0mdata\u001b[0m \u001b[0;34m=\u001b[0m \u001b[0;34m[\u001b[0m\u001b[0mself\u001b[0m\u001b[0;34m.\u001b[0m\u001b[0mdataset\u001b[0m\u001b[0;34m[\u001b[0m\u001b[0midx\u001b[0m\u001b[0;34m]\u001b[0m \u001b[0;32mfor\u001b[0m \u001b[0midx\u001b[0m \u001b[0;32min\u001b[0m \u001b[0mpossibly_batched_index\u001b[0m\u001b[0;34m]\u001b[0m\u001b[0;34m\u001b[0m\u001b[0;34m\u001b[0m\u001b[0m\n\u001b[0m\u001b[1;32m     45\u001b[0m         \u001b[0;32melse\u001b[0m\u001b[0;34m:\u001b[0m\u001b[0;34m\u001b[0m\u001b[0;34m\u001b[0m\u001b[0m\n\u001b[1;32m     46\u001b[0m             \u001b[0mdata\u001b[0m \u001b[0;34m=\u001b[0m \u001b[0mself\u001b[0m\u001b[0;34m.\u001b[0m\u001b[0mdataset\u001b[0m\u001b[0;34m[\u001b[0m\u001b[0mpossibly_batched_index\u001b[0m\u001b[0;34m]\u001b[0m\u001b[0;34m\u001b[0m\u001b[0;34m\u001b[0m\u001b[0m\n",
            "\u001b[0;32m/usr/local/lib/python3.6/dist-packages/torch/utils/data/dataset.py\u001b[0m in \u001b[0;36m__getitem__\u001b[0;34m(self, idx)\u001b[0m\n\u001b[1;32m    255\u001b[0m \u001b[0;34m\u001b[0m\u001b[0m\n\u001b[1;32m    256\u001b[0m     \u001b[0;32mdef\u001b[0m \u001b[0m__getitem__\u001b[0m\u001b[0;34m(\u001b[0m\u001b[0mself\u001b[0m\u001b[0;34m,\u001b[0m \u001b[0midx\u001b[0m\u001b[0;34m)\u001b[0m\u001b[0;34m:\u001b[0m\u001b[0;34m\u001b[0m\u001b[0;34m\u001b[0m\u001b[0m\n\u001b[0;32m--> 257\u001b[0;31m         \u001b[0;32mreturn\u001b[0m \u001b[0mself\u001b[0m\u001b[0;34m.\u001b[0m\u001b[0mdataset\u001b[0m\u001b[0;34m[\u001b[0m\u001b[0mself\u001b[0m\u001b[0;34m.\u001b[0m\u001b[0mindices\u001b[0m\u001b[0;34m[\u001b[0m\u001b[0midx\u001b[0m\u001b[0;34m]\u001b[0m\u001b[0;34m]\u001b[0m\u001b[0;34m\u001b[0m\u001b[0;34m\u001b[0m\u001b[0m\n\u001b[0m\u001b[1;32m    258\u001b[0m \u001b[0;34m\u001b[0m\u001b[0m\n\u001b[1;32m    259\u001b[0m     \u001b[0;32mdef\u001b[0m \u001b[0m__len__\u001b[0m\u001b[0;34m(\u001b[0m\u001b[0mself\u001b[0m\u001b[0;34m)\u001b[0m\u001b[0;34m:\u001b[0m\u001b[0;34m\u001b[0m\u001b[0;34m\u001b[0m\u001b[0m\n",
            "\u001b[0;32m<ipython-input-16-e8bb1347b19d>\u001b[0m in \u001b[0;36m__getitem__\u001b[0;34m(self, index)\u001b[0m\n\u001b[1;32m      9\u001b[0m \u001b[0;34m\u001b[0m\u001b[0m\n\u001b[1;32m     10\u001b[0m         \u001b[0mwaveform\u001b[0m\u001b[0;34m,\u001b[0m \u001b[0msample_rate\u001b[0m \u001b[0;34m=\u001b[0m \u001b[0mtorchaudio\u001b[0m\u001b[0;34m.\u001b[0m\u001b[0mload\u001b[0m\u001b[0;34m(\u001b[0m\u001b[0mpath_to_file\u001b[0m\u001b[0;34m)\u001b[0m\u001b[0;34m\u001b[0m\u001b[0;34m\u001b[0m\u001b[0m\n\u001b[0;32m---> 11\u001b[0;31m         \u001b[0mwaveform\u001b[0m \u001b[0;34m=\u001b[0m \u001b[0mwaveform\u001b[0m\u001b[0;34m.\u001b[0m\u001b[0mto\u001b[0m\u001b[0;34m(\u001b[0m\u001b[0mdevice\u001b[0m\u001b[0;34m)\u001b[0m\u001b[0;34m\u001b[0m\u001b[0;34m\u001b[0m\u001b[0m\n\u001b[0m\u001b[1;32m     12\u001b[0m         \u001b[0mspectrogram\u001b[0m \u001b[0;34m=\u001b[0m \u001b[0mmel_transform\u001b[0m\u001b[0;34m(\u001b[0m\u001b[0mwaveform\u001b[0m\u001b[0;34m)\u001b[0m\u001b[0;34m\u001b[0m\u001b[0;34m\u001b[0m\u001b[0m\n\u001b[1;32m     13\u001b[0m         \u001b[0mspectrogram\u001b[0m \u001b[0;34m=\u001b[0m \u001b[0mtorch\u001b[0m\u001b[0;34m.\u001b[0m\u001b[0mlog\u001b[0m\u001b[0;34m(\u001b[0m\u001b[0mspectrogram\u001b[0m \u001b[0;34m+\u001b[0m \u001b[0;36m1e-9\u001b[0m\u001b[0;34m)\u001b[0m\u001b[0;34m\u001b[0m\u001b[0;34m\u001b[0m\u001b[0m\n",
            "\u001b[0;31mKeyboardInterrupt\u001b[0m: "
          ]
        }
      ]
    },
    {
      "cell_type": "markdown",
      "metadata": {
        "id": "2kmqHXhTMcbO"
      },
      "source": [
        "Добавим возможность загрузить веса и переиспользовать модель"
      ]
    },
    {
      "cell_type": "code",
      "metadata": {
        "id": "Slyh0TdZ_8T0"
      },
      "source": [
        "# files.upload()\n",
        "# import model_state_dict.pt"
      ],
      "execution_count": null,
      "outputs": []
    },
    {
      "cell_type": "code",
      "metadata": {
        "id": "CQ6vXIRh8VMX"
      },
      "source": [
        "# plt.figure(figsize=(20, 5))\n",
        "# plt.plot(range(epochs), test_avg_wers)\n",
        "# plt.show()"
      ],
      "execution_count": null,
      "outputs": []
    },
    {
      "cell_type": "code",
      "metadata": {
        "id": "9LaEi3DW8c0l"
      },
      "source": [
        "# plt.figure(figsize=(20, 5))\n",
        "# plt.plot(range(epochs), test_avg_cers)\n",
        "# plt.show()"
      ],
      "execution_count": null,
      "outputs": []
    },
    {
      "cell_type": "code",
      "metadata": {
        "id": "WA8Ti5Y1Fbl7"
      },
      "source": [
        "model = ASR()\n",
        "state_dict = torch.load('model_state_dict.pt')\n",
        "model.load_state_dict(state_dict)\n",
        "model = model.to(device)"
      ],
      "execution_count": null,
      "outputs": []
    }
  ]
}
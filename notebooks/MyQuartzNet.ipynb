{
  "nbformat": 4,
  "nbformat_minor": 0,
  "metadata": {
    "accelerator": "GPU",
    "colab": {
      "name": "MyQuartzNet_(2) (2).ipynb",
      "provenance": [],
      "collapsed_sections": []
    },
    "kernelspec": {
      "display_name": "Python 3",
      "language": "python",
      "name": "python3"
    },
    "language_info": {
      "codemirror_mode": {
        "name": "ipython",
        "version": 3
      },
      "file_extension": ".py",
      "mimetype": "text/x-python",
      "name": "python",
      "nbconvert_exporter": "python",
      "pygments_lexer": "ipython3",
      "version": "3.8.5"
    },
    "widgets": {
      "application/vnd.jupyter.widget-state+json": {
        "25c9cc24583c4360bd5c590fdc8e8410": {
          "model_module": "@jupyter-widgets/controls",
          "model_name": "VBoxModel",
          "state": {
            "_view_name": "VBoxView",
            "_dom_classes": [],
            "_model_name": "VBoxModel",
            "_view_module": "@jupyter-widgets/controls",
            "_model_module_version": "1.5.0",
            "_view_count": null,
            "_view_module_version": "1.5.0",
            "box_style": "",
            "layout": "IPY_MODEL_c1c5d41918734b778123edb743df8114",
            "_model_module": "@jupyter-widgets/controls",
            "children": [
              "IPY_MODEL_6b4a95aff31a453eb0ac7f15bf528604",
              "IPY_MODEL_5f18b33046e646728dbc03c649e9e49c"
            ]
          }
        },
        "c1c5d41918734b778123edb743df8114": {
          "model_module": "@jupyter-widgets/base",
          "model_name": "LayoutModel",
          "state": {
            "_view_name": "LayoutView",
            "grid_template_rows": null,
            "right": null,
            "justify_content": null,
            "_view_module": "@jupyter-widgets/base",
            "overflow": null,
            "_model_module_version": "1.2.0",
            "_view_count": null,
            "flex_flow": null,
            "width": null,
            "min_width": null,
            "border": null,
            "align_items": null,
            "bottom": null,
            "_model_module": "@jupyter-widgets/base",
            "top": null,
            "grid_column": null,
            "overflow_y": null,
            "overflow_x": null,
            "grid_auto_flow": null,
            "grid_area": null,
            "grid_template_columns": null,
            "flex": null,
            "_model_name": "LayoutModel",
            "justify_items": null,
            "grid_row": null,
            "max_height": null,
            "align_content": null,
            "visibility": null,
            "align_self": null,
            "height": null,
            "min_height": null,
            "padding": null,
            "grid_auto_rows": null,
            "grid_gap": null,
            "max_width": null,
            "order": null,
            "_view_module_version": "1.2.0",
            "grid_template_areas": null,
            "object_position": null,
            "object_fit": null,
            "grid_auto_columns": null,
            "margin": null,
            "display": null,
            "left": null
          }
        },
        "6b4a95aff31a453eb0ac7f15bf528604": {
          "model_module": "@jupyter-widgets/controls",
          "model_name": "LabelModel",
          "state": {
            "_view_name": "LabelView",
            "style": "IPY_MODEL_efa0ff194fed47fbbbc53f814eb8182c",
            "_dom_classes": [],
            "description": "",
            "_model_name": "LabelModel",
            "placeholder": "​",
            "_view_module": "@jupyter-widgets/controls",
            "_model_module_version": "1.5.0",
            "value": " 0.93MB of 0.93MB uploaded (0.00MB deduped)\r",
            "_view_count": null,
            "_view_module_version": "1.5.0",
            "description_tooltip": null,
            "_model_module": "@jupyter-widgets/controls",
            "layout": "IPY_MODEL_71c1d64313374426aae54aebabe48e41"
          }
        },
        "5f18b33046e646728dbc03c649e9e49c": {
          "model_module": "@jupyter-widgets/controls",
          "model_name": "FloatProgressModel",
          "state": {
            "_view_name": "ProgressView",
            "style": "IPY_MODEL_df7d613247d24f6ea1d0c57ab0541a88",
            "_dom_classes": [],
            "description": "",
            "_model_name": "FloatProgressModel",
            "bar_style": "",
            "max": 1,
            "_view_module": "@jupyter-widgets/controls",
            "_model_module_version": "1.5.0",
            "value": 1,
            "_view_count": null,
            "_view_module_version": "1.5.0",
            "orientation": "horizontal",
            "min": 0,
            "description_tooltip": null,
            "_model_module": "@jupyter-widgets/controls",
            "layout": "IPY_MODEL_4047c5d2de0c4a1ea01a7425da4eb2b8"
          }
        },
        "efa0ff194fed47fbbbc53f814eb8182c": {
          "model_module": "@jupyter-widgets/controls",
          "model_name": "DescriptionStyleModel",
          "state": {
            "_view_name": "StyleView",
            "_model_name": "DescriptionStyleModel",
            "description_width": "",
            "_view_module": "@jupyter-widgets/base",
            "_model_module_version": "1.5.0",
            "_view_count": null,
            "_view_module_version": "1.2.0",
            "_model_module": "@jupyter-widgets/controls"
          }
        },
        "71c1d64313374426aae54aebabe48e41": {
          "model_module": "@jupyter-widgets/base",
          "model_name": "LayoutModel",
          "state": {
            "_view_name": "LayoutView",
            "grid_template_rows": null,
            "right": null,
            "justify_content": null,
            "_view_module": "@jupyter-widgets/base",
            "overflow": null,
            "_model_module_version": "1.2.0",
            "_view_count": null,
            "flex_flow": null,
            "width": null,
            "min_width": null,
            "border": null,
            "align_items": null,
            "bottom": null,
            "_model_module": "@jupyter-widgets/base",
            "top": null,
            "grid_column": null,
            "overflow_y": null,
            "overflow_x": null,
            "grid_auto_flow": null,
            "grid_area": null,
            "grid_template_columns": null,
            "flex": null,
            "_model_name": "LayoutModel",
            "justify_items": null,
            "grid_row": null,
            "max_height": null,
            "align_content": null,
            "visibility": null,
            "align_self": null,
            "height": null,
            "min_height": null,
            "padding": null,
            "grid_auto_rows": null,
            "grid_gap": null,
            "max_width": null,
            "order": null,
            "_view_module_version": "1.2.0",
            "grid_template_areas": null,
            "object_position": null,
            "object_fit": null,
            "grid_auto_columns": null,
            "margin": null,
            "display": null,
            "left": null
          }
        },
        "df7d613247d24f6ea1d0c57ab0541a88": {
          "model_module": "@jupyter-widgets/controls",
          "model_name": "ProgressStyleModel",
          "state": {
            "_view_name": "StyleView",
            "_model_name": "ProgressStyleModel",
            "description_width": "",
            "_view_module": "@jupyter-widgets/base",
            "_model_module_version": "1.5.0",
            "_view_count": null,
            "_view_module_version": "1.2.0",
            "bar_color": null,
            "_model_module": "@jupyter-widgets/controls"
          }
        },
        "4047c5d2de0c4a1ea01a7425da4eb2b8": {
          "model_module": "@jupyter-widgets/base",
          "model_name": "LayoutModel",
          "state": {
            "_view_name": "LayoutView",
            "grid_template_rows": null,
            "right": null,
            "justify_content": null,
            "_view_module": "@jupyter-widgets/base",
            "overflow": null,
            "_model_module_version": "1.2.0",
            "_view_count": null,
            "flex_flow": null,
            "width": null,
            "min_width": null,
            "border": null,
            "align_items": null,
            "bottom": null,
            "_model_module": "@jupyter-widgets/base",
            "top": null,
            "grid_column": null,
            "overflow_y": null,
            "overflow_x": null,
            "grid_auto_flow": null,
            "grid_area": null,
            "grid_template_columns": null,
            "flex": null,
            "_model_name": "LayoutModel",
            "justify_items": null,
            "grid_row": null,
            "max_height": null,
            "align_content": null,
            "visibility": null,
            "align_self": null,
            "height": null,
            "min_height": null,
            "padding": null,
            "grid_auto_rows": null,
            "grid_gap": null,
            "max_width": null,
            "order": null,
            "_view_module_version": "1.2.0",
            "grid_template_areas": null,
            "object_position": null,
            "object_fit": null,
            "grid_auto_columns": null,
            "margin": null,
            "display": null,
            "left": null
          }
        }
      }
    }
  },
  "cells": [
    {
      "cell_type": "markdown",
      "metadata": {
        "id": "RSaK9X3wZkSU"
      },
      "source": [
        "# Реализация QuartzNet"
      ]
    },
    {
      "cell_type": "markdown",
      "metadata": {
        "id": "5uNg1PavOtn1"
      },
      "source": [
        "Для выполнения данного ноутбука нужно иметь распакованный LJSpeech-1.1 на гугл диске<br>\n",
        "Подтянем все зависимости"
      ]
    },
    {
      "cell_type": "code",
      "metadata": {
        "id": "6s4VswkxaCYr",
        "outputId": "4c40a768-8fe0-4018-b763-eae3b2a9efd2",
        "colab": {
          "base_uri": "https://localhost:8080/",
          "height": 173
        }
      },
      "source": [
        "!pip install torchaudio"
      ],
      "execution_count": 1,
      "outputs": [
        {
          "output_type": "stream",
          "text": [
            "Collecting torchaudio\n",
            "\u001b[?25l  Downloading https://files.pythonhosted.org/packages/96/34/c651430dea231e382ddf2eb5773239bf4885d9528f640a4ef39b12894cb8/torchaudio-0.6.0-cp36-cp36m-manylinux1_x86_64.whl (6.7MB)\n",
            "\u001b[K     |████████████████████████████████| 6.7MB 4.8MB/s \n",
            "\u001b[?25hRequirement already satisfied: torch==1.6.0 in /usr/local/lib/python3.6/dist-packages (from torchaudio) (1.6.0+cu101)\n",
            "Requirement already satisfied: future in /usr/local/lib/python3.6/dist-packages (from torch==1.6.0->torchaudio) (0.16.0)\n",
            "Requirement already satisfied: numpy in /usr/local/lib/python3.6/dist-packages (from torch==1.6.0->torchaudio) (1.18.5)\n",
            "Installing collected packages: torchaudio\n",
            "Successfully installed torchaudio-0.6.0\n"
          ],
          "name": "stdout"
        }
      ]
    },
    {
      "cell_type": "code",
      "metadata": {
        "id": "4cIU95C3iM82",
        "outputId": "bec999aa-83d3-4be6-97fa-a3fe12cc6b0e",
        "colab": {
          "base_uri": "https://localhost:8080/",
          "height": 955
        }
      },
      "source": [
        "!pip install wandb"
      ],
      "execution_count": 2,
      "outputs": [
        {
          "output_type": "stream",
          "text": [
            "Collecting wandb\n",
            "\u001b[?25l  Downloading https://files.pythonhosted.org/packages/af/5a/59c6f39d8aceb2c38d6090f947fd77c1cedddf44b1be728d1ae682d09d15/wandb-0.10.7-py2.py3-none-any.whl (1.7MB)\n",
            "\u001b[K     |████████████████████████████████| 1.7MB 7.3MB/s \n",
            "\u001b[?25hRequirement already satisfied: promise<3,>=2.0 in /usr/local/lib/python3.6/dist-packages (from wandb) (2.3)\n",
            "Collecting watchdog>=0.8.3\n",
            "\u001b[?25l  Downloading https://files.pythonhosted.org/packages/0e/06/121302598a4fc01aca942d937f4a2c33430b7181137b35758913a8db10ad/watchdog-0.10.3.tar.gz (94kB)\n",
            "\u001b[K     |████████████████████████████████| 102kB 12.3MB/s \n",
            "\u001b[?25hRequirement already satisfied: PyYAML in /usr/local/lib/python3.6/dist-packages (from wandb) (3.13)\n",
            "Requirement already satisfied: Click>=7.0 in /usr/local/lib/python3.6/dist-packages (from wandb) (7.1.2)\n",
            "Requirement already satisfied: psutil>=5.0.0 in /usr/local/lib/python3.6/dist-packages (from wandb) (5.4.8)\n",
            "Requirement already satisfied: six>=1.13.0 in /usr/local/lib/python3.6/dist-packages (from wandb) (1.15.0)\n",
            "Requirement already satisfied: python-dateutil>=2.6.1 in /usr/local/lib/python3.6/dist-packages (from wandb) (2.8.1)\n",
            "Collecting sentry-sdk>=0.4.0\n",
            "\u001b[?25l  Downloading https://files.pythonhosted.org/packages/fc/f0/188b8321988c739ab79577269c169d0d5f36aeb7172c17cd45eb0917823d/sentry_sdk-0.19.1-py2.py3-none-any.whl (120kB)\n",
            "\u001b[K     |████████████████████████████████| 122kB 37.8MB/s \n",
            "\u001b[?25hCollecting shortuuid>=0.5.0\n",
            "  Downloading https://files.pythonhosted.org/packages/25/a6/2ecc1daa6a304e7f1b216f0896b26156b78e7c38e1211e9b798b4716c53d/shortuuid-1.0.1-py3-none-any.whl\n",
            "Collecting subprocess32>=3.5.3\n",
            "\u001b[?25l  Downloading https://files.pythonhosted.org/packages/32/c8/564be4d12629b912ea431f1a50eb8b3b9d00f1a0b1ceff17f266be190007/subprocess32-3.5.4.tar.gz (97kB)\n",
            "\u001b[K     |████████████████████████████████| 102kB 12.2MB/s \n",
            "\u001b[?25hCollecting docker-pycreds>=0.4.0\n",
            "  Downloading https://files.pythonhosted.org/packages/f5/e8/f6bd1eee09314e7e6dee49cbe2c5e22314ccdb38db16c9fc72d2fa80d054/docker_pycreds-0.4.0-py2.py3-none-any.whl\n",
            "Collecting configparser>=3.8.1\n",
            "  Downloading https://files.pythonhosted.org/packages/08/b2/ef713e0e67f6e7ec7d59aea3ee78d05b39c15930057e724cc6d362a8c3bb/configparser-5.0.1-py3-none-any.whl\n",
            "Collecting GitPython>=1.0.0\n",
            "\u001b[?25l  Downloading https://files.pythonhosted.org/packages/c0/d7/b2b0672e0331567157adf9281f41ee731c412ee518ca5e6552c27fa73c91/GitPython-3.1.9-py3-none-any.whl (159kB)\n",
            "\u001b[K     |████████████████████████████████| 163kB 40.2MB/s \n",
            "\u001b[?25hRequirement already satisfied: protobuf>=3.12.0 in /usr/local/lib/python3.6/dist-packages (from wandb) (3.12.4)\n",
            "Requirement already satisfied: requests<3,>=2.0.0 in /usr/local/lib/python3.6/dist-packages (from wandb) (2.23.0)\n",
            "Collecting pathtools>=0.1.1\n",
            "  Downloading https://files.pythonhosted.org/packages/e7/7f/470d6fcdf23f9f3518f6b0b76be9df16dcc8630ad409947f8be2eb0ed13a/pathtools-0.1.2.tar.gz\n",
            "Requirement already satisfied: certifi in /usr/local/lib/python3.6/dist-packages (from sentry-sdk>=0.4.0->wandb) (2020.6.20)\n",
            "Requirement already satisfied: urllib3>=1.10.0 in /usr/local/lib/python3.6/dist-packages (from sentry-sdk>=0.4.0->wandb) (1.24.3)\n",
            "Collecting gitdb<5,>=4.0.1\n",
            "\u001b[?25l  Downloading https://files.pythonhosted.org/packages/48/11/d1800bca0a3bae820b84b7d813ad1eff15a48a64caea9c823fc8c1b119e8/gitdb-4.0.5-py3-none-any.whl (63kB)\n",
            "\u001b[K     |████████████████████████████████| 71kB 9.2MB/s \n",
            "\u001b[?25hRequirement already satisfied: setuptools in /usr/local/lib/python3.6/dist-packages (from protobuf>=3.12.0->wandb) (50.3.0)\n",
            "Requirement already satisfied: idna<3,>=2.5 in /usr/local/lib/python3.6/dist-packages (from requests<3,>=2.0.0->wandb) (2.10)\n",
            "Requirement already satisfied: chardet<4,>=3.0.2 in /usr/local/lib/python3.6/dist-packages (from requests<3,>=2.0.0->wandb) (3.0.4)\n",
            "Collecting smmap<4,>=3.0.1\n",
            "  Downloading https://files.pythonhosted.org/packages/b0/9a/4d409a6234eb940e6a78dfdfc66156e7522262f5f2fecca07dc55915952d/smmap-3.0.4-py2.py3-none-any.whl\n",
            "Building wheels for collected packages: watchdog, subprocess32, pathtools\n",
            "  Building wheel for watchdog (setup.py) ... \u001b[?25l\u001b[?25hdone\n",
            "  Created wheel for watchdog: filename=watchdog-0.10.3-cp36-none-any.whl size=73873 sha256=b4ee43b6136ac6649d738cb95f351ed357804aa055e218c15e4542d162dc3179\n",
            "  Stored in directory: /root/.cache/pip/wheels/a8/1d/38/2c19bb311f67cc7b4d07a2ec5ea36ab1a0a0ea50db994a5bc7\n",
            "  Building wheel for subprocess32 (setup.py) ... \u001b[?25l\u001b[?25hdone\n",
            "  Created wheel for subprocess32: filename=subprocess32-3.5.4-cp36-none-any.whl size=6489 sha256=be83c14cec84aa9cd8d71e6f14f6668c1bd259b99d11ec9c7bc36b4d0f076cba\n",
            "  Stored in directory: /root/.cache/pip/wheels/68/39/1a/5e402bdfdf004af1786c8b853fd92f8c4a04f22aad179654d1\n",
            "  Building wheel for pathtools (setup.py) ... \u001b[?25l\u001b[?25hdone\n",
            "  Created wheel for pathtools: filename=pathtools-0.1.2-cp36-none-any.whl size=8785 sha256=5165a3e5a88f595f824b9471aaa2ee80d3c59ecbbdfbfdd8d6da8e41847ae47e\n",
            "  Stored in directory: /root/.cache/pip/wheels/0b/04/79/c3b0c3a0266a3cb4376da31e5bfe8bba0c489246968a68e843\n",
            "Successfully built watchdog subprocess32 pathtools\n",
            "Installing collected packages: pathtools, watchdog, sentry-sdk, shortuuid, subprocess32, docker-pycreds, configparser, smmap, gitdb, GitPython, wandb\n",
            "Successfully installed GitPython-3.1.9 configparser-5.0.1 docker-pycreds-0.4.0 gitdb-4.0.5 pathtools-0.1.2 sentry-sdk-0.19.1 shortuuid-1.0.1 smmap-3.0.4 subprocess32-3.5.4 wandb-0.10.7 watchdog-0.10.3\n"
          ],
          "name": "stdout"
        }
      ]
    },
    {
      "cell_type": "code",
      "metadata": {
        "id": "iZcEJUphZkSW"
      },
      "source": [
        "import torch\n",
        "import torchaudio\n",
        "import pandas as pd\n",
        "import multiprocessing as mp\n",
        "from torch import nn\n",
        "from matplotlib import pyplot as plt\n",
        "from torch.utils.data import Dataset, DataLoader, random_split\n",
        "from google.colab import files\n",
        "\n",
        "# %pylab inline\n",
        "# from itertools import islice\n",
        "# from scipy.signal import hann\n",
        "# from scipy.io import wavfile\n"
      ],
      "execution_count": 57,
      "outputs": []
    },
    {
      "cell_type": "markdown",
      "metadata": {
        "id": "xJRrqyHlPLGz"
      },
      "source": [
        "подключим логгер"
      ]
    },
    {
      "cell_type": "code",
      "metadata": {
        "id": "W5TnSNxYicUt",
        "outputId": "eb391244-e291-45a1-9c69-a497b31ec8cf",
        "colab": {
          "base_uri": "https://localhost:8080/",
          "height": 1000,
          "referenced_widgets": [
            "25c9cc24583c4360bd5c590fdc8e8410",
            "c1c5d41918734b778123edb743df8114",
            "6b4a95aff31a453eb0ac7f15bf528604",
            "5f18b33046e646728dbc03c649e9e49c",
            "efa0ff194fed47fbbbc53f814eb8182c",
            "71c1d64313374426aae54aebabe48e41",
            "df7d613247d24f6ea1d0c57ab0541a88",
            "4047c5d2de0c4a1ea01a7425da4eb2b8"
          ]
        }
      },
      "source": [
        "import wandb\n",
        "!wandb login 32f7df3c332802b239b3a621db53985fe17d319e\n",
        "wandb.init(project=\"quartznet-implementation\")"
      ],
      "execution_count": 58,
      "outputs": [
        {
          "output_type": "stream",
          "text": [
            "\u001b[34m\u001b[1mwandb\u001b[0m: Appending key for api.wandb.ai to your netrc file: /root/.netrc\n"
          ],
          "name": "stdout"
        },
        {
          "output_type": "stream",
          "text": [
            "\u001b[34m\u001b[1mwandb\u001b[0m: \u001b[33mWARNING\u001b[0m Calling wandb.login() after wandb.init() has no effect.\n"
          ],
          "name": "stderr"
        },
        {
          "output_type": "display_data",
          "data": {
            "text/html": [
              "<br/>Waiting for W&B process to finish, PID 186<br/>Program ended successfully."
            ],
            "text/plain": [
              "<IPython.core.display.HTML object>"
            ]
          },
          "metadata": {
            "tags": []
          }
        },
        {
          "output_type": "display_data",
          "data": {
            "application/vnd.jupyter.widget-view+json": {
              "model_id": "25c9cc24583c4360bd5c590fdc8e8410",
              "version_minor": 0,
              "version_major": 2
            },
            "text/plain": [
              "VBox(children=(Label(value=' 0.01MB of 0.01MB uploaded (0.00MB deduped)\\r'), FloatProgress(value=1.0, max=1.0)…"
            ]
          },
          "metadata": {
            "tags": []
          }
        },
        {
          "output_type": "display_data",
          "data": {
            "text/html": [
              "Find user logs for this run at: <code>wandb/run-20201019_085841-1aumonf9/logs/debug.log</code>"
            ],
            "text/plain": [
              "<IPython.core.display.HTML object>"
            ]
          },
          "metadata": {
            "tags": []
          }
        },
        {
          "output_type": "display_data",
          "data": {
            "text/html": [
              "Find internal logs for this run at: <code>wandb/run-20201019_085841-1aumonf9/logs/debug-internal.log</code>"
            ],
            "text/plain": [
              "<IPython.core.display.HTML object>"
            ]
          },
          "metadata": {
            "tags": []
          }
        },
        {
          "output_type": "display_data",
          "data": {
            "text/html": [
              "<h3>Run summary:</h3><br/><style>\n",
              "    table.wandb td:nth-child(1) { padding: 0 10px; text-align: right }\n",
              "    </style><table class=\"wandb\">\n",
              "<tr><td>Train loss</td><td>0.00148</td></tr><tr><td>_step</td><td>399</td></tr><tr><td>_runtime</td><td>10969</td></tr><tr><td>_timestamp</td><td>1603108890</td></tr><tr><td>Test loss</td><td>6.56332</td></tr><tr><td>Test CER</td><td>1.04628</td></tr><tr><td>Test WER</td><td>1.05166</td></tr></table>"
            ],
            "text/plain": [
              "<IPython.core.display.HTML object>"
            ]
          },
          "metadata": {
            "tags": []
          }
        },
        {
          "output_type": "display_data",
          "data": {
            "text/html": [
              "<h3>Run history:</h3><br/><style>\n",
              "    table.wandb td:nth-child(1) { padding: 0 10px; text-align: right }\n",
              "    </style><table class=\"wandb\">\n",
              "<tr><td>Train loss</td><td>█▇▇▇▇▆▆▇▇▇▆▆▆▆▆▆▆▇▆▅▅▄▃▂▂▁▁▁▁▁▁▁▁▁▁▁▁▁▁▁</td></tr><tr><td>_step</td><td>▁▁▁▁▂▂▂▂▂▃▃▃▃▃▃▄▄▄▄▄▅▅▅▅▅▅▆▆▆▆▆▇▇▇▇▇▇███</td></tr><tr><td>_runtime</td><td>▁▁▁▁▂▂▂▂▂▃▃▃▃▃▃▄▄▄▄▄▄▅▅▅▅▅▆▆▆▆▆▆▇▇▇▇▇███</td></tr><tr><td>_timestamp</td><td>▁▁▁▁▂▂▂▂▂▃▃▃▃▃▃▄▄▄▄▄▄▅▅▅▅▅▆▆▆▆▆▆▇▇▇▇▇███</td></tr><tr><td>Test loss</td><td>█▁▁▁▁▁▁▁▁▁▁▁▁▁▁▁▁▂▁▁▁▁▁▁▁▁▁▁▁▁▁▁▁▁▁▁▁▁▁▁</td></tr><tr><td>Test CER</td><td>▆▆▆▆▆▆▆▆▆▆▆▆▆▆▆▆▆▆▇▇▆▂▂▂▁▃▆▅▅▆▇▇▇███████</td></tr><tr><td>Test WER</td><td>▆▆▆▆▆▆▆▆▆▆▆▆▆▆▆▆▆▆▇▆▅▂▂▁▁▃▆▅▅▆▇▇▇███████</td></tr></table><br/>"
            ],
            "text/plain": [
              "<IPython.core.display.HTML object>"
            ]
          },
          "metadata": {
            "tags": []
          }
        },
        {
          "output_type": "display_data",
          "data": {
            "text/html": [
              "Synced 5 W&B file(s), 1 media file(s), 0 artifact file(s) and 0 other file(s)"
            ],
            "text/plain": [
              "<IPython.core.display.HTML object>"
            ]
          },
          "metadata": {
            "tags": []
          }
        },
        {
          "output_type": "display_data",
          "data": {
            "text/html": [
              "\n",
              "                    <br/>Synced <strong style=\"color:#cdcd00\">still-breeze-12</strong>: <a href=\"https://wandb.ai/maxthehuman/quartznet-implementation/runs/1aumonf9\" target=\"_blank\">https://wandb.ai/maxthehuman/quartznet-implementation/runs/1aumonf9</a><br/>\n",
              "                "
            ],
            "text/plain": [
              "<IPython.core.display.HTML object>"
            ]
          },
          "metadata": {
            "tags": []
          }
        },
        {
          "output_type": "display_data",
          "data": {
            "text/html": [
              "\n",
              "                Tracking run with wandb version 0.10.7<br/>\n",
              "                Syncing run <strong style=\"color:#cdcd00\">polished-feather-13</strong> to <a href=\"https://wandb.ai\" target=\"_blank\">Weights & Biases</a> <a href=\"https://docs.wandb.com/integrations/jupyter.html\" target=\"_blank\">(Documentation)</a>.<br/>\n",
              "                Project page: <a href=\"https://wandb.ai/maxthehuman/quartznet-implementation\" target=\"_blank\">https://wandb.ai/maxthehuman/quartznet-implementation</a><br/>\n",
              "                Run page: <a href=\"https://wandb.ai/maxthehuman/quartznet-implementation/runs/18wqg383\" target=\"_blank\">https://wandb.ai/maxthehuman/quartznet-implementation/runs/18wqg383</a><br/>\n",
              "                Run data is saved locally in <code>wandb/run-20201019_123528-18wqg383</code><br/><br/>\n",
              "            "
            ],
            "text/plain": [
              "<IPython.core.display.HTML object>"
            ]
          },
          "metadata": {
            "tags": []
          }
        },
        {
          "output_type": "execute_result",
          "data": {
            "text/plain": [
              "<wandb.sdk.wandb_run.Run at 0x7fa8b8cafa20>"
            ],
            "text/html": [
              "<h1>Run(18wqg383)</h1><p></p><iframe src=\"https://wandb.ai/maxthehuman/quartznet-implementation/runs/18wqg383\" style=\"border:none;width:100%;height:400px\"></iframe>"
            ]
          },
          "metadata": {
            "tags": []
          },
          "execution_count": 58
        }
      ]
    },
    {
      "cell_type": "markdown",
      "metadata": {
        "id": "r-ivUF3uPJxD"
      },
      "source": [
        "Подключим диск"
      ]
    },
    {
      "cell_type": "code",
      "metadata": {
        "id": "2UsRgQb4j5eK",
        "outputId": "605d3c83-893d-4261-d4aa-b45472fee46b",
        "colab": {
          "base_uri": "https://localhost:8080/",
          "height": 34
        }
      },
      "source": [
        "from google.colab import drive\n",
        "drive.mount('/content/drive')"
      ],
      "execution_count": 59,
      "outputs": [
        {
          "output_type": "stream",
          "text": [
            "Drive already mounted at /content/drive; to attempt to forcibly remount, call drive.mount(\"/content/drive\", force_remount=True).\n"
          ],
          "name": "stdout"
        }
      ]
    },
    {
      "cell_type": "markdown",
      "metadata": {
        "id": "3MlsG9MfPWV1"
      },
      "source": [
        "Будем использовать гпу"
      ]
    },
    {
      "cell_type": "code",
      "metadata": {
        "id": "TfdETTEobiec",
        "outputId": "ec184223-cd90-431c-86fe-156a45d586ad",
        "colab": {
          "base_uri": "https://localhost:8080/",
          "height": 34
        }
      },
      "source": [
        "use_cuda = torch.cuda.is_available()\n",
        "torch.manual_seed(7)\n",
        "device = torch.device(\"cuda\" if use_cuda else \"cpu\")\n",
        "print(device)\n",
        "# mp.set_start_method('fork', True)\n",
        "# mp.set_start_method('spawn', True)"
      ],
      "execution_count": 61,
      "outputs": [
        {
          "output_type": "stream",
          "text": [
            "cuda\n"
          ],
          "name": "stdout"
        }
      ]
    },
    {
      "cell_type": "markdown",
      "metadata": {
        "id": "_afaiIOPPdHP"
      },
      "source": [
        "Конфиг"
      ]
    },
    {
      "cell_type": "code",
      "metadata": {
        "id": "4cpwcQhTZkSf"
      },
      "source": [
        "# path_to_dataset = \"../resources/LJSpeech-1.1/\"\n",
        "path_to_dataset = \"drive/My Drive/LJSpeech-1.1/\"\n",
        "path_to_metadata = path_to_dataset + \"metadata.csv\"\n",
        "path_to_model = \"drive/My Drive/ASR/model.pt\"\n",
        "path_to_weights_dict = \"drive/My Drive/ASR/state_dict_model.pt\"\n",
        "\n",
        "batch_size = 32\n",
        "epochs = 200\n",
        "n_mels = 64\n",
        "B = 3\n",
        "R = 5\n",
        "\n",
        "freq_mask_param = 15\n",
        "time_mask_param = 25\n",
        "\n",
        "column_names = ['wav_filename', 'text_with_numbers', 'text_in_letters'] \n",
        "max_str_len = 100"
      ],
      "execution_count": 62,
      "outputs": []
    },
    {
      "cell_type": "markdown",
      "metadata": {
        "id": "cWHf_hOxPizT"
      },
      "source": [
        "В датасете есть записи с не-ASCII символами (например, французские буквы), уберём их для простоты"
      ]
    },
    {
      "cell_type": "code",
      "metadata": {
        "id": "pJiXJiH_ZkSk"
      },
      "source": [
        "def filter_non_ascii(string):\n",
        "    try:\n",
        "        str(string).encode('ascii')\n",
        "    except UnicodeEncodeError:\n",
        "        return False\n",
        "\n",
        "    return True"
      ],
      "execution_count": 63,
      "outputs": []
    },
    {
      "cell_type": "markdown",
      "metadata": {
        "id": "S_64yZmCP-NN"
      },
      "source": [
        "Загружаем метаинформацию о датасете"
      ]
    },
    {
      "cell_type": "code",
      "metadata": {
        "id": "4CkKUoVRZkSp"
      },
      "source": [
        "LJdata = pd.read_csv(path_to_metadata, sep='|', names=column_names, header=None)\n",
        "LJdata.drop(columns=['text_with_numbers'], inplace=True)\n",
        "LJdata['text_in_letters'] = LJdata['text_in_letters'].apply(lambda x: str(x))\n",
        "LJdata = LJdata[LJdata['text_in_letters'].apply(lambda x: len(x) <= max_str_len)]\n",
        "LJdata = LJdata[LJdata['text_in_letters'].apply(filter_non_ascii)]"
      ],
      "execution_count": 64,
      "outputs": []
    },
    {
      "cell_type": "code",
      "metadata": {
        "id": "A0pBypBbZkSx"
      },
      "source": [
        "LJdata = LJdata[0:32*100]"
      ],
      "execution_count": 65,
      "outputs": []
    },
    {
      "cell_type": "code",
      "metadata": {
        "id": "JC0MUu0UweRT",
        "outputId": "a0558754-7565-4984-daa6-8a9bec994aa8",
        "colab": {
          "base_uri": "https://localhost:8080/",
          "height": 419
        }
      },
      "source": [
        "LJdata"
      ],
      "execution_count": 66,
      "outputs": [
        {
          "output_type": "execute_result",
          "data": {
            "text/html": [
              "<div>\n",
              "<style scoped>\n",
              "    .dataframe tbody tr th:only-of-type {\n",
              "        vertical-align: middle;\n",
              "    }\n",
              "\n",
              "    .dataframe tbody tr th {\n",
              "        vertical-align: top;\n",
              "    }\n",
              "\n",
              "    .dataframe thead th {\n",
              "        text-align: right;\n",
              "    }\n",
              "</style>\n",
              "<table border=\"1\" class=\"dataframe\">\n",
              "  <thead>\n",
              "    <tr style=\"text-align: right;\">\n",
              "      <th></th>\n",
              "      <th>wav_filename</th>\n",
              "      <th>text_in_letters</th>\n",
              "    </tr>\n",
              "  </thead>\n",
              "  <tbody>\n",
              "    <tr>\n",
              "      <th>1</th>\n",
              "      <td>LJ001-0002</td>\n",
              "      <td>in being comparatively modern.</td>\n",
              "    </tr>\n",
              "    <tr>\n",
              "      <th>3</th>\n",
              "      <td>LJ001-0004</td>\n",
              "      <td>produced the block books, which were the immed...</td>\n",
              "    </tr>\n",
              "    <tr>\n",
              "      <th>5</th>\n",
              "      <td>LJ001-0006</td>\n",
              "      <td>And it is worth mention in passing that, as an...</td>\n",
              "    </tr>\n",
              "    <tr>\n",
              "      <th>7</th>\n",
              "      <td>LJ001-0008</td>\n",
              "      <td>has never been surpassed.</td>\n",
              "    </tr>\n",
              "    <tr>\n",
              "      <th>10</th>\n",
              "      <td>LJ001-0011</td>\n",
              "      <td>it is of the first importance that the letter ...</td>\n",
              "    </tr>\n",
              "    <tr>\n",
              "      <th>...</th>\n",
              "      <td>...</td>\n",
              "      <td>...</td>\n",
              "    </tr>\n",
              "    <tr>\n",
              "      <th>6526</th>\n",
              "      <td>LJ023-0073</td>\n",
              "      <td>The Court claimed the power to declare it unco...</td>\n",
              "    </tr>\n",
              "    <tr>\n",
              "      <th>6527</th>\n",
              "      <td>LJ023-0074</td>\n",
              "      <td>But a little later the Court itself admitted</td>\n",
              "    </tr>\n",
              "    <tr>\n",
              "      <th>6530</th>\n",
              "      <td>LJ023-0077</td>\n",
              "      <td>by which any law is passed,</td>\n",
              "    </tr>\n",
              "    <tr>\n",
              "      <th>6532</th>\n",
              "      <td>LJ023-0079</td>\n",
              "      <td>But since the rise of the modern movement for ...</td>\n",
              "    </tr>\n",
              "    <tr>\n",
              "      <th>6533</th>\n",
              "      <td>LJ023-0080</td>\n",
              "      <td>the Court has more and more often and more and...</td>\n",
              "    </tr>\n",
              "  </tbody>\n",
              "</table>\n",
              "<p>3200 rows × 2 columns</p>\n",
              "</div>"
            ],
            "text/plain": [
              "     wav_filename                                    text_in_letters\n",
              "1      LJ001-0002                     in being comparatively modern.\n",
              "3      LJ001-0004  produced the block books, which were the immed...\n",
              "5      LJ001-0006  And it is worth mention in passing that, as an...\n",
              "7      LJ001-0008                          has never been surpassed.\n",
              "10     LJ001-0011  it is of the first importance that the letter ...\n",
              "...           ...                                                ...\n",
              "6526   LJ023-0073  The Court claimed the power to declare it unco...\n",
              "6527   LJ023-0074       But a little later the Court itself admitted\n",
              "6530   LJ023-0077                        by which any law is passed,\n",
              "6532   LJ023-0079  But since the rise of the modern movement for ...\n",
              "6533   LJ023-0080  the Court has more and more often and more and...\n",
              "\n",
              "[3200 rows x 2 columns]"
            ]
          },
          "metadata": {
            "tags": []
          },
          "execution_count": 66
        }
      ]
    },
    {
      "cell_type": "code",
      "metadata": {
        "id": "s0Mu-YhUZkS2"
      },
      "source": [
        "mel_transform = torchaudio.transforms.MelSpectrogram(\n",
        "    sample_rate=22050,\n",
        "    n_fft=1024,\n",
        "    win_length=1024,\n",
        "    hop_length=256,\n",
        "    f_min=0,\n",
        "    f_max=8000,\n",
        "    n_mels=n_mels).to(device)"
      ],
      "execution_count": 67,
      "outputs": []
    },
    {
      "cell_type": "markdown",
      "metadata": {
        "id": "ICtToHzcCrAH"
      },
      "source": [
        "Создадим класс датасет для даталоудера"
      ]
    },
    {
      "cell_type": "code",
      "metadata": {
        "id": "sb_HS1DOZkS8"
      },
      "source": [
        "class MyDataset(Dataset):\n",
        "    def __init__(self, data):\n",
        "        super(MyDataset, self).__init__()\n",
        "        self._data = data\n",
        "\n",
        "    def __getitem__(self, index: int):\n",
        "        wav_filename, text_in_letters = self._data.iloc[index]\n",
        "        path_to_file = path_to_dataset + \"wavs/\" + wav_filename + \".wav\"\n",
        "\n",
        "        waveform, sample_rate = torchaudio.load(path_to_file)\n",
        "        waveform = waveform.to(device)\n",
        "        spectrogram = mel_transform(waveform)\n",
        "        spectrogram = torch.log(spectrogram + 1e-9)\n",
        "\n",
        "        return spectrogram, text_in_letters , spectrogram.shape[0] // 2, len(text_in_letters)\n",
        "\n",
        "    def __len__(self):\n",
        "        return len(self._data)"
      ],
      "execution_count": 68,
      "outputs": []
    },
    {
      "cell_type": "code",
      "metadata": {
        "id": "hwM5Dm72ZkTD"
      },
      "source": [
        "my_dataset = MyDataset(LJdata)"
      ],
      "execution_count": 69,
      "outputs": []
    },
    {
      "cell_type": "markdown",
      "metadata": {
        "id": "33tNm_nmhiNQ"
      },
      "source": [
        "код ниже нужно выполнить два раза, на первый раз отваливается из-за диска"
      ]
    },
    {
      "cell_type": "code",
      "metadata": {
        "id": "dIIUN6GoZkTK",
        "outputId": "419fd171-f436-4f56-eaf4-4eb37c93115e",
        "colab": {
          "base_uri": "https://localhost:8080/",
          "height": 390
        }
      },
      "source": [
        "spec, lbl, spec_len, lbl_len = my_dataset.__getitem__(0)\n",
        "spec = spec.cpu()\n",
        "print(len(my_dataset))\n",
        "print(lbl)\n",
        "print(lbl_len)\n",
        "print(spec_len)\n",
        "\n",
        "plt.figure(figsize=(20, 5))\n",
        "plt.imshow(spec.squeeze())\n",
        "plt.show()"
      ],
      "execution_count": 70,
      "outputs": [
        {
          "output_type": "stream",
          "text": [
            "3200\n",
            "in being comparatively modern.\n",
            "30\n",
            "0\n"
          ],
          "name": "stdout"
        },
        {
          "output_type": "display_data",
          "data": {
            "image/png": "[encoded data removed]",
            "text/plain": [
              "<Figure size 1440x360 with 1 Axes>"
            ]
          },
          "metadata": {
            "tags": [],
            "needs_background": "light"
          }
        }
      ]
    },
    {
      "cell_type": "code",
      "metadata": {
        "id": "jY56bZ3sZkTP",
        "outputId": "e6df2f36-14f8-4e72-aee3-c3eee681eae3",
        "colab": {
          "base_uri": "https://localhost:8080/",
          "height": 51
        }
      },
      "source": [
        "dataset_length = len(my_dataset)\n",
        "train_dataset_length = int(dataset_length * 0.95)\n",
        "test_dataset_length = dataset_length - train_dataset_length\n",
        "\n",
        "train_dataset, test_dataset = random_split(\n",
        "    dataset=my_dataset,\n",
        "    lengths=[train_dataset_length, test_dataset_length],\n",
        "    generator=torch.Generator().manual_seed(21)\n",
        ")\n",
        "\n",
        "print(\"train set size:\", train_dataset_length, \"\\ntest set size:\", test_dataset_length)"
      ],
      "execution_count": 72,
      "outputs": [
        {
          "output_type": "stream",
          "text": [
            "train set size: 3040 \n",
            "test set size: 160\n"
          ],
          "name": "stdout"
        }
      ]
    },
    {
      "cell_type": "markdown",
      "metadata": {
        "id": "4QjlVlIQC3Ez"
      },
      "source": [
        "На трейне будем применять аугментации по времени и частоте"
      ]
    },
    {
      "cell_type": "code",
      "metadata": {
        "id": "ANT8K1pAZkTU"
      },
      "source": [
        "def augment(waveform):\n",
        "    freq_transform = torchaudio.transforms.FrequencyMasking(freq_mask_param=freq_mask_param)\n",
        "    time_transform = torchaudio.transforms.TimeMasking(time_mask_param=time_mask_param)\n",
        "    return time_transform(freq_transform(waveform))"
      ],
      "execution_count": 75,
      "outputs": []
    },
    {
      "cell_type": "code",
      "metadata": {
        "id": "Ehe4U8XUZkTZ"
      },
      "source": [
        "char2int = {\n",
        "        '#': 0,\n",
        "        ' ': 1,\n",
        "        'a': 2,\n",
        "        'b': 3,\n",
        "        'c': 4,\n",
        "        'd': 5,\n",
        "        'e': 6,\n",
        "        'f': 7,\n",
        "        'g': 8,\n",
        "        'h': 9,\n",
        "        'i': 10,\n",
        "        'j': 11,\n",
        "        'k': 12,\n",
        "        'l': 13,\n",
        "        'm': 14,\n",
        "        'n': 15,\n",
        "        'o': 16,\n",
        "        'p': 17,\n",
        "        'q': 18,\n",
        "        'r': 19,\n",
        "        's': 20,\n",
        "        't': 21,\n",
        "        'u': 22,\n",
        "        'v': 23,\n",
        "        'w': 24,\n",
        "        'x': 25,\n",
        "        'y': 26,\n",
        "        'z': 27\n",
        "    }\n",
        "\n",
        "int2char = {\n",
        "        0: '#',\n",
        "        1: ' ',\n",
        "        2: 'a',\n",
        "        3: 'b',\n",
        "        4: 'c',\n",
        "        5: 'd',\n",
        "        6: 'e',\n",
        "        7: 'f',\n",
        "        8: 'g',\n",
        "        9: 'h',\n",
        "        10: 'i',\n",
        "        11: 'j',\n",
        "        12: 'k',\n",
        "        13: 'l',\n",
        "        14: 'm',\n",
        "        15: 'n',\n",
        "        16: 'o',\n",
        "        17: 'p',\n",
        "        18: 'q',\n",
        "        19: 'r',\n",
        "        20: 's',\n",
        "        21: 't',\n",
        "        22: 'u',\n",
        "        23: 'v',\n",
        "        24: 'w',\n",
        "        25: 'x',\n",
        "        26: 'y',\n",
        "        27: 'z'\n",
        "    }    "
      ],
      "execution_count": 76,
      "outputs": []
    },
    {
      "cell_type": "code",
      "metadata": {
        "id": "BgV7kjXUZkTf"
      },
      "source": [
        "def text_transform(text_in_letters):\n",
        "    int_array = []\n",
        "    for c in text_in_letters:\n",
        "        if c in char2int:\n",
        "            int_array.append(char2int[c])\n",
        "        \n",
        "    return int_array"
      ],
      "execution_count": 77,
      "outputs": []
    },
    {
      "cell_type": "code",
      "metadata": {
        "id": "9QryANKvZkTo"
      },
      "source": [
        "def collate_sequences(batch, is_test = False):\n",
        "    specs = []\n",
        "    labels = []\n",
        "    specs_len = []\n",
        "    labels_len = []\n",
        "    for (log_mel_spec, text_in_letters, spec_len, text_len) in batch:\n",
        "        # if not is_test:\n",
        "        #     log_mel_spec = augment(log_mel_spec)\n",
        "        specs.append(log_mel_spec.squeeze(0).transpose(0, 1))\n",
        "        specs_len.append(log_mel_spec.shape[-1]//2)\n",
        "        # print(log_mel_spec.shape)\n",
        "        text_in_ints = torch.Tensor(text_transform(text_in_letters))\n",
        "        labels.append(text_in_ints)\n",
        "        labels_len.append(len(text_in_ints))\n",
        "\n",
        "    specs = nn.utils.rnn.pad_sequence(sequences=specs, batch_first=True).transpose(1, 2)\n",
        "    labels = nn.utils.rnn.pad_sequence(sequences=labels, batch_first=True)\n",
        "\n",
        "    return specs, labels, specs_len, labels_len"
      ],
      "execution_count": 78,
      "outputs": []
    },
    {
      "cell_type": "code",
      "metadata": {
        "id": "AEWYbrEyZkTs"
      },
      "source": [
        "train_dataloader = DataLoader(\n",
        "            train_dataset,\n",
        "            batch_size=batch_size,\n",
        "            collate_fn=collate_sequences,\n",
        "            num_workers=0\n",
        "            # pin_memory=True\n",
        "        )\n",
        "\n",
        "test_dataloader = DataLoader(\n",
        "            test_dataset,\n",
        "            batch_size=batch_size,\n",
        "            collate_fn=lambda x: collate_sequences(x, True),\n",
        "            num_workers=0\n",
        "            # pin_memory=True\n",
        "        )"
      ],
      "execution_count": 79,
      "outputs": []
    },
    {
      "cell_type": "markdown",
      "metadata": {
        "id": "A2eeJmy_C-1p"
      },
      "source": [
        "Определим модель сети"
      ]
    },
    {
      "cell_type": "code",
      "metadata": {
        "id": "EGGUJ2u8ZkT1"
      },
      "source": [
        "class Conv_BN_ReLU(nn.Module):\n",
        "    def __init__(self, in_channels, out_channels, kernel, stride = 1):\n",
        "        super(Conv_BN_ReLU, self).__init__()\n",
        "        \n",
        "        self.cnn = nn.Conv1d(\n",
        "            in_channels, out_channels, kernel, stride=stride, padding=kernel//2\n",
        "        )\n",
        "        self.batch_norm = nn.modules.batchnorm.BatchNorm1d(\n",
        "            num_features=out_channels\n",
        "        )\n",
        "        self.relu = nn.ReLU(inplace = False)\n",
        "\n",
        "    def forward(self, x):\n",
        "        x = self.cnn(x)\n",
        "        x = self.batch_norm(x)\n",
        "        x = self.relu(x)\n",
        "        return x  # (batch, channel, feature, time)"
      ],
      "execution_count": 80,
      "outputs": []
    },
    {
      "cell_type": "code",
      "metadata": {
        "id": "LeBtTIbEZkT4"
      },
      "source": [
        "class TCSConv_BN_ReLU(nn.Module):\n",
        "    def __init__(self, in_channels, out_channels, kernel):\n",
        "        super(TCSConv_BN_ReLU, self).__init__()\n",
        "\n",
        "        self.depthwise_conv = nn.Conv1d(\n",
        "            in_channels, in_channels, kernel_size=kernel, padding=kernel//2,\n",
        "            groups=4, bias=False\n",
        "        )\n",
        "        self.pointwise_conv = nn.Conv1d(\n",
        "            in_channels, out_channels, kernel_size=1, padding=0, bias=False\n",
        "        )\n",
        "        self.batch_norm = nn.modules.batchnorm.BatchNorm1d(\n",
        "            num_features=out_channels\n",
        "        )\n",
        "        self.relu = nn.ReLU(inplace = False)\n",
        "\n",
        "    def forward(self, x):\n",
        "        x = self.depthwise_conv(x)\n",
        "        x = self.pointwise_conv(x)\n",
        "        x = self.batch_norm(x)\n",
        "        x = self.relu(x)\n",
        "        return x  # (batch, channel, feature, time)"
      ],
      "execution_count": 81,
      "outputs": []
    },
    {
      "cell_type": "code",
      "metadata": {
        "id": "KISq4GG7-fmJ",
        "outputId": "c5b13c7d-c48f-480e-ccff-6ca1077271f4",
        "colab": {
          "base_uri": "https://localhost:8080/",
          "height": 51
        }
      },
      "source": [
        "print(\"R =\", R)\n",
        "print(\"B =\", B)"
      ],
      "execution_count": 82,
      "outputs": [
        {
          "output_type": "stream",
          "text": [
            "R = 5\n",
            "B = 3\n"
          ],
          "name": "stdout"
        }
      ]
    },
    {
      "cell_type": "code",
      "metadata": {
        "id": "X6ufwT3rZkT8"
      },
      "source": [
        "class TCSBlock(nn.Module):\n",
        "    \"\"\"Layer normalization built for cnns input\"\"\"\n",
        "    def __init__(self, in_channels, out_channels, kernel):\n",
        "        super(TCSBlock, self).__init__()\n",
        "        \n",
        "        self.TCS_layers = nn.Sequential(*[\n",
        "            TCSConv_BN_ReLU(in_channels, out_channels, kernel)\n",
        "            for i in range(R)\n",
        "        ])\n",
        "        \n",
        "    def forward(self, x):\n",
        "        x_copy = x\n",
        "        x = self.TCS_layers(x)\n",
        "        x += x_copy\n",
        "        return x  # (batch, channel, feature, time)"
      ],
      "execution_count": 83,
      "outputs": []
    },
    {
      "cell_type": "code",
      "metadata": {
        "id": "f7yP9D8eZkUB"
      },
      "source": [
        "class MainBlock(nn.Module):\n",
        "    def __init__(self):\n",
        "        super(MainBlock, self).__init__()\n",
        "        \n",
        "        self.TCSBlock_1 = TCSBlock(in_channels=256, out_channels=256, kernel=33)\n",
        "        self.TCSBlock_2 = TCSBlock(in_channels=256, out_channels=256, kernel=39)\n",
        "        self.helper_2_3 = Conv_BN_ReLU(in_channels=256, out_channels=512, kernel=51)\n",
        "        self.TCSBlock_3 = TCSBlock(in_channels=512, out_channels=512, kernel=51)\n",
        "        self.TCSBlock_4 = TCSBlock(in_channels=512, out_channels=512, kernel=63)\n",
        "        self.TCSBlock_5 = TCSBlock(in_channels=512, out_channels=512, kernel=75)\n",
        "\n",
        "    def forward(self, x):\n",
        "        # x (batch, channel, feature, time)\n",
        "        x = self.TCSBlock_1(x)\n",
        "        x = self.TCSBlock_2(x)\n",
        "        x = self.helper_2_3(x)\n",
        "        x = self.TCSBlock_3(x)\n",
        "        x = self.TCSBlock_4(x)\n",
        "        x = self.TCSBlock_5(x)\n",
        "        return x  # (batch, channel, feature, time)"
      ],
      "execution_count": 84,
      "outputs": []
    },
    {
      "cell_type": "code",
      "metadata": {
        "id": "z22_qb7-ZkUF"
      },
      "source": [
        "class ASR(nn.Module):\n",
        "    def __init__(self):\n",
        "        super(ASR, self).__init__()\n",
        "        \n",
        "        self.conv_bn_relu_1 = Conv_BN_ReLU(\n",
        "            in_channels=64, out_channels=256, kernel=33, stride=2\n",
        "        )\n",
        "        self.main_block = MainBlock()\n",
        "        self.conv_bn_relu_2 = Conv_BN_ReLU(in_channels=512, out_channels=512, kernel=87)\n",
        "        self.conv_bn_relu_3 = Conv_BN_ReLU(in_channels=512, out_channels=1024, kernel=1)\n",
        "        self.conv_bn_relu_4 = nn.Conv1d(in_channels=1024, out_channels=len(char2int), kernel_size=1, padding=0, dilation=2, bias=False)\n",
        "    \n",
        "    def forward(self, x):\n",
        "        # x (batch, channel, feature, time)\n",
        "        x = self.conv_bn_relu_1(x)\n",
        "        x = self.main_block(x)\n",
        "        x = self.conv_bn_relu_2(x)\n",
        "        x = self.conv_bn_relu_3(x)\n",
        "        x = self.conv_bn_relu_4(x)\n",
        "        x = x.transpose(1, 2)\n",
        "        return x  # (batch, channel, feature, time)"
      ],
      "execution_count": 85,
      "outputs": []
    },
    {
      "cell_type": "code",
      "metadata": {
        "id": "daCbXvcEZkUI",
        "outputId": "6f85220b-07de-42cc-9096-82c63230ec8f",
        "colab": {
          "base_uri": "https://localhost:8080/",
          "height": 34
        }
      },
      "source": [
        "model=ASR().to(device)\n",
        "wandb.watch(model)"
      ],
      "execution_count": 86,
      "outputs": [
        {
          "output_type": "execute_result",
          "data": {
            "text/plain": [
              "[<wandb.wandb_torch.TorchGraph at 0x7fa89cd43c50>]"
            ]
          },
          "metadata": {
            "tags": []
          },
          "execution_count": 86
        }
      ]
    },
    {
      "cell_type": "code",
      "metadata": {
        "id": "fVF5XjIXZkUL"
      },
      "source": [
        "optimizer = torch.optim.AdamW(model.parameters(), lr=5e-4)"
      ],
      "execution_count": 87,
      "outputs": []
    },
    {
      "cell_type": "code",
      "metadata": {
        "id": "UpvKn0GUZkUO"
      },
      "source": [
        "criterion = nn.CTCLoss(blank=0).to(device)"
      ],
      "execution_count": 88,
      "outputs": []
    },
    {
      "cell_type": "code",
      "metadata": {
        "id": "DAU-LYtgL3cY"
      },
      "source": [
        "log_softmax = nn.LogSoftmax(dim=2)"
      ],
      "execution_count": 89,
      "outputs": []
    },
    {
      "cell_type": "code",
      "metadata": {
        "id": "W32N_nEc3PCc",
        "outputId": "7abe44ba-8536-44b4-f27c-48adb515a8a5",
        "colab": {
          "base_uri": "https://localhost:8080/",
          "height": 51
        }
      },
      "source": [
        "print(len(train_dataloader.dataset))\n",
        "print(len(test_dataloader.dataset))"
      ],
      "execution_count": 90,
      "outputs": [
        {
          "output_type": "stream",
          "text": [
            "3040\n",
            "160\n"
          ],
          "name": "stdout"
        }
      ]
    },
    {
      "cell_type": "code",
      "metadata": {
        "id": "bQFfORWDHySd"
      },
      "source": [
        "def int_to_letters(text_in_ints):\n",
        "    string = []\n",
        "    for i in text_in_ints:\n",
        "        string.append(int2char[i])\n",
        "    return ''.join(string)\n"
      ],
      "execution_count": 92,
      "outputs": []
    },
    {
      "cell_type": "code",
      "metadata": {
        "id": "uN0RJ194_5mm"
      },
      "source": [
        "def Decoder(output, labels, label_lengths, blank_label=0, collapse_repeated=True):\n",
        "    arg_maxes = torch.argmax(output, dim=2)\n",
        "    decodes = []\n",
        "    targets = []\n",
        "    for i, args in enumerate(arg_maxes):\n",
        "        decode = []\n",
        "        targets.append(int_to_letters(labels[i][:label_lengths[i]].tolist()))\n",
        "        for j, index in enumerate(args):\n",
        "            if index != blank_label:\n",
        "                if collapse_repeated and j != 0 and index == args[j -1]:\n",
        "                    continue\n",
        "                decode.append(index.item())\n",
        "        decodes.append(int_to_letters(decode))\n",
        "    return decodes, targets"
      ],
      "execution_count": 93,
      "outputs": []
    },
    {
      "cell_type": "code",
      "metadata": {
        "id": "Dfx1FuJ6jL_7",
        "outputId": "5571ee3f-9578-4138-8e21-852d17bcee4f",
        "colab": {
          "base_uri": "https://localhost:8080/",
          "height": 224
        }
      },
      "source": [
        "!pip install python-Levenshtein"
      ],
      "execution_count": 36,
      "outputs": [
        {
          "output_type": "stream",
          "text": [
            "Collecting python-Levenshtein\n",
            "\u001b[?25l  Downloading https://files.pythonhosted.org/packages/42/a9/d1785c85ebf9b7dfacd08938dd028209c34a0ea3b1bcdb895208bd40a67d/python-Levenshtein-0.12.0.tar.gz (48kB)\n",
            "\r\u001b[K     |██████▊                         | 10kB 19.0MB/s eta 0:00:01\r\u001b[K     |█████████████▌                  | 20kB 4.6MB/s eta 0:00:01\r\u001b[K     |████████████████████▏           | 30kB 5.1MB/s eta 0:00:01\r\u001b[K     |███████████████████████████     | 40kB 5.4MB/s eta 0:00:01\r\u001b[K     |████████████████████████████████| 51kB 3.1MB/s \n",
            "\u001b[?25hRequirement already satisfied: setuptools in /usr/local/lib/python3.6/dist-packages (from python-Levenshtein) (50.3.0)\n",
            "Building wheels for collected packages: python-Levenshtein\n",
            "  Building wheel for python-Levenshtein (setup.py) ... \u001b[?25l\u001b[?25hdone\n",
            "  Created wheel for python-Levenshtein: filename=python_Levenshtein-0.12.0-cp36-cp36m-linux_x86_64.whl size=144790 sha256=5e7d52a5799ae62d7f0ba69ec11ac2eb8832887996136cd28887af080e7ff8d6\n",
            "  Stored in directory: /root/.cache/pip/wheels/de/c2/93/660fd5f7559049268ad2dc6d81c4e39e9e36518766eaf7e342\n",
            "Successfully built python-Levenshtein\n",
            "Installing collected packages: python-Levenshtein\n",
            "Successfully installed python-Levenshtein-0.12.0\n"
          ],
          "name": "stdout"
        }
      ]
    },
    {
      "cell_type": "code",
      "metadata": {
        "id": "l1vrbhwplTNZ"
      },
      "source": [
        "import Levenshtein"
      ],
      "execution_count": 94,
      "outputs": []
    },
    {
      "cell_type": "markdown",
      "metadata": {
        "id": "m1qOlA7mDHRA"
      },
      "source": [
        "Определим WER и CER"
      ]
    },
    {
      "cell_type": "code",
      "metadata": {
        "id": "aCi5e8PyknUN"
      },
      "source": [
        "def wer(reference, hypothesis, delimiter=' '):\n",
        "\n",
        "    reference = reference.lower()\n",
        "    hypothesis = hypothesis.lower()\n",
        "\n",
        "    # ref_words = reference.split(delimiter)\n",
        "    # hyp_words = hypothesis.split(delimiter)\n",
        "\n",
        "    # print(\"ref:\\n\", reference, \"\\nhyp:\\n\", hypothesis)\n",
        "    edit_distance = Levenshtein.distance(reference, hypothesis)\n",
        "\n",
        "    wer = float(edit_distance) / len(reference)\n",
        "    return wer"
      ],
      "execution_count": 95,
      "outputs": []
    },
    {
      "cell_type": "code",
      "metadata": {
        "id": "SWiz-_avmkiW"
      },
      "source": [
        "def cer(reference, hypothesis, remove_space=False):\n",
        "\n",
        "    reference = reference.lower()\n",
        "    hypothesis = hypothesis.lower()\n",
        "    join_char = ' '\n",
        "    if remove_space == True:\n",
        "        join_char = ''\n",
        "\n",
        "    reference = join_char.join(filter(None, reference.split(' ')))\n",
        "    hypothesis = join_char.join(filter(None, hypothesis.split(' ')))\n",
        "\n",
        "    edit_distance = Levenshtein.distance(reference, hypothesis)\n",
        "\n",
        "    cer = float(edit_distance) / len(reference)\n",
        "    return cer"
      ],
      "execution_count": 96,
      "outputs": []
    },
    {
      "cell_type": "code",
      "metadata": {
        "id": "1HjzkycGmgrx"
      },
      "source": [
        ""
      ],
      "execution_count": 57,
      "outputs": []
    },
    {
      "cell_type": "code",
      "metadata": {
        "id": "uk9pfIMKEp9I"
      },
      "source": [
        "def train(model, train_dataloader, criterion, optimizer, epoch):\n",
        "    model.train()\n",
        "    data_len = len(train_dataloader.dataset)\n",
        "    #print(data_len)\n",
        "    losses = []\n",
        "    for batch_idx, (log_mel_specs, texts_in_ints, spec_lengths, lbl_lengths) in enumerate(train_dataloader):\n",
        "        log_mel_specs = log_mel_specs.to(device)\n",
        "        texts_in_ints = texts_in_ints.to(device)\n",
        "\n",
        "        optimizer.zero_grad()\n",
        "\n",
        "        output = model(log_mel_specs)  # (batch, time, n_class)\n",
        "        #print(output.shape)\n",
        "        #print(output)\n",
        "        output = log_softmax(output)\n",
        "        #print(output.shape)\n",
        "        #print(output)\n",
        "        output = output.transpose(0, 1) # (time, batch, n_class)\n",
        "\n",
        "        loss = criterion(output, texts_in_ints, spec_lengths, lbl_lengths)\n",
        "        loss.backward()\n",
        "        losses.append(loss)\n",
        "\n",
        "        optimizer.step()\n",
        "        if batch_idx == 1 and (epoch == 0 or epoch % 10 == 1):\n",
        "            decodes, targets = Decoder(\n",
        "                output.transpose(0, 1), texts_in_ints, lbl_lengths, blank_label=0, collapse_repeated=True\n",
        "            )\n",
        "            print('Train Epoch: {} [{}/{} ({:.0f}%)]\\tLoss: {:.6f}'.format(\n",
        "                epoch, batch_idx * len(log_mel_specs), data_len,\n",
        "                100. * batch_idx / len(train_dataloader), loss.item()))\n",
        "            print(\"Decodes:\\n\", decodes)\n",
        "            print(\"Targets:\\n\", targets)\n",
        "    wandb.log({\"Train loss\": sum(losses) / len(losses)})\n",
        "    return sum(losses) / len(losses)"
      ],
      "execution_count": 97,
      "outputs": []
    },
    {
      "cell_type": "code",
      "metadata": {
        "id": "zNUK3Rsv2pn-"
      },
      "source": [
        "def test(model, test_dataloader, criterion, epoch):\n",
        "    model.eval()\n",
        "    test_loss = 0\n",
        "    test_cer, test_wer = [], []\n",
        "    with torch.no_grad():\n",
        "        for batch_idx, (log_mel_specs, texts_in_ints, spec_lengths, lbl_lengths) in enumerate(test_dataloader):\n",
        "            log_mel_specs = log_mel_specs.to(device)\n",
        "            texts_in_ints = texts_in_ints.to(device)\n",
        "\n",
        "            output = model(log_mel_specs)  # (batch, time, n_class)\n",
        "            output = log_softmax(output)\n",
        "            output = output.transpose(0, 1) # (time, batch, n_class)\n",
        "\n",
        "            loss = criterion(output, texts_in_ints, spec_lengths, lbl_lengths)\n",
        "            # print(\"loss =\", loss.item(), \"dataloader len =\", len(test_dataloader))\n",
        "            test_loss += loss.item() / len(test_dataloader)\n",
        "\n",
        "            decoded_preds, decoded_targets = Decoder(\n",
        "                output.transpose(0, 1), texts_in_ints, lbl_lengths, blank_label=0, collapse_repeated=True\n",
        "            )\n",
        "            if (epoch % 10 == 1):\n",
        "                print(\"Decoded predictions:\\n\", decoded_preds)\n",
        "                print(\"Decoded rargets:\\n\", decoded_targets)\n",
        "            for j in range(len(decoded_preds)):\n",
        "                test_cer.append(cer(decoded_targets[j], decoded_preds[j]))\n",
        "                test_wer.append(wer(decoded_targets[j], decoded_preds[j]))\n",
        "\n",
        "\n",
        "    avg_cer = sum(test_cer)/len(test_cer)\n",
        "    avg_wer = sum(test_wer)/len(test_wer)\n",
        "    \n",
        "    if (epoch % 10 == 1):\n",
        "        print('Test set: Average loss: {:.4f}, Average CER: {:4f} Average WER: {:.4f}\\n'.format(test_loss, avg_cer, avg_wer))\n",
        "    wandb.log({\"Test loss\": test_loss, \"Test CER\": avg_cer, \"Test WER\": avg_wer})\n",
        "    return test_loss, avg_cer, avg_wer\n"
      ],
      "execution_count": 98,
      "outputs": []
    },
    {
      "cell_type": "markdown",
      "metadata": {
        "id": "jvUm6u1zDMDP"
      },
      "source": [
        "Наконец, будем учить нашу модель и смотреть на результаты\n"
      ]
    },
    {
      "cell_type": "code",
      "metadata": {
        "id": "D5L4gdIjEqEC",
        "outputId": "815f72e6-d7c1-4fad-fee3-8d699868c385",
        "colab": {
          "base_uri": "https://localhost:8080/",
          "height": 581
        }
      },
      "source": [
        "# train_losses = []\n",
        "# test_losses = []\n",
        "# test_avg_cers = []\n",
        "# test_avg_wers = []\n",
        "\n",
        "for epoch in range(epochs):\n",
        "  train_avg_loss = train(model, train_dataloader, criterion, optimizer, epoch)\n",
        "  # train_losses.append(train_avg_loss)\n",
        "  test_avg_loss, test_avg_cer, test_avg_wer = test(model, test_dataloader, criterion, epoch)\n",
        "  # test_losses.append(test_avg_loss)\n",
        "  # test_avg_cers.append(test_avg_cer)\n",
        "  # test_avg_wers.append(test_avg_wer)\n",
        "\n",
        "model = model.to(\"cpu\")\n",
        "torch.save(model.state_dict(), 'model_state_dict.pt')\n",
        "files.download('model_state_dict.pt')\n",
        "model = model.to(device)"
      ],
      "execution_count": null,
      "outputs": [
        {
          "output_type": "stream",
          "text": [
            "Train Epoch: 0 [32/3040 (1%)]\tLoss: 6.524331\n",
            "Decodes:\n",
            " ['h pcpbpuhwpuphum', 'huhuhuhum', 'hrhpwpwupuhuhuhuhum', 'hprwmhum', 'hrhphpwpwpuhuhuhuhuhuhuhuhum', 'huhuhum', 'hrphuhuhuhuhuhuhuhum', 'hotptprprtrptprpupuhuhum', 'hrhum', 'h  puphuhum', 'hcocbwbpbpbupupuhum', 'hwhwpwpwpuhum', 'hprhwhuhuhuhuhuhum', 'hum', 'h rprphuhumpm', 'huhuhuhuhuhuhuhuhum', 'hprphrhpwpuruhuhuhuhuhum', 'hococbqpqm', 'hocbmpm', 'hr t tp puhum', 'hprhuhuhum', 'hwpwpuwpuhuhuhuhuhuhum', 'hcpcpbcbpumuhuhuhum', 'huhuhuhuhwuhuhuhuhuhuhum', 'hwrwpuhmhjuhuhum', 'hocobcqpqbpupupuhuhum', 'hprprumh r rpruhum', 'hoowcpm', 'hpwpwuhuhuhum', 'h puhum', 'hphrhuhuhum', 'hocm']\n",
            "Targets:\n",
            " ['till no sentence of death was carried out for the offense and in eighteen thirtytwo', 'was the state of her fathers affairs', 'aynard was the only one who suffered death', 'auntleroy was not entirely dependent upon the ordinary for ghostly counsel in his extremity', 'unless they could afford to pay for a vehicle out of their own funds', 'e traversed vainly all the roofs in ewgate treet', 'he was discovered just as she was getting black in the face', 'h he remarked they will have to wait for us then till eight', 'ndeterred by the wellmerited punishment which had overtaken rancis', 'hey are both drawn at once by a windlass and the unhappy culprits remain suspended', 'ne quart of raham flour one cup of white flour', 'r trahan was arrested at a friends house in ryanston quare', 'as coming from a r hitney', 'who had plausibly explained that he had only recently been engaged at hrigley', 'ntil the time of his death he kept a small shop close to the church in orncastle', 'one of them of considerable size', 'either in town or country were cases entirely taken on their own merits', 'id ngland hesitate to call in ten billion dollars of her war bonds bearing five percent interest', 'every profession has its black sheep but long experience in government has taught me', 'the signal for the commencement of obscene talk revelry and violence', ' confederate followed the emissary closely', 'he proceeds of the robbery were lodged in a oston bank', 'in order that unemployment may be prevented by the stabilizing of employment itself', 'n the eighteenth ecember eighteen twelve', 'fter alcrafts resignation no successor was really appointed', 'he second attack was fatal and ended in ooks death from tetanus', 't was only filled at the periods when the sessions of the entral riminal ourt were in progress', 'and was rendered insensible by chloroform after which he was bound and the precious stones stolen', 'he wardsman still exacted dues of which more directly', 'and xford was ordered to be detained during er ajestys pleasure', 'which oward had eulogized some forty years before', 'he hronicles of ewgate olume two y rthur riffiths ection twentytwo ewgate eformed']\n",
            "Train Epoch: 1 [32/3040 (1%)]\tLoss: 2.902101\n",
            "Decodes:\n",
            " ['e', 'ea', 'ea', 'e', 'ea', 'ea', 'ea', 'ea', 'e', 'e', 'ea', 'ea', 'ea', 'e', 'e', 'ea', 'ea', '', '', 'e', 'ea', 'ea', 'e', 'ea', 'ea', 'ea', 'e', '', 'ea', 'ea', 'e', '']\n",
            "Targets:\n",
            " ['till no sentence of death was carried out for the offense and in eighteen thirtytwo', 'was the state of her fathers affairs', 'aynard was the only one who suffered death', 'auntleroy was not entirely dependent upon the ordinary for ghostly counsel in his extremity', 'unless they could afford to pay for a vehicle out of their own funds', 'e traversed vainly all the roofs in ewgate treet', 'he was discovered just as she was getting black in the face', 'h he remarked they will have to wait for us then till eight', 'ndeterred by the wellmerited punishment which had overtaken rancis', 'hey are both drawn at once by a windlass and the unhappy culprits remain suspended', 'ne quart of raham flour one cup of white flour', 'r trahan was arrested at a friends house in ryanston quare', 'as coming from a r hitney', 'who had plausibly explained that he had only recently been engaged at hrigley', 'ntil the time of his death he kept a small shop close to the church in orncastle', 'one of them of considerable size', 'either in town or country were cases entirely taken on their own merits', 'id ngland hesitate to call in ten billion dollars of her war bonds bearing five percent interest', 'every profession has its black sheep but long experience in government has taught me', 'the signal for the commencement of obscene talk revelry and violence', ' confederate followed the emissary closely', 'he proceeds of the robbery were lodged in a oston bank', 'in order that unemployment may be prevented by the stabilizing of employment itself', 'n the eighteenth ecember eighteen twelve', 'fter alcrafts resignation no successor was really appointed', 'he second attack was fatal and ended in ooks death from tetanus', 't was only filled at the periods when the sessions of the entral riminal ourt were in progress', 'and was rendered insensible by chloroform after which he was bound and the precious stones stolen', 'he wardsman still exacted dues of which more directly', 'and xford was ordered to be detained during er ajestys pleasure', 'which oward had eulogized some forty years before', 'he hronicles of ewgate olume two y rthur riffiths ection twentytwo ewgate eformed']\n",
            "Decoded predictions:\n",
            " ['', '', '', '', '', '', '', '', '', '', '', '', '', '', '', '', '', '', '', '', '', '', '', '', '', '', '', '', '', '', '', '']\n",
            "Decoded rargets:\n",
            " ['s yet no rules or regulations had been printed or prepared', 'was substantially true', 'he did not shrink from murder both for revenge and to conceal his other crimes', 'he text without another word is enough to raise the wildest passions of the audience', 'all the avenues to the prison gates were blocked by ticketholders', 'e forgot to add that it was to be placed to alphs credit and when he called as alph', 'but at r assons pressing demands went upstairs to fetch the certificates', 'ost of ensons letters are designed within a square', 'e was a corn merchant who operated largely in grain', 'n this akefield gave in', 'his passbook when not at the bank was in the exclusive custody of atts', 'which possessed the right of trying criminals for various offenses', 'then to divert suspicion from herself by throwing it on a confectioner whose sweetmeats she bought', 'ne night he was missing', 'in the other opposite were the convicts capitally convicted who had been respited', 'together with four bradawls several large iron spikes screws nails and knives', 'ord dvocate r harles eate r illiam wart and last but not least r ohn right', 'it is supported by strong posts fixed into grooves made in the street', 'with the rakings of cheap singinghalls and billiardrooms the fast young men of ondon', 'ut this boon of toil was denied to all but a very limited number', 'ay who had been living with gar at the time of the bullion robbery', 'hose who manufactured and those who passed had no direct dealings with each other', 'ome of the county jails and one or two borough jails had been rebuilt', 'is regular trade followed before he took to the life of resurrectionist was that of an engraver', 'eight he press yard', 'e are not frightened by reactionary lawyers or political editors', 'and provide for the common defense and general welfare of the nited tates', 'who in solemn tones communicated to each in turn the fate in store for him', 'he shot an old soldier who had attempted to detain him e was convicted and executed', 'he human hand that placed it there was only seen for a moment', 'n directing it  shall recognize six fundamental principles', 'here is likewise pending before the ongress']\n",
            "Decoded predictions:\n",
            " ['', '', '', '', '', '', '', '', '', '', '', '', '', '', '', '', '', '', '', '', '', '', '', '', '', '', '', '', '', '', '', '']\n",
            "Decoded rargets:\n",
            " ['ut why should  repeat the whole', 'he total number of prisoners they received during the year varied from two persons to many hundreds', 'eanwhile the clergyman still bent into the form of a sleeping dog', 'through the most comprehensive work plan in the history of the nation', 'he soon left the service and betook himself to dishonest ways', 'unlimited drink was not denied them provided it was obtained in regulated quantities at one time', 'here were but few women except of the most degraded sort the men were mostly young men ', 'of the ambs offee ouse', 'ries although enjoying a high reputation in the city had long been in a bad way', 'but at the same time with an air of the most entire truthfulness and candor', 'as the inspectors of prisons found them in eighteen thirtyfive to six', 'hrow a cloth over the bowl and set by for five or six hours to rise', 'as its signature was dated eighteen twentynine whereas rs unt actually died in eighteen oh six', 'r urner at once set off for ondon where he sought the assistance of the police', 'through the instrumentality of the democratic form of government', 'hese bankers wishing for more specific information', 'efore that time individual self interest and group selfishness were paramount in public thinking', 't should be remembered that in every big job there are some imperfections', 'his will was a deliberate forgery', 'or his bedclothes were drawn away across the room', 'he worked along to the roofs in arwick ane', 'he ords ommittee fully recognized the painful fact', 'looked forward to his liberty he was still delayed until he had paid a new debt arising quote', 't was stated in evidence before the ommission on apital unishment in eighteen sixtyfour', 'er captain was ohn mith', 'hey felt that private enterprise might', 'and the powers given to the ongress to carry out those purposes can be best described by saying', 'and took the instrument out to a clerk with the ink not dry', 'ries of urder murder were now raised and added greatly to the horrors of the scene', 'and for years felons who should have been sent beyond the seas', 'all of which declared their approval of the commanderinchief', ' believe says r ennet in the letter already largely quoted']\n",
            "Decoded predictions:\n",
            " ['', '', '', '', '', '', '', '', '', '', '', '', '', '', '', '', '', '', '', '', '', '', '', '', '', '', '', '', '', '', '', '']\n",
            "Decoded rargets:\n",
            " ['t her death the diamonds were divided between her four daughters but only half had been claimed', 'the remaining five were executed in one batch', 'the convict was half on the platform half hanging and the convulsions of his body were appalling', 'and under the scanty covering of a couple of dirty stablerugs apiece', 'e soon however became deeply involved in tock xchange speculations', 'e was arrested examined before a police magistrate and committed to ewgate', 'eare was supposed to carry a private bank about with him in a pocket in his under waistcoat', 'which requires the constant exercise of judgment and taste on the part of the printer', 'is letter to the orporation under date fourth une', 'while the latter which included various forms of industrial employment', 'he clothes of prisoners arriving dirty or in rags should be fumigated before worn in the jail', 'lthough attempted partially at ridewell and more systematically at the new illbank penitentiary', 'ushing the shopdoor open he saw arley finishing his murderous assault', 'ater on he had devoted himself to the personal investigation of the prisons of the nited tates', ' answer that no country however rich can afford the waste of its human resources', 'll the committee could do in this respect was to throw the responsibility on others', 'ails of which the old prison at eading was a specimen were still left intact', 'where a workman found a bundle containing two human legs in a drain', 'the wide dark sea of heads is all at once in motion', 'that we approached our task of reviving private enterprise in arch nineteen thirtythree', 'working at the roof of the chapel on the female side', 'under which wages hours and working conditions', 'that of a prizefighter named onovan tried the same day and convicted of manslaughter', 'here were others less successful', 'he acted in a manner which excited the suspicions of the crew', 'hen one of these ships is under construction and the steel frames have been set in the keel', 'and in such an effort we should be able to secure for employers and employees and consumers', 'so that the culprit in addition to his sentence', 'hen a bit of rope carefully secreted', 'any of the jails were in the most deplorable condition', 'and that in a moment of anger he knocked her down', 'after using much intemperate language he left the place in a huff']\n",
            "Decoded predictions:\n",
            " ['', '', '', '', '', '', '', '', '', '', '', '', '', '', '', '', '', '', '', '', '', '', '', '', '', '', '', '', '', '', '', '']\n",
            "Decoded rargets:\n",
            " ['of this it may be said that though there is some good paper made now', 'his was uranno but the sight of the heaving mass of uplifted impassioned faces', 'heir origin it will be seen dates back much further than that', 'r hillips who led in the case went to the other extreme', 'r earson backed up his recommendations by many sound arguments', 'exactly tallied with that of the deformed person wanted for the assault on the ueen', 't is a quiet crisis here are no lines of depositors outside closed banks', 'repaired there secretly and so gave information to the razilian authorities', 'ou can have no good intentions you must quit my service tomorrow morning', 'he doors through incomplete knowledge of prison needs were not as now sheeted with iron', 'he was smartly dressed in a plaid shawl a white lace cap', 'for a petition of from one shilling half pence to eight shillings according to its length', 'as she leant back he put his foot against the chair and so tilted it over', 'he jury without hesitation found ourvoisier guilty and he was sentenced to death', 'presently fell and were at once trampled to death', 'p to the twentyfirst ecember eighteen fortytwo', 'is disclaimer distinct and detailed on every point was intended simply for effect', 'his ingenious method of raising funds he adopted and carried on without detection', 'which mericans have demanded since the white man first came to these shores', 'n eighteen fiftythree three men escaped in company from one of the wards in the middle yard', 'ne heaping cup of sifted flour', 'ur responsibility for the immediate necessities of the unemployed has been met by the ongress', 'hey admitted that they had made away with many of the securities entrusted to their keeping', 'n these cases security was given for the amount of the debt', 'the unit of the book being looked on as the two pages forming an opening', 'is nature must have been kindly', 'r obbett was also a lodger of r ewmans and so were any members of the aristocracy', ' have set up a ivision of pplications and nformation', 'he shot missed and as the carriage passed on xford drew a second pistol and fired again', 'here is no occasion to use violence  will go with you', 'could not be brought about in one year', 'he policemen treated the matter as a hoax and allowed the culprit to make off']\n",
            "Decoded predictions:\n",
            " ['', '', '', '', '', '', '', '', '', '', '', '', '', '', '', '', '', '', '', '', '', '', '', '', '', '', '', '', '', '', '', '']\n",
            "Decoded rargets:\n",
            " ['ut ewgate and its neighborhood was carefully held by the police both city and metropolitan', 'he ennies men were all reeks except one known as rench eter', 'oung ngland was a secret society with no aim or object', 'e have passed through the formative period of code making in the ational ecovery dministration', 'followed him over to weden and arrested him at elsingfors', 'he neglect of prison reform in those days was not to be visited upon the legislature', 'here was fear as to the unrestricted use of tools', 'he inmates of this part as distinguished from the debtors were comprised in four classes', 'he use of gas or some other means of lighting might be adopted but more often was dispensed with', 't turned out that he was really married to rs anning', 's the executioner fastened the noose he nodded to a friend he saw in the crowd', 'hen they brought in the two watchers to relieve guard one night attler said', 'and to dispose him by meditation and seclusion to return to an honest life', 'he key men for the major responsibilities of this great task already have been selected', 'hence he was transferred to openhagen and surrendered in due course to a ondon police officer', 'which obtained through the attrition of individuals before the new conditions arose', 'were fixed over the fireplaces and the prisoners had no longer access to the chimneys', ' third similar fraud to the amount of two thousand pounds was also brought to light', 'hey also ascertained that a goldrefiner', 'two he female debtors side three he chapel yard four he middle yard', 'signed by more than a thousand members of banking firms', 'hat in this vast metropolis the center of wealth civilization and information', 'several bishops and a number of members of the ouse of ommons including r anners utton', 'he goods having no existence ole of course could not deliver them', 'was in several places merely temporary', 'he general solidity of a page is much to be sought for', 'a circular aperture had been let in to give ventilation and secure a free current of air', ' will quote an extract from the reverend gentlemans own journal', 'he judge of the dmiralty ourt the ight on tephen ushington the ight on ames oncrieff', 'which with akefield was utilized as a receptacle for convicts not going to estern ustralia', 'is demeanor immediately preceding his execution  have referred to in the last chapter', 'e played high and spent his nights at the club or in joyous and dissolute company']\n",
            "Test set: Average loss: 2.8808, Average CER: 1.000000 Average WER: 1.0000\n",
            "\n"
          ],
          "name": "stdout"
        }
      ]
    },
    {
      "cell_type": "code",
      "metadata": {
        "id": "Slyh0TdZ_8T0"
      },
      "source": [
        "files.upload()\n",
        "# import model_state_dict.pt"
      ],
      "execution_count": null,
      "outputs": []
    },
    {
      "cell_type": "code",
      "metadata": {
        "id": "WA8Ti5Y1Fbl7"
      },
      "source": [
        "model = ASR()\n",
        "state_dict = torch.load('model_state_dict.pt')\n",
        "model.load_state_dict(state_dict)\n",
        "model = model.to(device)"
      ],
      "execution_count": null,
      "outputs": []
    },
    {
      "cell_type": "code",
      "metadata": {
        "id": "xZ98kUV5jwuA",
        "outputId": "6ff24a8e-36f9-4afb-e500-b971f26e76e2",
        "colab": {
          "base_uri": "https://localhost:8080/",
          "height": 211
        }
      },
      "source": [
        "plt.figure(figsize=(20, 5))\n",
        "plt.plot(range(epochs), train_losses)\n",
        "plt.show()"
      ],
      "execution_count": null,
      "outputs": [
        {
          "output_type": "error",
          "ename": "NameError",
          "evalue": "ignored",
          "traceback": [
            "\u001b[0;31m---------------------------------------------------------------------------\u001b[0m",
            "\u001b[0;31mNameError\u001b[0m                                 Traceback (most recent call last)",
            "\u001b[0;32m<ipython-input-1-0589b4fcf2ff>\u001b[0m in \u001b[0;36m<module>\u001b[0;34m()\u001b[0m\n\u001b[0;32m----> 1\u001b[0;31m \u001b[0mplt\u001b[0m\u001b[0;34m.\u001b[0m\u001b[0mfigure\u001b[0m\u001b[0;34m(\u001b[0m\u001b[0mfigsize\u001b[0m\u001b[0;34m=\u001b[0m\u001b[0;34m(\u001b[0m\u001b[0;36m20\u001b[0m\u001b[0;34m,\u001b[0m \u001b[0;36m5\u001b[0m\u001b[0;34m)\u001b[0m\u001b[0;34m)\u001b[0m\u001b[0;34m\u001b[0m\u001b[0;34m\u001b[0m\u001b[0m\n\u001b[0m\u001b[1;32m      2\u001b[0m \u001b[0mplt\u001b[0m\u001b[0;34m.\u001b[0m\u001b[0mplot\u001b[0m\u001b[0;34m(\u001b[0m\u001b[0mrange\u001b[0m\u001b[0;34m(\u001b[0m\u001b[0mepochs\u001b[0m\u001b[0;34m)\u001b[0m\u001b[0;34m,\u001b[0m \u001b[0mtrain_losses\u001b[0m\u001b[0;34m)\u001b[0m\u001b[0;34m\u001b[0m\u001b[0;34m\u001b[0m\u001b[0m\n\u001b[1;32m      3\u001b[0m \u001b[0mplt\u001b[0m\u001b[0;34m.\u001b[0m\u001b[0mshow\u001b[0m\u001b[0;34m(\u001b[0m\u001b[0;34m)\u001b[0m\u001b[0;34m\u001b[0m\u001b[0;34m\u001b[0m\u001b[0m\n",
            "\u001b[0;31mNameError\u001b[0m: name 'plt' is not defined"
          ]
        }
      ]
    },
    {
      "cell_type": "code",
      "metadata": {
        "id": "YDFt6nkFEqJP",
        "outputId": "6bdcf10e-4636-475a-a131-9da9e394ac68",
        "colab": {
          "base_uri": "https://localhost:8080/",
          "height": 318
        }
      },
      "source": [
        "plt.figure(figsize=(20, 5))\n",
        "plt.plot(range(epochs), test_losses)\n",
        "plt.show()"
      ],
      "execution_count": null,
      "outputs": [
        {
          "output_type": "display_data",
          "data": {
            "image/png": "[encoded data removed]",
            "text/plain": [
              "<Figure size 1440x360 with 1 Axes>"
            ]
          },
          "metadata": {
            "tags": []
          }
        }
      ]
    },
    {
      "cell_type": "code",
      "metadata": {
        "id": "zTg1jhZLmTqE",
        "outputId": "7ddd0b8b-e33c-43cf-f9ca-4738cdf3e5bc",
        "colab": {
          "base_uri": "https://localhost:8080/",
          "height": 321
        }
      },
      "source": [
        "plt.figure(figsize=(20, 5))\n",
        "plt.plot(range(epochs), test_avg_cers)\n",
        "plt.show()"
      ],
      "execution_count": null,
      "outputs": [
        {
          "output_type": "display_data",
          "data": {
            "image/png": "[encoded data removed]",
            "text/plain": [
              "<Figure size 1440x360 with 1 Axes>"
            ]
          },
          "metadata": {
            "tags": []
          }
        }
      ]
    },
    {
      "cell_type": "code",
      "metadata": {
        "id": "iNT8mZgxmTzn",
        "outputId": "70bd0be7-431a-43e6-d004-e23778fba74a",
        "colab": {
          "base_uri": "https://localhost:8080/",
          "height": 318
        }
      },
      "source": [
        "plt.figure(figsize=(20, 5))\n",
        "plt.plot(range(epochs), test_avg_wers)\n",
        "plt.show()"
      ],
      "execution_count": null,
      "outputs": [
        {
          "output_type": "display_data",
          "data": {
            "image/png": "[encoded data removed]",
            "text/plain": [
              "<Figure size 1440x360 with 1 Axes>"
            ]
          },
          "metadata": {
            "tags": []
          }
        }
      ]
    }
  ]
}